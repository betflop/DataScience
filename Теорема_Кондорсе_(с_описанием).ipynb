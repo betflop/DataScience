{
  "nbformat": 4,
  "nbformat_minor": 0,
  "metadata": {
    "colab": {
      "name": "Теорема Кондорсе (с описанием).ipynb",
      "provenance": [],
      "collapsed_sections": [],
      "toc_visible": true,
      "include_colab_link": true
    },
    "kernelspec": {
      "name": "python3",
      "display_name": "Python 3"
    }
  },
  "cells": [
    {
      "cell_type": "markdown",
      "metadata": {
        "id": "view-in-github",
        "colab_type": "text"
      },
      "source": [
        "<a href=\"https://colab.research.google.com/github/pavlyk/DataScience/blob/master/%D0%A2%D0%B5%D0%BE%D1%80%D0%B5%D0%BC%D0%B0_%D0%9A%D0%BE%D0%BD%D0%B4%D0%BE%D1%80%D1%81%D0%B5_(%D1%81_%D0%BE%D0%BF%D0%B8%D1%81%D0%B0%D0%BD%D0%B8%D0%B5%D0%BC).ipynb\" target=\"_parent\"><img src=\"https://colab.research.google.com/assets/colab-badge.svg\" alt=\"Open In Colab\"/></a>"
      ]
    },
    {
      "cell_type": "markdown",
      "metadata": {
        "id": "lL6q_RrL3Pzt",
        "colab_type": "text"
      },
      "source": [
        "# Теорема Кондорсе"
      ]
    },
    {
      "cell_type": "markdown",
      "metadata": {
        "id": "wNeRwYb3poB3",
        "colab_type": "text"
      },
      "source": [
        "$$\\large \\sum\\limits_{i=m}^M C^i_N p^i (1-p)^{N-i} $$"
      ]
    },
    {
      "cell_type": "code",
      "metadata": {
        "id": "qiH4ODpCmFC-",
        "colab_type": "code",
        "outputId": "27a94d41-97a0-425a-9395-04f35d1c51b7",
        "colab": {
          "base_uri": "https://localhost:8080/",
          "height": 102
        }
      },
      "source": [
        "%matplotlib inline\n",
        "import matplotlib.pyplot as plt\n",
        "import math\n",
        "import numpy as np\n",
        "\n",
        "\n",
        "def fac(n):\n",
        "    if n == 0:\n",
        "        return 1\n",
        "    else:\n",
        "        return n * fac(n-1)\n",
        "  \n",
        "def Cnk(n, k):\n",
        "  return fac(n)/(fac((n-k))*fac(k))\n",
        "  \n",
        "def cond(p, M):  \n",
        "\n",
        "  R = 0\n",
        "  m = int((math.floor(M)/2)+1) # больше половины\n",
        "  \n",
        "  for i in range(m,M+1): # нас интересуют все ситуации когда больше половины проголосовали\n",
        "    st = M-i\n",
        "    pi = p**i\n",
        "    p1 = (1-p)**st\n",
        "    R = R + Cnk(M,i)*pi*p1\n",
        "    print(M, i, Cnk(M,i), pi, p1)\n",
        "    print(R)\n",
        "       \n",
        "  return R\n",
        "\n",
        "cond(0.8,4)\n",
        "\n",
        "# Мы точно знаем что все голосуют с вероятностью 0.8\n",
        "# Определим вероятность что из 3 человек 2 проголосуют верно\n",
        "# Кол-во перестановок 3 - хх0 х0х 0хх\n",
        "# 0.64 вероятность того что оба они проголосуют верно 0.8*0.8\n",
        "# 0.2 вероятность того что последний человек проголосуют не верно\n",
        "# Получим 3*0.64*0.2 = 0.384\n",
        "#___________________________\n",
        "# xx0 - 0.8 * 0.8 * 0.2\n",
        "# x0x - 0.8 * 0.2 * 0.8\n",
        "# 0xx - 0.2 * 0.8 * 0.8\n",
        "# расчитываем вероятность каждого из раскладов, а так как каждый их них нас устроит\n",
        "# то складываем их\n",
        "# 0.1280 * 3 = 0.384\n",
        "#___________________________\n",
        "\n",
        "# Определим вероятность что из 3 человек 3 проголосуют верно\n",
        "# Кол-во перестановок 1 - ххх\n",
        "# 0.512 вероятность того что оба они проголосуют верно 0.8*0.8*0.8\n",
        "# 1.0 вероятность того что последний человек проголосуют не верно (неучитываем, его нет)\n",
        "# Получим 1*0.512*1 = 0.512\n",
        "\n",
        "# Складываем вероятности 0.384+0.512 = 0.896\n"
      ],
      "execution_count": 9,
      "outputs": [
        {
          "output_type": "stream",
          "text": [
            "4 3 4.0 0.5120000000000001 0.19999999999999996\n",
            "0.4096\n",
            "4 4 1.0 0.4096000000000001 1.0\n",
            "0.8192000000000002\n"
          ],
          "name": "stdout"
        },
        {
          "output_type": "execute_result",
          "data": {
            "text/plain": [
              "0.8192000000000002"
            ]
          },
          "metadata": {
            "tags": []
          },
          "execution_count": 9
        }
      ]
    },
    {
      "cell_type": "code",
      "metadata": {
        "id": "9F8SlDssZn03",
        "colab_type": "code",
        "colab": {
          "base_uri": "https://localhost:8080/",
          "height": 34
        },
        "outputId": "bd7e60a2-d0a0-4fa0-ec41-f30c780e8284"
      },
      "source": [
        "0.8*0.2*0.8*3"
      ],
      "execution_count": 8,
      "outputs": [
        {
          "output_type": "execute_result",
          "data": {
            "text/plain": [
              "0.3840000000000001"
            ]
          },
          "metadata": {
            "tags": []
          },
          "execution_count": 8
        }
      ]
    },
    {
      "cell_type": "code",
      "metadata": {
        "id": "oXNa5zh1n0Jw",
        "colab_type": "code",
        "outputId": "40efc4ed-f43b-4721-db53-487091db9dc1",
        "colab": {
          "base_uri": "https://localhost:8080/",
          "height": 283
        }
      },
      "source": [
        "\n",
        "fig, ax = plt.subplots()\n",
        "ax.grid()\n",
        "ax.set_xlabel('p')\n",
        "ax.set_ylabel('R')\n",
        "\n",
        "x = np.arange(0, 1.1, 0.1)\n",
        "y1 = []\n",
        "\n",
        "for xx in x:\n",
        "#   print(xx)\n",
        "  y1.append(cond(xx,15))\n",
        "  \n",
        "plt.plot(x, y1)\n",
        "\n",
        "y2 = []\n",
        "for xx in x:\n",
        "  y2.append(cond(xx,3))\n",
        "  \n",
        "plt.plot(x, y2)\n",
        "\n",
        "y3 = []\n",
        "for xx in x:\n",
        "  y3.append(cond(xx,1))\n",
        "  \n",
        "plt.plot(x, y3)\n",
        "\n",
        "plt.show()"
      ],
      "execution_count": 0,
      "outputs": [
        {
          "output_type": "display_data",
          "data": {
            "image/png": "[encoded data removed]",
            "text/plain": [
              "<Figure size 432x288 with 1 Axes>"
            ]
          },
          "metadata": {
            "tags": []
          }
        }
      ]
    },
    {
      "cell_type": "code",
      "metadata": {
        "id": "jKvbrF9m5b3d",
        "colab_type": "code",
        "outputId": "f636d84c-7395-4bc8-98ae-1185fc705fe8",
        "colab": {
          "base_uri": "https://localhost:8080/",
          "height": 359
        }
      },
      "source": [
        "import pandas as pd\n",
        "d = {\"calls\":np.array([1, 1, 2, 1, 2, 3, 4, 5, 2, 1]),\"churn\":np.array([0, 0, 0, 0, 0, 1, 1 ,1, 1, 0])}\n",
        "df1 = pd.DataFrame(d)\n",
        "df1"
      ],
      "execution_count": 0,
      "outputs": [
        {
          "output_type": "execute_result",
          "data": {
            "text/html": [
              "<div>\n",
              "<style scoped>\n",
              "    .dataframe tbody tr th:only-of-type {\n",
              "        vertical-align: middle;\n",
              "    }\n",
              "\n",
              "    .dataframe tbody tr th {\n",
              "        vertical-align: top;\n",
              "    }\n",
              "\n",
              "    .dataframe thead th {\n",
              "        text-align: right;\n",
              "    }\n",
              "</style>\n",
              "<table border=\"1\" class=\"dataframe\">\n",
              "  <thead>\n",
              "    <tr style=\"text-align: right;\">\n",
              "      <th></th>\n",
              "      <th>calls</th>\n",
              "      <th>churn</th>\n",
              "    </tr>\n",
              "  </thead>\n",
              "  <tbody>\n",
              "    <tr>\n",
              "      <th>0</th>\n",
              "      <td>1</td>\n",
              "      <td>0</td>\n",
              "    </tr>\n",
              "    <tr>\n",
              "      <th>1</th>\n",
              "      <td>1</td>\n",
              "      <td>0</td>\n",
              "    </tr>\n",
              "    <tr>\n",
              "      <th>2</th>\n",
              "      <td>2</td>\n",
              "      <td>0</td>\n",
              "    </tr>\n",
              "    <tr>\n",
              "      <th>3</th>\n",
              "      <td>1</td>\n",
              "      <td>0</td>\n",
              "    </tr>\n",
              "    <tr>\n",
              "      <th>4</th>\n",
              "      <td>2</td>\n",
              "      <td>0</td>\n",
              "    </tr>\n",
              "    <tr>\n",
              "      <th>5</th>\n",
              "      <td>3</td>\n",
              "      <td>1</td>\n",
              "    </tr>\n",
              "    <tr>\n",
              "      <th>6</th>\n",
              "      <td>4</td>\n",
              "      <td>1</td>\n",
              "    </tr>\n",
              "    <tr>\n",
              "      <th>7</th>\n",
              "      <td>5</td>\n",
              "      <td>1</td>\n",
              "    </tr>\n",
              "    <tr>\n",
              "      <th>8</th>\n",
              "      <td>2</td>\n",
              "      <td>1</td>\n",
              "    </tr>\n",
              "    <tr>\n",
              "      <th>9</th>\n",
              "      <td>1</td>\n",
              "      <td>0</td>\n",
              "    </tr>\n",
              "  </tbody>\n",
              "</table>\n",
              "</div>"
            ],
            "text/plain": [
              "   calls  churn\n",
              "0      1      0\n",
              "1      1      0\n",
              "2      2      0\n",
              "3      1      0\n",
              "4      2      0\n",
              "5      3      1\n",
              "6      4      1\n",
              "7      5      1\n",
              "8      2      1\n",
              "9      1      0"
            ]
          },
          "metadata": {
            "tags": []
          },
          "execution_count": 73
        }
      ]
    },
    {
      "cell_type": "code",
      "metadata": {
        "id": "fKStS_Q9Ypzw",
        "colab_type": "code",
        "outputId": "42151d3b-3b7c-4cf7-92b9-902d285a76d1",
        "colab": {
          "base_uri": "https://localhost:8080/",
          "height": 283
        }
      },
      "source": [
        "import seaborn as sns\n",
        "\n",
        "fig = sns.kdeplot(df1[df1['churn'] == 0]['calls'], label = 'Loyal')\n",
        "fig = sns.kdeplot(df1[df1['churn'] == 1]['calls'], label = 'Churn')        \n",
        "fig.set(xlabel='Количество звонков', ylabel='Плотность')    \n",
        "plt.grid()\n",
        "plt.show()"
      ],
      "execution_count": 0,
      "outputs": [
        {
          "output_type": "display_data",
          "data": {
            "image/png": "[encoded data removed]",
            "text/plain": [
              "<Figure size 432x288 with 1 Axes>"
            ]
          },
          "metadata": {
            "tags": []
          }
        }
      ]
    },
    {
      "cell_type": "code",
      "metadata": {
        "id": "i7KupPd7aCo2",
        "colab_type": "code",
        "outputId": "155429c4-32a8-4674-ee01-6334af9ae62b",
        "colab": {
          "base_uri": "https://localhost:8080/",
          "height": 269
        }
      },
      "source": [
        "plt.hist(df1[df1['churn'] == 0]['calls'])\n",
        "plt.show()"
      ],
      "execution_count": 0,
      "outputs": [
        {
          "output_type": "display_data",
          "data": {
            "image/png": "[encoded data removed]",
            "text/plain": [
              "<Figure size 432x288 with 1 Axes>"
            ]
          },
          "metadata": {
            "tags": []
          }
        }
      ]
    },
    {
      "cell_type": "code",
      "metadata": {
        "id": "5cWdg85Kat5J",
        "colab_type": "code",
        "outputId": "172ad502-2610-4c6b-fafd-a9e22d8988b9",
        "colab": {
          "base_uri": "https://localhost:8080/",
          "height": 122
        }
      },
      "source": [
        "from google.colab import drive\n",
        "drive.mount('/content/drive/')"
      ],
      "execution_count": 0,
      "outputs": [
        {
          "output_type": "stream",
          "text": [
            "Go to this URL in a browser: https://accounts.google.com/o/oauth2/auth?client_id=947318989803-6bn6qk8qdgf4n4g3pfee6491hc0brc4i.apps.googleusercontent.com&redirect_uri=urn%3Aietf%3Awg%3Aoauth%3A2.0%3Aoob&scope=email%20https%3A%2F%2Fwww.googleapis.com%2Fauth%2Fdocs.test%20https%3A%2F%2Fwww.googleapis.com%2Fauth%2Fdrive%20https%3A%2F%2Fwww.googleapis.com%2Fauth%2Fdrive.photos.readonly%20https%3A%2F%2Fwww.googleapis.com%2Fauth%2Fpeopleapi.readonly&response_type=code\n",
            "\n",
            "Enter your authorization code:\n",
            "··········\n",
            "Mounted at /content/drive/\n"
          ],
          "name": "stdout"
        }
      ]
    },
    {
      "cell_type": "code",
      "metadata": {
        "id": "-CxNji7PElak",
        "colab_type": "code",
        "colab": {}
      },
      "source": [
        "from pathlib import Path\n",
        "import pandas as pd\n",
        "PATH_TO_DATA = Path('drive/My Drive/_ODS/data/')\n",
        "telecom_data = pd.read_csv(PATH_TO_DATA / 'telecom_churn.csv')"
      ],
      "execution_count": 0,
      "outputs": []
    },
    {
      "cell_type": "code",
      "metadata": {
        "id": "lV2i98cNFGWk",
        "colab_type": "code",
        "outputId": "eae3f6e2-dcfb-49a1-bc06-089fabcdd1e7",
        "colab": {
          "base_uri": "https://localhost:8080/",
          "height": 238
        }
      },
      "source": [
        "telecom_data.head()"
      ],
      "execution_count": 0,
      "outputs": [
        {
          "output_type": "execute_result",
          "data": {
            "text/html": [
              "<div>\n",
              "<style scoped>\n",
              "    .dataframe tbody tr th:only-of-type {\n",
              "        vertical-align: middle;\n",
              "    }\n",
              "\n",
              "    .dataframe tbody tr th {\n",
              "        vertical-align: top;\n",
              "    }\n",
              "\n",
              "    .dataframe thead th {\n",
              "        text-align: right;\n",
              "    }\n",
              "</style>\n",
              "<table border=\"1\" class=\"dataframe\">\n",
              "  <thead>\n",
              "    <tr style=\"text-align: right;\">\n",
              "      <th></th>\n",
              "      <th>State</th>\n",
              "      <th>Account length</th>\n",
              "      <th>Area code</th>\n",
              "      <th>International plan</th>\n",
              "      <th>Voice mail plan</th>\n",
              "      <th>Number vmail messages</th>\n",
              "      <th>Total day minutes</th>\n",
              "      <th>Total day calls</th>\n",
              "      <th>Total day charge</th>\n",
              "      <th>Total eve minutes</th>\n",
              "      <th>Total eve calls</th>\n",
              "      <th>Total eve charge</th>\n",
              "      <th>Total night minutes</th>\n",
              "      <th>Total night calls</th>\n",
              "      <th>Total night charge</th>\n",
              "      <th>Total intl minutes</th>\n",
              "      <th>Total intl calls</th>\n",
              "      <th>Total intl charge</th>\n",
              "      <th>Customer service calls</th>\n",
              "      <th>Churn</th>\n",
              "    </tr>\n",
              "  </thead>\n",
              "  <tbody>\n",
              "    <tr>\n",
              "      <th>0</th>\n",
              "      <td>KS</td>\n",
              "      <td>128</td>\n",
              "      <td>415</td>\n",
              "      <td>No</td>\n",
              "      <td>Yes</td>\n",
              "      <td>25</td>\n",
              "      <td>265.1</td>\n",
              "      <td>110</td>\n",
              "      <td>45.07</td>\n",
              "      <td>197.4</td>\n",
              "      <td>99</td>\n",
              "      <td>16.78</td>\n",
              "      <td>244.7</td>\n",
              "      <td>91</td>\n",
              "      <td>11.01</td>\n",
              "      <td>10.0</td>\n",
              "      <td>3</td>\n",
              "      <td>2.70</td>\n",
              "      <td>1</td>\n",
              "      <td>False</td>\n",
              "    </tr>\n",
              "    <tr>\n",
              "      <th>1</th>\n",
              "      <td>OH</td>\n",
              "      <td>107</td>\n",
              "      <td>415</td>\n",
              "      <td>No</td>\n",
              "      <td>Yes</td>\n",
              "      <td>26</td>\n",
              "      <td>161.6</td>\n",
              "      <td>123</td>\n",
              "      <td>27.47</td>\n",
              "      <td>195.5</td>\n",
              "      <td>103</td>\n",
              "      <td>16.62</td>\n",
              "      <td>254.4</td>\n",
              "      <td>103</td>\n",
              "      <td>11.45</td>\n",
              "      <td>13.7</td>\n",
              "      <td>3</td>\n",
              "      <td>3.70</td>\n",
              "      <td>1</td>\n",
              "      <td>False</td>\n",
              "    </tr>\n",
              "    <tr>\n",
              "      <th>2</th>\n",
              "      <td>NJ</td>\n",
              "      <td>137</td>\n",
              "      <td>415</td>\n",
              "      <td>No</td>\n",
              "      <td>No</td>\n",
              "      <td>0</td>\n",
              "      <td>243.4</td>\n",
              "      <td>114</td>\n",
              "      <td>41.38</td>\n",
              "      <td>121.2</td>\n",
              "      <td>110</td>\n",
              "      <td>10.30</td>\n",
              "      <td>162.6</td>\n",
              "      <td>104</td>\n",
              "      <td>7.32</td>\n",
              "      <td>12.2</td>\n",
              "      <td>5</td>\n",
              "      <td>3.29</td>\n",
              "      <td>0</td>\n",
              "      <td>False</td>\n",
              "    </tr>\n",
              "    <tr>\n",
              "      <th>3</th>\n",
              "      <td>OH</td>\n",
              "      <td>84</td>\n",
              "      <td>408</td>\n",
              "      <td>Yes</td>\n",
              "      <td>No</td>\n",
              "      <td>0</td>\n",
              "      <td>299.4</td>\n",
              "      <td>71</td>\n",
              "      <td>50.90</td>\n",
              "      <td>61.9</td>\n",
              "      <td>88</td>\n",
              "      <td>5.26</td>\n",
              "      <td>196.9</td>\n",
              "      <td>89</td>\n",
              "      <td>8.86</td>\n",
              "      <td>6.6</td>\n",
              "      <td>7</td>\n",
              "      <td>1.78</td>\n",
              "      <td>2</td>\n",
              "      <td>False</td>\n",
              "    </tr>\n",
              "    <tr>\n",
              "      <th>4</th>\n",
              "      <td>OK</td>\n",
              "      <td>75</td>\n",
              "      <td>415</td>\n",
              "      <td>Yes</td>\n",
              "      <td>No</td>\n",
              "      <td>0</td>\n",
              "      <td>166.7</td>\n",
              "      <td>113</td>\n",
              "      <td>28.34</td>\n",
              "      <td>148.3</td>\n",
              "      <td>122</td>\n",
              "      <td>12.61</td>\n",
              "      <td>186.9</td>\n",
              "      <td>121</td>\n",
              "      <td>8.41</td>\n",
              "      <td>10.1</td>\n",
              "      <td>3</td>\n",
              "      <td>2.73</td>\n",
              "      <td>3</td>\n",
              "      <td>False</td>\n",
              "    </tr>\n",
              "  </tbody>\n",
              "</table>\n",
              "</div>"
            ],
            "text/plain": [
              "  State  Account length  ...  Customer service calls  Churn\n",
              "0    KS             128  ...                       1  False\n",
              "1    OH             107  ...                       1  False\n",
              "2    NJ             137  ...                       0  False\n",
              "3    OH              84  ...                       2  False\n",
              "4    OK              75  ...                       3  False\n",
              "\n",
              "[5 rows x 20 columns]"
            ]
          },
          "metadata": {
            "tags": []
          },
          "execution_count": 4
        }
      ]
    },
    {
      "cell_type": "code",
      "metadata": {
        "id": "narn0xzfFLc7",
        "colab_type": "code",
        "outputId": "b01aab2a-6469-4aa6-cf2a-43a84d6b8e7e",
        "colab": {
          "base_uri": "https://localhost:8080/",
          "height": 286
        }
      },
      "source": [
        "from matplotlib import pyplot as plt\n",
        "plt.style.use('ggplot')\n",
        "plt.rcParams['figure.figsize'] = 10, 6\n",
        "import seaborn as sns\n",
        "import numpy as np\n",
        "%matplotlib inline\n",
        "\n",
        "fig = sns.kdeplot(telecom_data[telecom_data['Churn'] == False]['Customer service calls'], label = 'Loyal')\n",
        "fig = sns.kdeplot(telecom_data[telecom_data['Churn'] == True]['Customer service calls'], label = 'Churn')        \n",
        "fig.set(xlabel='Количество звонков', ylabel='Плотность')    \n",
        "plt.show()"
      ],
      "execution_count": 0,
      "outputs": [
        {
          "output_type": "display_data",
          "data": {
            "image/png": "[encoded data removed]",
            "text/plain": [
              "<Figure size 432x288 with 1 Axes>"
            ]
          },
          "metadata": {
            "tags": []
          }
        }
      ]
    },
    {
      "cell_type": "code",
      "metadata": {
        "id": "XP5Y4cMLFNx8",
        "colab_type": "code",
        "outputId": "87d4295c-de57-4a91-adfb-ceab9b78f56f",
        "colab": {
          "base_uri": "https://localhost:8080/",
          "height": 34
        }
      },
      "source": [
        "loyal_calls = telecom_data[telecom_data['Churn'] == False]['Customer service calls'].values\n",
        "loyal_calls.shape"
      ],
      "execution_count": 0,
      "outputs": [
        {
          "output_type": "execute_result",
          "data": {
            "text/plain": [
              "(2850,)"
            ]
          },
          "metadata": {
            "tags": []
          },
          "execution_count": 14
        }
      ]
    },
    {
      "cell_type": "code",
      "metadata": {
        "id": "JW7zEjXqGOdj",
        "colab_type": "code",
        "outputId": "0d071c48-8883-4277-cc64-09fe0b3b2385",
        "colab": {
          "base_uri": "https://localhost:8080/",
          "height": 68
        }
      },
      "source": [
        "np.random.randint(5, size=(3, 4)) # Сгенерировать выборку из чисел от 0 до 5 , размером 3 массива по 4 числа"
      ],
      "execution_count": 0,
      "outputs": [
        {
          "output_type": "execute_result",
          "data": {
            "text/plain": [
              "array([[2, 4, 0, 3],\n",
              "       [4, 2, 2, 2],\n",
              "       [2, 2, 2, 0]])"
            ]
          },
          "metadata": {
            "tags": []
          },
          "execution_count": 21
        }
      ]
    },
    {
      "cell_type": "code",
      "metadata": {
        "id": "qAFS3yRwGyWh",
        "colab_type": "code",
        "outputId": "bef130e4-1f92-4a26-e9a5-72d8a60ea874",
        "colab": {
          "base_uri": "https://localhost:8080/",
          "height": 136
        }
      },
      "source": [
        "np.random.randint(0, len(loyal_calls), (100, len(loyal_calls)))"
      ],
      "execution_count": 0,
      "outputs": [
        {
          "output_type": "execute_result",
          "data": {
            "text/plain": [
              "array([[1253, 2791,  978, ..., 1155, 2545,  518],\n",
              "       [ 135, 2101,  949, ..., 1404, 2162, 2778],\n",
              "       [1612, 1203, 1442, ..., 1663, 1423, 2798],\n",
              "       ...,\n",
              "       [2239,   90, 1550, ..., 2141, 2469, 1735],\n",
              "       [1584, 1466, 1168, ..., 1763,  640, 2222],\n",
              "       [ 135, 1376,  713, ..., 2780, 1037, 2612]])"
            ]
          },
          "metadata": {
            "tags": []
          },
          "execution_count": 28
        }
      ]
    },
    {
      "cell_type": "code",
      "metadata": {
        "id": "YP7Ma_J-Fjzj",
        "colab_type": "code",
        "colab": {}
      },
      "source": [
        "np.random.seed(0)\n",
        "\n",
        "def get_bootstrap_samples(data, n_samples):\n",
        "    # функция для генерации подвыборок с помощью бутстрэпа\n",
        "    indices = np.random.randint(0, len(data), (n_samples, len(data))) # numpy.random.randint(low, high=None, size=None, dtype='l')\n",
        "    samples = data[indices]\n",
        "    return samples\n",
        "\n",
        "[sample for sample in get_bootstrap_samples(loyal_calls, 1000)] # Создаем 1000 массивов из числе от 1 до len(data)"
      ],
      "execution_count": 0,
      "outputs": []
    },
    {
      "cell_type": "code",
      "metadata": {
        "id": "siY0vsOBIjkv",
        "colab_type": "code",
        "outputId": "1a54f4c1-71df-429e-d926-18f52fe00d41",
        "colab": {
          "base_uri": "https://localhost:8080/",
          "height": 34
        }
      },
      "source": [
        "np.random.randint(0, len(loyal_calls), (100, len(loyal_calls))).shape"
      ],
      "execution_count": 0,
      "outputs": [
        {
          "output_type": "execute_result",
          "data": {
            "text/plain": [
              "(100, 2850)"
            ]
          },
          "metadata": {
            "tags": []
          },
          "execution_count": 32
        }
      ]
    },
    {
      "cell_type": "code",
      "metadata": {
        "id": "h42JxmxTHsSW",
        "colab_type": "code",
        "outputId": "538ea2a5-bac7-4fad-aede-0b15f472fba4",
        "colab": {
          "base_uri": "https://localhost:8080/",
          "height": 51
        }
      },
      "source": [
        "# Create a 2D Numpy Array like Matrix\n",
        "matrixArr = np.array( [ [1, 2, 3],\n",
        "                          [ 3, 2, 1] ])\n",
        "# l = np.append(l,[[1, 2],[2, 1]],axis=0)\n",
        "# l = np.append(l,[2,1],axis=0)\n",
        "# print(matrixArr)\n",
        "loyal_calls[matrixArr]"
      ],
      "execution_count": 0,
      "outputs": [
        {
          "output_type": "execute_result",
          "data": {
            "text/plain": [
              "array([[1, 0, 2],\n",
              "       [2, 0, 1]])"
            ]
          },
          "metadata": {
            "tags": []
          },
          "execution_count": 51
        }
      ]
    },
    {
      "cell_type": "code",
      "metadata": {
        "id": "sD9x5qOzLUq2",
        "colab_type": "code",
        "outputId": "3f4c44f3-e0a1-443e-f876-c4c647948bfa",
        "colab": {
          "base_uri": "https://localhost:8080/",
          "height": 34
        }
      },
      "source": [
        "np.percentile([0,1,1,1,1,2,10,10,10,10,10],[10,90])"
      ],
      "execution_count": 0,
      "outputs": [
        {
          "output_type": "execute_result",
          "data": {
            "text/plain": [
              "array([ 1., 10.])"
            ]
          },
          "metadata": {
            "tags": []
          },
          "execution_count": 77
        }
      ]
    },
    {
      "cell_type": "code",
      "metadata": {
        "id": "f7H_RJ12MIVu",
        "colab_type": "code",
        "outputId": "dc94be24-9adf-472d-9baf-86dfc9cadbe4",
        "colab": {
          "base_uri": "https://localhost:8080/",
          "height": 34
        }
      },
      "source": [
        "[100 * 0.05 / 2., 100 * (1 - 0.05 / 2.)]"
      ],
      "execution_count": 0,
      "outputs": [
        {
          "output_type": "execute_result",
          "data": {
            "text/plain": [
              "[2.5, 97.5]"
            ]
          },
          "metadata": {
            "tags": []
          },
          "execution_count": 56
        }
      ]
    },
    {
      "cell_type": "code",
      "metadata": {
        "id": "fEHskFsCFTeD",
        "colab_type": "code",
        "outputId": "f72ad787-8084-4144-c294-de4b6a948a9b",
        "colab": {
          "base_uri": "https://localhost:8080/",
          "height": 51
        }
      },
      "source": [
        "def get_bootstrap_samples(data, n_samples):\n",
        "    # функция для генерации подвыборок с помощью бутстрэпа\n",
        "    indices = np.random.randint(0, len(data), (n_samples, len(data)))\n",
        "    samples = data[indices] # Возвращает 100 массивов по массиву 2850 значений \n",
        "    return samples\n",
        "def stat_intervals(stat, alpha):\n",
        "    # функция для интервальной оценки\n",
        "    boundaries = np.percentile(stat, [100 * alpha / 2., 100 * (1 - alpha / 2.)])\n",
        "    return boundaries\n",
        "\n",
        "# сохранение в отдельные numpy массивы данных по лояльным и уже бывшим клиентам\n",
        "loyal_calls = telecom_data[telecom_data['Churn'] == False]['Customer service calls'].values\n",
        "churn_calls= telecom_data[telecom_data['Churn'] == True]['Customer service calls'].values\n",
        "\n",
        "# ставим seed для воспроизводимости результатов\n",
        "np.random.seed(0)\n",
        "\n",
        "# генерируем выборки с помощью бутстрэра и сразу считаем по каждой из них среднее\n",
        "loyal_mean_scores = [np.mean(sample) \n",
        "                       for sample in get_bootstrap_samples(loyal_calls, 1000)] # формируем массив из 1000 средних\n",
        "churn_mean_scores = [np.mean(sample) \n",
        "                       for sample in get_bootstrap_samples(churn_calls, 1000)]\n",
        "\n",
        "\n",
        "#  выводим интервальную оценку среднего\n",
        "print(\"Service calls from loyal:  mean interval\",  stat_intervals(loyal_mean_scores, 0.05)) # Прецентиль от [2.5, 97.5]\n",
        "print(\"Service calls from churn:  mean interval\",  stat_intervals(churn_mean_scores, 0.05))\n",
        "\n",
        "# В итоге мы получили, что с 95% вероятностью среднее число звонков от лояльных клиентов будет лежать в промежутке между 1.40 и 1.50"
      ],
      "execution_count": 0,
      "outputs": [
        {
          "output_type": "stream",
          "text": [
            "Service calls from loyal:  mean interval [1.4077193  1.49473684]\n",
            "Service calls from churn:  mean interval [2.0621118  2.39761905]\n"
          ],
          "name": "stdout"
        }
      ]
    },
    {
      "cell_type": "code",
      "metadata": {
        "id": "__x73wwjLDHY",
        "colab_type": "code",
        "colab": {}
      },
      "source": [
        ""
      ],
      "execution_count": 0,
      "outputs": []
    }
  ]
}