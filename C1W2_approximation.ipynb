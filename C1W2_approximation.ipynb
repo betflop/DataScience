{
  "nbformat": 4,
  "nbformat_minor": 0,
  "metadata": {
    "colab": {
      "name": "C1W2_approximation.ipynb",
      "provenance": [],
      "collapsed_sections": [],
      "include_colab_link": true
    },
    "kernelspec": {
      "display_name": "Python 3",
      "language": "python",
      "name": "python3"
    }
  },
  "cells": [
    {
      "cell_type": "markdown",
      "metadata": {
        "id": "view-in-github",
        "colab_type": "text"
      },
      "source": [
        "<a href=\"https://colab.research.google.com/github/pavlyk/DataScience/blob/master/C1W2_approximation.ipynb\" target=\"_parent\"><img src=\"https://colab.research.google.com/assets/colab-badge.svg\" alt=\"Open In Colab\"/></a>"
      ]
    },
    {
      "cell_type": "markdown",
      "metadata": {
        "id": "avtITDHKHmH3",
        "colab_type": "text"
      },
      "source": [
        "Берем многочлен первой степени w0 + w1*x = y\n",
        "\n",
        "Подставляем в него x (1 и 5) и y (вычисляем f от x)\n",
        "\n",
        "В точке 1 получаем: w0 + w1 * 1 = sin(1/5) * exp(1/10) + 5*exp(-1/2)\n",
        "\n",
        "В точке 15 получаем: w0 + w1 * 15 = sin(15/5) * exp(15/10) + 5*exp(-15/2)\n",
        "\n",
        "\n",
        "Получаем систему уравнений:\n",
        "w0 + 1 * w1 = 3.252\n",
        "w0 + 15 * w1 = 0.635\n",
        "\n",
        "w0+w1+w2+w3=3.252\n",
        "\n",
        "w0+4w1+16w2+64w3=0.6958\n",
        "\n",
        "w0+10w1+100w2+1000w3=0.1286\n",
        "\n",
        "w0+15w1+225w2+3375w3=0.635"
      ]
    },
    {
      "cell_type": "code",
      "metadata": {
        "id": "ahGV72DbHmH6",
        "colab_type": "code",
        "colab": {}
      },
      "source": [
        "import numpy as np\n",
        "import math\n",
        "import scipy"
      ],
      "execution_count": 0,
      "outputs": []
    },
    {
      "cell_type": "markdown",
      "metadata": {
        "id": "3MgFe50kHmIA",
        "colab_type": "text"
      },
      "source": [
        "f(x) = sin(x / 5) * exp(x / 10) + 5 * exp(-x / 2)"
      ]
    },
    {
      "cell_type": "code",
      "metadata": {
        "scrolled": true,
        "id": "2ZEUrmwLHmIB",
        "colab_type": "code",
        "outputId": "f53f5e4c-464e-4901-b8a7-ebba9222fb9e",
        "colab": {
          "base_uri": "https://localhost:8080/",
          "height": 85
        }
      },
      "source": [
        "first = math.sin(1/5) * math.exp(1/10) + 5 * math.exp(-1/2)\n",
        "second = math.sin(15/5) * math.exp(15/10) + 5 * math.exp(-15/2)\n",
        "\n",
        "print(first, second)\n",
        "\n",
        "a = np.array([[1, 1], [1, 15]])\n",
        "b = np.array([first, second])\n",
        "x = np.linalg.solve(a,b)\n",
        "\n",
        "print(a)\n",
        "print(x)\n"
      ],
      "execution_count": 0,
      "outputs": [
        {
          "output_type": "stream",
          "text": [
            "3.252216865271419 0.6352214195786656\n",
            "[[ 1  1]\n",
            " [ 1 15]]\n",
            "[ 3.43914511 -0.18692825]\n"
          ],
          "name": "stdout"
        }
      ]
    },
    {
      "cell_type": "code",
      "metadata": {
        "id": "NvbA6WhwhXcP",
        "colab_type": "code",
        "outputId": "64b141f2-3299-41be-dc4b-e4f6c8782aa1",
        "colab": {
          "base_uri": "https://localhost:8080/",
          "height": 34
        }
      },
      "source": [
        "3.43914511+-0.18692825*15"
      ],
      "execution_count": 0,
      "outputs": [
        {
          "output_type": "execute_result",
          "data": {
            "text/plain": [
              "0.6352213600000001"
            ]
          },
          "metadata": {
            "tags": []
          },
          "execution_count": 3
        }
      ]
    },
    {
      "cell_type": "code",
      "metadata": {
        "id": "pKys9rY4HmIH",
        "colab_type": "code",
        "colab": {}
      },
      "source": [
        "%matplotlib inline\n",
        "import matplotlib.pyplot as plt"
      ],
      "execution_count": 0,
      "outputs": []
    },
    {
      "cell_type": "code",
      "metadata": {
        "id": "2hp3wwl4HmIK",
        "colab_type": "code",
        "outputId": "a0a1c3a1-30d8-4151-fe85-259374f9f602",
        "colab": {
          "base_uri": "https://localhost:8080/",
          "height": 265
        }
      },
      "source": [
        "def apr(x):\n",
        "    return math.sin(x/5) * math.exp(x/10) + 5 * math.exp(-x/2)\n",
        "\n",
        "def apr1(x):\n",
        "    return 3.43914511 + -0.18692825 * x\n",
        "\n",
        "x = [0,1,2,3,4,5,6,7,8,9,10,11,12,13,14,15]\n",
        "y = []\n",
        "z = []\n",
        "\n",
        "for s in x:\n",
        "    y.append(apr(s))\n",
        "\n",
        "for d in x:\n",
        "    z.append(apr1(d)) \n",
        "    \n",
        "plt.plot(x, y)\n",
        "plt.plot(x, z,'----')\n",
        "plt.show()"
      ],
      "execution_count": 0,
      "outputs": [
        {
          "output_type": "display_data",
          "data": {
            "image/png": "[encoded data removed]",
            "text/plain": [
              "<Figure size 432x288 with 1 Axes>"
            ]
          },
          "metadata": {
            "tags": []
          }
        }
      ]
    },
    {
      "cell_type": "code",
      "metadata": {
        "id": "-52qnvJNHmIN",
        "colab_type": "code",
        "outputId": "5193658d-7e05-46cb-f350-bb5381d72e19",
        "colab": {
          "base_uri": "https://localhost:8080/",
          "height": 367
        }
      },
      "source": [
        "first = math.sin(1/5) * math.exp(1/10) + 5 * math.exp(-1/2)\n",
        "second = math.sin(4/5) * math.exp(4/10) + 5 * math.exp(-4/2)\n",
        "third = math.sin(10/5) * math.exp(10/10) + 5 * math.exp(-10/2)\n",
        "fourth = math.sin(15/5) * math.exp(15/10) + 5 * math.exp(-15/2)\n",
        "\n",
        "a1 = np.array([[1., 1. ,1. ,1.], [1., 4., 16., 64.], [1., 10., 100., 1000.], [1., 15., 225., 3375.]])\n",
        "b1 = np.array([first, second, third, fourth])\n",
        "\n",
        "print('a', a1)\n",
        "print('b', b1)\n",
        "s1 = np.linalg.solve(a1,b1)\n",
        "print('s1', s1)\n",
        "\n",
        "def apr2(x):\n",
        "    return 4.36264154 + -1.29552587 * x + 0.19333685 * x**2 + -0.00823565 * x**3\n",
        "\n",
        "z = []\n",
        "for d in x:\n",
        "    z.append(apr2(d))\n",
        "\n",
        "plt.plot(x, y)\n",
        "plt.plot([1,4,10,15],[first,second,third,fourth],'x')\n",
        "plt.plot(x, z,'----')\n",
        "plt.show()\n",
        "\n",
        "# a [[1.000e+00 1.000e+00 1.000e+00 1.000e+00]\n",
        "#  [1.000e+00 4.000e+00 1.600e+01 6.400e+01]\n",
        "#  [1.000e+00 1.000e+01 1.000e+02 1.000e+03]\n",
        "#  [1.000e+00 1.500e+01 2.250e+02 3.375e+03]]\n",
        "# b [3.25221687 1.74684595 2.50541641 0.63522142]\n",
        "# s3 [ 4.36264154 -1.29552587  0.19333685 -0.00823565]\n",
        "\n"
      ],
      "execution_count": 0,
      "outputs": [
        {
          "output_type": "stream",
          "text": [
            "a [[1.000e+00 1.000e+00 1.000e+00 1.000e+00]\n",
            " [1.000e+00 4.000e+00 1.600e+01 6.400e+01]\n",
            " [1.000e+00 1.000e+01 1.000e+02 1.000e+03]\n",
            " [1.000e+00 1.500e+01 2.250e+02 3.375e+03]]\n",
            "b [3.25221687 1.74684595 2.50541641 0.63522142]\n",
            "s1 [ 4.36264154 -1.29552587  0.19333685 -0.00823565]\n"
          ],
          "name": "stdout"
        },
        {
          "output_type": "display_data",
          "data": {
            "image/png": "[encoded data removed]",
            "text/plain": [
              "<Figure size 432x288 with 1 Axes>"
            ]
          },
          "metadata": {
            "tags": []
          }
        }
      ]
    },
    {
      "cell_type": "code",
      "metadata": {
        "id": "giVV6F8jHmIQ",
        "colab_type": "code",
        "outputId": "f806cc67-98b8-49d6-e457-21c7d5da8cb3",
        "colab": {
          "base_uri": "https://localhost:8080/",
          "height": 34
        }
      },
      "source": [
        "a = np.array([[1, 1, 1], [1, 3, 9], [1, 2, 4]])\n",
        "b = np.array([5, 3, 5])\n",
        "x = np.linalg.solve(a,b)\n",
        "print(x)"
      ],
      "execution_count": 0,
      "outputs": [
        {
          "output_type": "stream",
          "text": [
            "[ 3.  3. -1.]\n"
          ],
          "name": "stdout"
        }
      ]
    },
    {
      "cell_type": "code",
      "metadata": {
        "id": "WwDQP4oZ0rbr",
        "colab_type": "code",
        "colab": {}
      },
      "source": [
        ""
      ],
      "execution_count": 0,
      "outputs": []
    }
  ]
}