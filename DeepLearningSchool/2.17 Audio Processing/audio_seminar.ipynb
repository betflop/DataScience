{
  "nbformat": 4,
  "nbformat_minor": 0,
  "metadata": {
    "colab": {
      "name": "Копия блокнота \"audio_seminar.ipynb\"",
      "provenance": [],
      "machine_shape": "hm"
    },
    "kernelspec": {
      "name": "python3",
      "display_name": "Python 3"
    },
    "widgets": {
      "application/vnd.jupyter.widget-state+json": {
        "da98926e38894529bcb93057ce70b2d1": {
          "model_module": "@jupyter-widgets/controls",
          "model_name": "HBoxModel",
          "state": {
            "_view_name": "HBoxView",
            "_dom_classes": [],
            "_model_name": "HBoxModel",
            "_view_module": "@jupyter-widgets/controls",
            "_model_module_version": "1.5.0",
            "_view_count": null,
            "_view_module_version": "1.5.0",
            "box_style": "",
            "layout": "IPY_MODEL_cafda52b7315464a9f6c980198bdefa4",
            "_model_module": "@jupyter-widgets/controls",
            "children": [
              "IPY_MODEL_0c5b369c2d69459596a6a5d5136c6d45",
              "IPY_MODEL_8e72c63af2ac47cba8a16a4a585c3a81"
            ]
          }
        },
        "cafda52b7315464a9f6c980198bdefa4": {
          "model_module": "@jupyter-widgets/base",
          "model_name": "LayoutModel",
          "state": {
            "_view_name": "LayoutView",
            "grid_template_rows": null,
            "right": null,
            "justify_content": null,
            "_view_module": "@jupyter-widgets/base",
            "overflow": null,
            "_model_module_version": "1.2.0",
            "_view_count": null,
            "flex_flow": null,
            "width": null,
            "min_width": null,
            "border": null,
            "align_items": null,
            "bottom": null,
            "_model_module": "@jupyter-widgets/base",
            "top": null,
            "grid_column": null,
            "overflow_y": null,
            "overflow_x": null,
            "grid_auto_flow": null,
            "grid_area": null,
            "grid_template_columns": null,
            "flex": null,
            "_model_name": "LayoutModel",
            "justify_items": null,
            "grid_row": null,
            "max_height": null,
            "align_content": null,
            "visibility": null,
            "align_self": null,
            "height": null,
            "min_height": null,
            "padding": null,
            "grid_auto_rows": null,
            "grid_gap": null,
            "max_width": null,
            "order": null,
            "_view_module_version": "1.2.0",
            "grid_template_areas": null,
            "object_position": null,
            "object_fit": null,
            "grid_auto_columns": null,
            "margin": null,
            "display": null,
            "left": null
          }
        },
        "0c5b369c2d69459596a6a5d5136c6d45": {
          "model_module": "@jupyter-widgets/controls",
          "model_name": "FloatProgressModel",
          "state": {
            "_view_name": "ProgressView",
            "style": "IPY_MODEL_d7947636e60f494a8abbd83c2197f103",
            "_dom_classes": [],
            "description": "100%",
            "_model_name": "FloatProgressModel",
            "bar_style": "success",
            "max": 400,
            "_view_module": "@jupyter-widgets/controls",
            "_model_module_version": "1.5.0",
            "value": 400,
            "_view_count": null,
            "_view_module_version": "1.5.0",
            "orientation": "horizontal",
            "min": 0,
            "description_tooltip": null,
            "_model_module": "@jupyter-widgets/controls",
            "layout": "IPY_MODEL_b7348981abed4a0eb9d985f981ca76d2"
          }
        },
        "8e72c63af2ac47cba8a16a4a585c3a81": {
          "model_module": "@jupyter-widgets/controls",
          "model_name": "HTMLModel",
          "state": {
            "_view_name": "HTMLView",
            "style": "IPY_MODEL_d42adf4c16c948c28ead12bc5802f794",
            "_dom_classes": [],
            "description": "",
            "_model_name": "HTMLModel",
            "placeholder": "​",
            "_view_module": "@jupyter-widgets/controls",
            "_model_module_version": "1.5.0",
            "value": " 400/400 [00:54&lt;00:00,  7.32it/s]",
            "_view_count": null,
            "_view_module_version": "1.5.0",
            "description_tooltip": null,
            "_model_module": "@jupyter-widgets/controls",
            "layout": "IPY_MODEL_90f06b75a3be49c0b4ffcf74a029255e"
          }
        },
        "d7947636e60f494a8abbd83c2197f103": {
          "model_module": "@jupyter-widgets/controls",
          "model_name": "ProgressStyleModel",
          "state": {
            "_view_name": "StyleView",
            "_model_name": "ProgressStyleModel",
            "description_width": "initial",
            "_view_module": "@jupyter-widgets/base",
            "_model_module_version": "1.5.0",
            "_view_count": null,
            "_view_module_version": "1.2.0",
            "bar_color": null,
            "_model_module": "@jupyter-widgets/controls"
          }
        },
        "b7348981abed4a0eb9d985f981ca76d2": {
          "model_module": "@jupyter-widgets/base",
          "model_name": "LayoutModel",
          "state": {
            "_view_name": "LayoutView",
            "grid_template_rows": null,
            "right": null,
            "justify_content": null,
            "_view_module": "@jupyter-widgets/base",
            "overflow": null,
            "_model_module_version": "1.2.0",
            "_view_count": null,
            "flex_flow": null,
            "width": null,
            "min_width": null,
            "border": null,
            "align_items": null,
            "bottom": null,
            "_model_module": "@jupyter-widgets/base",
            "top": null,
            "grid_column": null,
            "overflow_y": null,
            "overflow_x": null,
            "grid_auto_flow": null,
            "grid_area": null,
            "grid_template_columns": null,
            "flex": null,
            "_model_name": "LayoutModel",
            "justify_items": null,
            "grid_row": null,
            "max_height": null,
            "align_content": null,
            "visibility": null,
            "align_self": null,
            "height": null,
            "min_height": null,
            "padding": null,
            "grid_auto_rows": null,
            "grid_gap": null,
            "max_width": null,
            "order": null,
            "_view_module_version": "1.2.0",
            "grid_template_areas": null,
            "object_position": null,
            "object_fit": null,
            "grid_auto_columns": null,
            "margin": null,
            "display": null,
            "left": null
          }
        },
        "d42adf4c16c948c28ead12bc5802f794": {
          "model_module": "@jupyter-widgets/controls",
          "model_name": "DescriptionStyleModel",
          "state": {
            "_view_name": "StyleView",
            "_model_name": "DescriptionStyleModel",
            "description_width": "",
            "_view_module": "@jupyter-widgets/base",
            "_model_module_version": "1.5.0",
            "_view_count": null,
            "_view_module_version": "1.2.0",
            "_model_module": "@jupyter-widgets/controls"
          }
        },
        "90f06b75a3be49c0b4ffcf74a029255e": {
          "model_module": "@jupyter-widgets/base",
          "model_name": "LayoutModel",
          "state": {
            "_view_name": "LayoutView",
            "grid_template_rows": null,
            "right": null,
            "justify_content": null,
            "_view_module": "@jupyter-widgets/base",
            "overflow": null,
            "_model_module_version": "1.2.0",
            "_view_count": null,
            "flex_flow": null,
            "width": null,
            "min_width": null,
            "border": null,
            "align_items": null,
            "bottom": null,
            "_model_module": "@jupyter-widgets/base",
            "top": null,
            "grid_column": null,
            "overflow_y": null,
            "overflow_x": null,
            "grid_auto_flow": null,
            "grid_area": null,
            "grid_template_columns": null,
            "flex": null,
            "_model_name": "LayoutModel",
            "justify_items": null,
            "grid_row": null,
            "max_height": null,
            "align_content": null,
            "visibility": null,
            "align_self": null,
            "height": null,
            "min_height": null,
            "padding": null,
            "grid_auto_rows": null,
            "grid_gap": null,
            "max_width": null,
            "order": null,
            "_view_module_version": "1.2.0",
            "grid_template_areas": null,
            "object_position": null,
            "object_fit": null,
            "grid_auto_columns": null,
            "margin": null,
            "display": null,
            "left": null
          }
        }
      }
    }
  },
  "cells": [
    {
      "cell_type": "markdown",
      "metadata": {
        "id": "6gexgzGnwQYC"
      },
      "source": [
        "### Семинар \n",
        "9.05.20\n",
        "\n",
        "План\n",
        "1. librosa\n",
        "2. Mel Spectrogram: STFT (Short Time Fourier Transform), Spectrogram, Mel-basis\n",
        "3. Naive bio Gender Classifier\n",
        "4. Spoil!\n",
        "\n"
      ]
    },
    {
      "cell_type": "code",
      "metadata": {
        "id": "XdIi-HrzK_09",
        "colab": {
          "base_uri": "https://localhost:8080/",
          "height": 221
        },
        "outputId": "8a8182ec-6eec-40e3-d741-2e11e39bc902"
      },
      "source": [
        "!pip3 install librosa"
      ],
      "execution_count": null,
      "outputs": [
        {
          "output_type": "stream",
          "text": [
            "Requirement already satisfied: librosa in /usr/local/lib/python3.6/dist-packages (0.6.3)\n",
            "Requirement already satisfied: six>=1.3 in /usr/local/lib/python3.6/dist-packages (from librosa) (1.12.0)\n",
            "Requirement already satisfied: scikit-learn!=0.19.0,>=0.14.0 in /usr/local/lib/python3.6/dist-packages (from librosa) (0.22.2.post1)\n",
            "Requirement already satisfied: numpy>=1.8.0 in /usr/local/lib/python3.6/dist-packages (from librosa) (1.18.4)\n",
            "Requirement already satisfied: decorator>=3.0.0 in /usr/local/lib/python3.6/dist-packages (from librosa) (4.4.2)\n",
            "Requirement already satisfied: audioread>=2.0.0 in /usr/local/lib/python3.6/dist-packages (from librosa) (2.1.8)\n",
            "Requirement already satisfied: numba>=0.38.0 in /usr/local/lib/python3.6/dist-packages (from librosa) (0.48.0)\n",
            "Requirement already satisfied: joblib>=0.12 in /usr/local/lib/python3.6/dist-packages (from librosa) (0.15.1)\n",
            "Requirement already satisfied: scipy>=1.0.0 in /usr/local/lib/python3.6/dist-packages (from librosa) (1.4.1)\n",
            "Requirement already satisfied: resampy>=0.2.0 in /usr/local/lib/python3.6/dist-packages (from librosa) (0.2.2)\n",
            "Requirement already satisfied: llvmlite<0.32.0,>=0.31.0dev0 in /usr/local/lib/python3.6/dist-packages (from numba>=0.38.0->librosa) (0.31.0)\n",
            "Requirement already satisfied: setuptools in /usr/local/lib/python3.6/dist-packages (from numba>=0.38.0->librosa) (47.1.1)\n"
          ],
          "name": "stdout"
        }
      ]
    },
    {
      "cell_type": "code",
      "metadata": {
        "id": "_Z7ZiZj1wSAd"
      },
      "source": [
        "from sklearn.model_selection import train_test_split\n",
        "from itertools import chain\n",
        "from tqdm import tqdm, tqdm_notebook\n",
        "import joblib as jl\n",
        "import os\n",
        "\n",
        "import matplotlib.pyplot as plt\n",
        "import IPython # прослушивание аудио в ноутбуке\n",
        "import numpy as np # отсюда возьмем Фурье\n",
        "import librosa # множественные манипуляции с аудиофайлами \n",
        "import keras, keras.layers\n",
        "\n",
        "%matplotlib inline\n",
        "\n",
        "import torch\n",
        "from sklearn.metrics import accuracy_score\n",
        "plt.style.use('fivethirtyeight')"
      ],
      "execution_count": null,
      "outputs": []
    },
    {
      "cell_type": "code",
      "metadata": {
        "id": "rrcY4NgRuDdO",
        "colab": {
          "base_uri": "https://localhost:8080/",
          "height": 391
        },
        "outputId": "592ba5d9-e4a3-4c34-c004-adaa4d4f22a0"
      },
      "source": [
        "! wget https://audio-previews.elements.envatousercontent.com/files/6319559/preview.mp3 -O sample_f.mp3\n",
        "! wget https://audio-previews.elements.envatousercontent.com/files/256324900/preview.mp3 -O sample_m.mp3"
      ],
      "execution_count": null,
      "outputs": [
        {
          "output_type": "stream",
          "text": [
            "--2020-06-04 17:32:05--  https://audio-previews.elements.envatousercontent.com/files/6319559/preview.mp3\n",
            "Resolving audio-previews.elements.envatousercontent.com (audio-previews.elements.envatousercontent.com)... 54.230.183.45, 54.230.183.66, 54.230.183.33, ...\n",
            "Connecting to audio-previews.elements.envatousercontent.com (audio-previews.elements.envatousercontent.com)|54.230.183.45|:443... connected.\n",
            "HTTP request sent, awaiting response... 200 OK\n",
            "Length: 28202 (28K) [audio/mpeg]\n",
            "Saving to: ‘sample_f.mp3’\n",
            "\n",
            "\rsample_f.mp3          0%[                    ]       0  --.-KB/s               \rsample_f.mp3        100%[===================>]  27.54K  --.-KB/s    in 0.09s   \n",
            "\n",
            "2020-06-04 17:32:05 (295 KB/s) - ‘sample_f.mp3’ saved [28202/28202]\n",
            "\n",
            "--2020-06-04 17:32:08--  https://audio-previews.elements.envatousercontent.com/files/256324900/preview.mp3\n",
            "Resolving audio-previews.elements.envatousercontent.com (audio-previews.elements.envatousercontent.com)... 54.230.183.45, 54.230.183.66, 54.230.183.33, ...\n",
            "Connecting to audio-previews.elements.envatousercontent.com (audio-previews.elements.envatousercontent.com)|54.230.183.45|:443... connected.\n",
            "HTTP request sent, awaiting response... 200 OK\n",
            "Length: 68884 (67K) [audio/mpeg]\n",
            "Saving to: ‘sample_m.mp3’\n",
            "\n",
            "sample_m.mp3        100%[===================>]  67.27K   354KB/s    in 0.2s    \n",
            "\n",
            "2020-06-04 17:32:09 (354 KB/s) - ‘sample_m.mp3’ saved [68884/68884]\n",
            "\n"
          ],
          "name": "stdout"
        }
      ]
    },
    {
      "cell_type": "code",
      "metadata": {
        "id": "YAMsaUp0dQUM",
        "colab": {
          "base_uri": "https://localhost:8080/",
          "height": 102
        },
        "outputId": "312c296d-d773-41ca-ebf8-1e8eba198794"
      },
      "source": [
        "!apt-get install -y ffmpeg"
      ],
      "execution_count": null,
      "outputs": [
        {
          "output_type": "stream",
          "text": [
            "\rReading package lists... 0%\r\rReading package lists... 0%\r\rReading package lists... 0%\r\rReading package lists... 6%\r\rReading package lists... 6%\r\rReading package lists... 6%\r\rReading package lists... 6%\r\rReading package lists... 63%\r\rReading package lists... 63%\r\rReading package lists... 63%\r\rReading package lists... 63%\r\rReading package lists... 65%\r\rReading package lists... 71%\r\rReading package lists... 71%\r\rReading package lists... 71%\r\rReading package lists... 71%\r\rReading package lists... 81%\r\rReading package lists... 81%\r\rReading package lists... 81%\r\rReading package lists... 81%\r\rReading package lists... 81%\r\rReading package lists... 81%\r\rReading package lists... 81%\r\rReading package lists... 81%\r\rReading package lists... 87%\r\rReading package lists... 87%\r\rReading package lists... 87%\r\rReading package lists... 87%\r\rReading package lists... 93%\r\rReading package lists... 93%\r\rReading package lists... 93%\r\rReading package lists... 93%\r\rReading package lists... 93%\r\rReading package lists... 93%\r\rReading package lists... 94%\r\rReading package lists... 94%\r\rReading package lists... 95%\r\rReading package lists... 95%\r\rReading package lists... 98%\r\rReading package lists... 98%\r\rReading package lists... 98%\r\rReading package lists... 98%\r\rReading package lists... Done\r\n",
            "\rBuilding dependency tree... 0%\r\rBuilding dependency tree... 0%\r\rBuilding dependency tree... 50%\r\rBuilding dependency tree... 50%\r\rBuilding dependency tree       \r\n",
            "\rReading state information... 0%\r\rReading state information... 0%\r\rReading state information... Done\r\n",
            "ffmpeg is already the newest version (7:3.4.6-0ubuntu0.18.04.1).\n",
            "0 upgraded, 0 newly installed, 0 to remove and 32 not upgraded.\n"
          ],
          "name": "stdout"
        }
      ]
    },
    {
      "cell_type": "code",
      "metadata": {
        "id": "a-2XUq0jdKYL",
        "colab": {
          "base_uri": "https://localhost:8080/",
          "height": 615
        },
        "outputId": "06c0b117-7afe-4376-de9c-3941c19f6105"
      },
      "source": [
        "!ffmpeg -i sample_m.mp3 -ar 22050 -ac 1 sample_m.wav"
      ],
      "execution_count": null,
      "outputs": [
        {
          "output_type": "stream",
          "text": [
            "ffmpeg version 3.4.6-0ubuntu0.18.04.1 Copyright (c) 2000-2019 the FFmpeg developers\n",
            "  built with gcc 7 (Ubuntu 7.3.0-16ubuntu3)\n",
            "  configuration: --prefix=/usr --extra-version=0ubuntu0.18.04.1 --toolchain=hardened --libdir=/usr/lib/x86_64-linux-gnu --incdir=/usr/include/x86_64-linux-gnu --enable-gpl --disable-stripping --enable-avresample --enable-avisynth --enable-gnutls --enable-ladspa --enable-libass --enable-libbluray --enable-libbs2b --enable-libcaca --enable-libcdio --enable-libflite --enable-libfontconfig --enable-libfreetype --enable-libfribidi --enable-libgme --enable-libgsm --enable-libmp3lame --enable-libmysofa --enable-libopenjpeg --enable-libopenmpt --enable-libopus --enable-libpulse --enable-librubberband --enable-librsvg --enable-libshine --enable-libsnappy --enable-libsoxr --enable-libspeex --enable-libssh --enable-libtheora --enable-libtwolame --enable-libvorbis --enable-libvpx --enable-libwavpack --enable-libwebp --enable-libx265 --enable-libxml2 --enable-libxvid --enable-libzmq --enable-libzvbi --enable-omx --enable-openal --enable-opengl --enable-sdl2 --enable-libdc1394 --enable-libdrm --enable-libiec61883 --enable-chromaprint --enable-frei0r --enable-libopencv --enable-libx264 --enable-shared\n",
            "  libavutil      55. 78.100 / 55. 78.100\n",
            "  libavcodec     57.107.100 / 57.107.100\n",
            "  libavformat    57. 83.100 / 57. 83.100\n",
            "  libavdevice    57. 10.100 / 57. 10.100\n",
            "  libavfilter     6.107.100 /  6.107.100\n",
            "  libavresample   3.  7.  0 /  3.  7.  0\n",
            "  libswscale      4.  8.100 /  4.  8.100\n",
            "  libswresample   2.  9.100 /  2.  9.100\n",
            "  libpostproc    54.  7.100 / 54.  7.100\n",
            "\u001b[0;35m[mp3 @ 0x5644054e8000] \u001b[0m\u001b[0;33mEstimating duration from bitrate, this may be inaccurate\n",
            "\u001b[0mInput #0, mp3, from 'sample_m.mp3':\n",
            "  Metadata:\n",
            "    comment         : \n",
            "    TLEN            : 1673\n",
            "    encoded_by      : Sound Forge 2.0.5 (Build 317)\n",
            "  Duration: 00:00:01.70, start: 0.000000, bitrate: 324 kb/s\n",
            "    Stream #0:0: Audio: mp3, 44100 Hz, stereo, s16p, 320 kb/s\n",
            "Stream mapping:\n",
            "  Stream #0:0 -> #0:0 (mp3 (native) -> pcm_s16le (native))\n",
            "Press [q] to stop, [?] for help\n",
            "Output #0, wav, to 'sample_m.wav':\n",
            "  Metadata:\n",
            "    ICMT            : \n",
            "    TLEN            : 1673\n",
            "    ITCH            : Sound Forge 2.0.5 (Build 317)\n",
            "    ISFT            : Lavf57.83.100\n",
            "    Stream #0:0: Audio: pcm_s16le ([1][0][0][0] / 0x0001), 22050 Hz, mono, s16, 352 kb/s\n",
            "    Metadata:\n",
            "      encoder         : Lavc57.107.100 pcm_s16le\n",
            "size=      73kB time=00:00:01.69 bitrate= 353.3kbits/s speed=  96x    \n",
            "video:0kB audio:73kB subtitle:0kB other streams:0kB global headers:0kB muxing overhead: 0.154915%\n"
          ],
          "name": "stdout"
        }
      ]
    },
    {
      "cell_type": "code",
      "metadata": {
        "id": "pef-Jut41Cp0",
        "colab": {
          "base_uri": "https://localhost:8080/",
          "height": 307
        },
        "outputId": "ed8a63e4-0780-432b-ba7e-c277e747af58"
      },
      "source": [
        "IPython.display.Audio(librosa.load('sample_f.wav')[0], rate = 22050)"
      ],
      "execution_count": null,
      "outputs": [
        {
          "output_type": "error",
          "ename": "FileNotFoundError",
          "evalue": "ignored",
          "traceback": [
            "\u001b[0;31m---------------------------------------------------------------------------\u001b[0m",
            "\u001b[0;31mFileNotFoundError\u001b[0m                         Traceback (most recent call last)",
            "\u001b[0;32m<ipython-input-6-7b9da6780bad>\u001b[0m in \u001b[0;36m<module>\u001b[0;34m()\u001b[0m\n\u001b[0;32m----> 1\u001b[0;31m \u001b[0mIPython\u001b[0m\u001b[0;34m.\u001b[0m\u001b[0mdisplay\u001b[0m\u001b[0;34m.\u001b[0m\u001b[0mAudio\u001b[0m\u001b[0;34m(\u001b[0m\u001b[0mlibrosa\u001b[0m\u001b[0;34m.\u001b[0m\u001b[0mload\u001b[0m\u001b[0;34m(\u001b[0m\u001b[0;34m'sample_f.wav'\u001b[0m\u001b[0;34m)\u001b[0m\u001b[0;34m[\u001b[0m\u001b[0;36m0\u001b[0m\u001b[0;34m]\u001b[0m\u001b[0;34m,\u001b[0m \u001b[0mrate\u001b[0m \u001b[0;34m=\u001b[0m \u001b[0;36m22050\u001b[0m\u001b[0;34m)\u001b[0m\u001b[0;34m\u001b[0m\u001b[0;34m\u001b[0m\u001b[0m\n\u001b[0m",
            "\u001b[0;32m/usr/local/lib/python3.6/dist-packages/librosa/core/audio.py\u001b[0m in \u001b[0;36mload\u001b[0;34m(path, sr, mono, offset, duration, dtype, res_type)\u001b[0m\n\u001b[1;32m    117\u001b[0m \u001b[0;34m\u001b[0m\u001b[0m\n\u001b[1;32m    118\u001b[0m     \u001b[0my\u001b[0m \u001b[0;34m=\u001b[0m \u001b[0;34m[\u001b[0m\u001b[0;34m]\u001b[0m\u001b[0;34m\u001b[0m\u001b[0;34m\u001b[0m\u001b[0m\n\u001b[0;32m--> 119\u001b[0;31m     \u001b[0;32mwith\u001b[0m \u001b[0maudioread\u001b[0m\u001b[0;34m.\u001b[0m\u001b[0maudio_open\u001b[0m\u001b[0;34m(\u001b[0m\u001b[0mos\u001b[0m\u001b[0;34m.\u001b[0m\u001b[0mpath\u001b[0m\u001b[0;34m.\u001b[0m\u001b[0mrealpath\u001b[0m\u001b[0;34m(\u001b[0m\u001b[0mpath\u001b[0m\u001b[0;34m)\u001b[0m\u001b[0;34m)\u001b[0m \u001b[0;32mas\u001b[0m \u001b[0minput_file\u001b[0m\u001b[0;34m:\u001b[0m\u001b[0;34m\u001b[0m\u001b[0;34m\u001b[0m\u001b[0m\n\u001b[0m\u001b[1;32m    120\u001b[0m         \u001b[0msr_native\u001b[0m \u001b[0;34m=\u001b[0m \u001b[0minput_file\u001b[0m\u001b[0;34m.\u001b[0m\u001b[0msamplerate\u001b[0m\u001b[0;34m\u001b[0m\u001b[0;34m\u001b[0m\u001b[0m\n\u001b[1;32m    121\u001b[0m         \u001b[0mn_channels\u001b[0m \u001b[0;34m=\u001b[0m \u001b[0minput_file\u001b[0m\u001b[0;34m.\u001b[0m\u001b[0mchannels\u001b[0m\u001b[0;34m\u001b[0m\u001b[0;34m\u001b[0m\u001b[0m\n",
            "\u001b[0;32m/usr/local/lib/python3.6/dist-packages/audioread/__init__.py\u001b[0m in \u001b[0;36maudio_open\u001b[0;34m(path, backends)\u001b[0m\n\u001b[1;32m    109\u001b[0m     \u001b[0;32mfor\u001b[0m \u001b[0mBackendClass\u001b[0m \u001b[0;32min\u001b[0m \u001b[0mbackends\u001b[0m\u001b[0;34m:\u001b[0m\u001b[0;34m\u001b[0m\u001b[0;34m\u001b[0m\u001b[0m\n\u001b[1;32m    110\u001b[0m         \u001b[0;32mtry\u001b[0m\u001b[0;34m:\u001b[0m\u001b[0;34m\u001b[0m\u001b[0;34m\u001b[0m\u001b[0m\n\u001b[0;32m--> 111\u001b[0;31m             \u001b[0;32mreturn\u001b[0m \u001b[0mBackendClass\u001b[0m\u001b[0;34m(\u001b[0m\u001b[0mpath\u001b[0m\u001b[0;34m)\u001b[0m\u001b[0;34m\u001b[0m\u001b[0;34m\u001b[0m\u001b[0m\n\u001b[0m\u001b[1;32m    112\u001b[0m         \u001b[0;32mexcept\u001b[0m \u001b[0mDecodeError\u001b[0m\u001b[0;34m:\u001b[0m\u001b[0;34m\u001b[0m\u001b[0;34m\u001b[0m\u001b[0m\n\u001b[1;32m    113\u001b[0m             \u001b[0;32mpass\u001b[0m\u001b[0;34m\u001b[0m\u001b[0;34m\u001b[0m\u001b[0m\n",
            "\u001b[0;32m/usr/local/lib/python3.6/dist-packages/audioread/rawread.py\u001b[0m in \u001b[0;36m__init__\u001b[0;34m(self, filename)\u001b[0m\n\u001b[1;32m     60\u001b[0m     \"\"\"\n\u001b[1;32m     61\u001b[0m     \u001b[0;32mdef\u001b[0m \u001b[0m__init__\u001b[0m\u001b[0;34m(\u001b[0m\u001b[0mself\u001b[0m\u001b[0;34m,\u001b[0m \u001b[0mfilename\u001b[0m\u001b[0;34m)\u001b[0m\u001b[0;34m:\u001b[0m\u001b[0;34m\u001b[0m\u001b[0;34m\u001b[0m\u001b[0m\n\u001b[0;32m---> 62\u001b[0;31m         \u001b[0mself\u001b[0m\u001b[0;34m.\u001b[0m\u001b[0m_fh\u001b[0m \u001b[0;34m=\u001b[0m \u001b[0mopen\u001b[0m\u001b[0;34m(\u001b[0m\u001b[0mfilename\u001b[0m\u001b[0;34m,\u001b[0m \u001b[0;34m'rb'\u001b[0m\u001b[0;34m)\u001b[0m\u001b[0;34m\u001b[0m\u001b[0;34m\u001b[0m\u001b[0m\n\u001b[0m\u001b[1;32m     63\u001b[0m \u001b[0;34m\u001b[0m\u001b[0m\n\u001b[1;32m     64\u001b[0m         \u001b[0;32mtry\u001b[0m\u001b[0;34m:\u001b[0m\u001b[0;34m\u001b[0m\u001b[0;34m\u001b[0m\u001b[0m\n",
            "\u001b[0;31mFileNotFoundError\u001b[0m: [Errno 2] No such file or directory: '/content/sample_f.wav'"
          ]
        }
      ]
    },
    {
      "cell_type": "code",
      "metadata": {
        "id": "wA0m7BD7MbDR"
      },
      "source": [
        "type(librosa.load('sample_f.wav')[0])"
      ],
      "execution_count": null,
      "outputs": []
    },
    {
      "cell_type": "markdown",
      "metadata": {
        "id": "4mroTjVfv5Ki"
      },
      "source": [
        "https://drive.google.com/drive/folders/1fb1rFkA2vn4tOBY-5IGc85AEX_Lptk_W"
      ]
    },
    {
      "cell_type": "code",
      "metadata": {
        "id": "o3oUD_5LvynZ"
      },
      "source": [
        "IPython.display.Audio('sample.wav')"
      ],
      "execution_count": null,
      "outputs": []
    },
    {
      "cell_type": "markdown",
      "metadata": {
        "id": "P9F9He_k5WjR"
      },
      "source": [
        "### **Часть 1**"
      ]
    },
    {
      "cell_type": "markdown",
      "metadata": {
        "id": "njLcHdle3_6W"
      },
      "source": [
        "Напоминание: файл *.wav -- набор амплитуд, отсчитываемых за определенные промежутки времени. Sample rate (sr) -- число отсчитываемых амплитуд в секунду, параметр качества записи. Построим график амплитуд:"
      ]
    },
    {
      "cell_type": "code",
      "metadata": {
        "id": "BWwbp4_Z1FTN",
        "colab": {
          "base_uri": "https://localhost:8080/",
          "height": 316
        },
        "outputId": "c21fff00-d5b6-4d2a-c55a-bed89b3ab945"
      },
      "source": [
        "amplitudes, sample_rate = librosa.load(\"sample_m.wav\")\n",
        "print(f\"{len(amplitudes)} points, {len(amplitudes) / sample_rate} sec, sr {sample_rate}\")\n",
        "plt.figure(figsize=[15, 4])\n",
        "plt.title('')\n",
        "plt.plot(amplitudes[20000:25000],linewidth=1.5)"
      ],
      "execution_count": null,
      "outputs": [
        {
          "output_type": "stream",
          "text": [
            "37440 points, 1.6979591836734693 sec, sr 22050\n"
          ],
          "name": "stdout"
        },
        {
          "output_type": "execute_result",
          "data": {
            "text/plain": [
              "[<matplotlib.lines.Line2D at 0x7f774cb5f908>]"
            ]
          },
          "metadata": {
            "tags": []
          },
          "execution_count": 20
        },
        {
          "output_type": "display_data",
          "data": {
            "image/png": "[encoded data removed]",
            "text/plain": [
              "<Figure size 1080x288 with 1 Axes>"
            ]
          },
          "metadata": {
            "tags": []
          }
        }
      ]
    },
    {
      "cell_type": "code",
      "metadata": {
        "id": "tBhxYwRE4V8h"
      },
      "source": [
        "type(amplitudes)"
      ],
      "execution_count": null,
      "outputs": []
    },
    {
      "cell_type": "markdown",
      "metadata": {
        "id": "K-HqGi1H6ocn"
      },
      "source": [
        "В двух секундах 60000 точек! Работать неудобно, надо конвертировать в формат, с которым умеем работать (в изображение). Используем **быстрое преобразование Фурье** чтобы понять, какие же именно компоненты преобладают в некоторый момент времени. Подробнее: https://en.wikipedia.org/wiki/Short-time_Fourier_transform\n",
        "\n",
        "\n",
        "<img src=\"https://upload.wikimedia.org/wikipedia/commons/c/c5/Spectrogram-19thC.png\" width=\"640px\">\n",
        "\n",
        "\n",
        "Не забудем, что перед преобразование Фурье мы используем к фреймам по отдельности и потом склеиваем все в единую картину. Также следует помнить, что если использовать просто спектрограмму без перехода в мел-пространство, то мы можем сломать нашу будущую сетку слишком большими значениями. Подробнее: https://en.wikipedia.org/wiki/Mel-frequency_cepstrum\n",
        "\n",
        "\n",
        "<img src=\"https://labrosa.ee.columbia.edu/doc/HTKBook21/img165.gif\" width=\"640px\">\n",
        "\n",
        "**Алгоритм построения мел-спектрограммы по набору частот:**\n",
        "1. Разделяем вход на пересекающиеся фреймы\n",
        "2. Применяем к каждому преобразование Фурье\n",
        "3. Переводим полученную спектрограмму в мел-пространство"
      ]
    },
    {
      "cell_type": "code",
      "metadata": {
        "id": "UdqvQNI29MhP"
      },
      "source": [
        "def slice_into_frames(amplitudes, window_length, hop_length):\n",
        "    return librosa.core.spectrum.util.frame(\n",
        "        np.pad(amplitudes, int(window_length // 2), mode='reflect'),\n",
        "        frame_length=window_length, hop_length=hop_length)\n",
        "    # выход: [window_length, num_windows]"
      ],
      "execution_count": null,
      "outputs": []
    },
    {
      "cell_type": "code",
      "metadata": {
        "id": "ab30OabI91oa"
      },
      "source": [
        "def get_STFT(amplitudes, window_length, hop_length):\n",
        "    \"\"\" Compute short-time Fourier Transform \"\"\"\n",
        "    # разбиваем амплитуды на пересекающиеся фреймы [window_length, num_frames]\n",
        "    frames = slice_into_frames(amplitudes, window_length, hop_length)\n",
        "    \n",
        "    # получаем веса для Фурье, float[window_length]\n",
        "    fft_weights = librosa.core.spectrum.get_window('hann', window_length, fftbins=True)\n",
        "    \n",
        "    # применяем преобразование Фурье\n",
        "    stft = np.fft.rfft(frames * fft_weights[:, None], axis=0)\n",
        "    return stft"
      ],
      "execution_count": null,
      "outputs": []
    },
    {
      "cell_type": "code",
      "metadata": {
        "id": "pdokUaim-gm-"
      },
      "source": [
        "def get_melspectrogram(amplitudes, sample_rate=22050, n_mels=128,\n",
        "                       window_length=2048, hop_length=512, fmin=1, fmax=8192):\n",
        "    \"\"\"\n",
        "    Implement mel-spectrogram as described above.\n",
        "    :param amplitudes: float [num_amplitudes]\n",
        "    :param sample rate: число отсчетов каждую секунду\n",
        "    :param n_mels: число каналов спектрограммы\n",
        "    :param window_length: параметр размера окна для Фурье\n",
        "    :param hop_length: размер пересечения \n",
        "    :param f_min: мин частота\n",
        "    :param f_max: макс частота\n",
        "    :returns: мел-scaled спектрограмма [n_mels, duration]\n",
        "    \"\"\"\n",
        "    # Шаг 1\n",
        "    stft = get_STFT(amplitudes, window_length, hop_length)\n",
        "    assert stft.shape == (window_length // 2 + 1, len(amplitudes) // 512 + 1)\n",
        "    \n",
        "    # Шаг 2\n",
        "    spectrogram = np.abs(stft ** 2)\n",
        "    \n",
        "    # Шаг 3\n",
        "    mel_basis = librosa.filters.mel(sample_rate, n_fft=window_length,\n",
        "                                    n_mels=n_mels, fmin=fmin, fmax=fmax)\n",
        "    # ^-- matrix [n_mels, window_length / 2 + 1]\n",
        "    \n",
        "    mel_spectrogram = np.dot(mel_basis, spectrogram)\n",
        "    assert mel_spectrogram.shape == (n_mels, len(amplitudes) // 512 + 1)\n",
        "    \n",
        "    return mel_spectrogram"
      ],
      "execution_count": null,
      "outputs": []
    },
    {
      "cell_type": "code",
      "metadata": {
        "id": "vm0UZS0tXD4l"
      },
      "source": [
        "amplitudes1, _  = librosa.load('sample_m.wav')\n",
        "amplitudes2, _  = librosa.load('sample_f.wav')"
      ],
      "execution_count": null,
      "outputs": []
    },
    {
      "cell_type": "code",
      "metadata": {
        "id": "xu9dZyP6AUYE"
      },
      "source": [
        "plt.figure(figsize=[16, 4])\n",
        "plt.subplot(1, 2, 1)\n",
        "plt.title(\"Man\"); plt.xlabel(\"Time\"); plt.ylabel(\"Frequency\")\n",
        "plt.imshow(get_melspectrogram(amplitudes1))\n",
        "\n",
        "plt.subplot(1, 2, 2)\n",
        "plt.title(\"Woman\"); plt.xlabel(\"Time\"); plt.ylabel(\"Frequency\")\n",
        "plt.imshow(get_melspectrogram(amplitudes2));"
      ],
      "execution_count": null,
      "outputs": []
    },
    {
      "cell_type": "code",
      "metadata": {
        "id": "-1RpfxptR3o7"
      },
      "source": [
        "ref1 = librosa.feature.melspectrogram(amplitudes2, sr=sample_rate, n_mels=128, fmin=1, fmax=8192)\n",
        "assert np.allclose(get_melspectrogram(amplitudes2), ref1, rtol=1e-4, atol=1e-4)"
      ],
      "execution_count": null,
      "outputs": []
    },
    {
      "cell_type": "code",
      "metadata": {
        "id": "yZlMnnqJR9yf"
      },
      "source": [
        "((ref1-get_melspectrogram(amplitudes2)) **2).mean()"
      ],
      "execution_count": null,
      "outputs": []
    },
    {
      "cell_type": "markdown",
      "metadata": {
        "id": "NLapmZT8DA_x"
      },
      "source": [
        "## Часть 2\n",
        "Напишем простой классификатор биологического гендера спикера по мел спектрограмме. \n",
        "Сразу вопрос -- откуда возьмем данные?"
      ]
    },
    {
      "cell_type": "code",
      "metadata": {
        "id": "5ndt3XapDus6",
        "colab": {
          "base_uri": "https://localhost:8080/",
          "height": 289
        },
        "outputId": "68219d77-53a4-436f-e276-2481ef8efa34"
      },
      "source": [
        "!wget https://ndownloader.figshare.com/files/10256148"
      ],
      "execution_count": null,
      "outputs": [
        {
          "output_type": "stream",
          "text": [
            "--2020-06-04 17:32:38--  https://ndownloader.figshare.com/files/10256148\n",
            "Resolving ndownloader.figshare.com (ndownloader.figshare.com)... 18.203.18.207, 18.200.217.142, 54.194.71.40, ...\n",
            "Connecting to ndownloader.figshare.com (ndownloader.figshare.com)|18.203.18.207|:443... connected.\n",
            "HTTP request sent, awaiting response... 302 Found\n",
            "Location: https://s3-eu-west-1.amazonaws.com/pfigshare-u-files/10256148/TIMIT.zip [following]\n",
            "--2020-06-04 17:32:38--  https://s3-eu-west-1.amazonaws.com/pfigshare-u-files/10256148/TIMIT.zip\n",
            "Resolving s3-eu-west-1.amazonaws.com (s3-eu-west-1.amazonaws.com)... 52.218.102.67\n",
            "Connecting to s3-eu-west-1.amazonaws.com (s3-eu-west-1.amazonaws.com)|52.218.102.67|:443... connected.\n",
            "HTTP request sent, awaiting response... 200 OK\n",
            "Length: 440207227 (420M) [binary/octet-stream]\n",
            "Saving to: ‘10256148’\n",
            "\n",
            "10256148            100%[===================>] 419.81M  93.2MB/s    in 4.4s    \n",
            "\n",
            "2020-06-04 17:32:42 (95.4 MB/s) - ‘10256148’ saved [440207227/440207227]\n",
            "\n"
          ],
          "name": "stdout"
        }
      ]
    },
    {
      "cell_type": "code",
      "metadata": {
        "id": "w-kbsCMmEQb5"
      },
      "source": [
        "!unzip -q 10256148"
      ],
      "execution_count": null,
      "outputs": []
    },
    {
      "cell_type": "code",
      "metadata": {
        "id": "yMVQJF2pY5JR",
        "colab": {
          "base_uri": "https://localhost:8080/",
          "height": 462
        },
        "outputId": "758c75af-e8f5-4ba9-8c69-56256911001a"
      },
      "source": [
        "!pip install timit-utils"
      ],
      "execution_count": null,
      "outputs": [
        {
          "output_type": "stream",
          "text": [
            "Collecting timit-utils\n",
            "  Downloading https://files.pythonhosted.org/packages/22/32/0c98f7f44386947b9e4080f54f09a7380c390e0b8337ab0b87050d49c43a/timit_utils-0.9.0-py3-none-any.whl\n",
            "Collecting python-speech-features\n",
            "  Downloading https://files.pythonhosted.org/packages/ff/d1/94c59e20a2631985fbd2124c45177abaa9e0a4eee8ba8a305aa26fc02a8e/python_speech_features-0.6.tar.gz\n",
            "Requirement already satisfied: pandas in /usr/local/lib/python3.6/dist-packages (from timit-utils) (1.0.4)\n",
            "Requirement already satisfied: numpy in /usr/local/lib/python3.6/dist-packages (from timit-utils) (1.18.4)\n",
            "Requirement already satisfied: matplotlib in /usr/local/lib/python3.6/dist-packages (from timit-utils) (3.2.1)\n",
            "Collecting SoundFile>=0.8.0\n",
            "  Downloading https://files.pythonhosted.org/packages/eb/f2/3cbbbf3b96fb9fa91582c438b574cff3f45b29c772f94c400e2c99ef5db9/SoundFile-0.10.3.post1-py2.py3-none-any.whl\n",
            "Requirement already satisfied: scipy in /usr/local/lib/python3.6/dist-packages (from timit-utils) (1.4.1)\n",
            "Requirement already satisfied: python-dateutil>=2.6.1 in /usr/local/lib/python3.6/dist-packages (from pandas->timit-utils) (2.8.1)\n",
            "Requirement already satisfied: pytz>=2017.2 in /usr/local/lib/python3.6/dist-packages (from pandas->timit-utils) (2018.9)\n",
            "Requirement already satisfied: cycler>=0.10 in /usr/local/lib/python3.6/dist-packages (from matplotlib->timit-utils) (0.10.0)\n",
            "Requirement already satisfied: pyparsing!=2.0.4,!=2.1.2,!=2.1.6,>=2.0.1 in /usr/local/lib/python3.6/dist-packages (from matplotlib->timit-utils) (2.4.7)\n",
            "Requirement already satisfied: kiwisolver>=1.0.1 in /usr/local/lib/python3.6/dist-packages (from matplotlib->timit-utils) (1.2.0)\n",
            "Requirement already satisfied: cffi>=1.0 in /usr/local/lib/python3.6/dist-packages (from SoundFile>=0.8.0->timit-utils) (1.14.0)\n",
            "Requirement already satisfied: six>=1.5 in /usr/local/lib/python3.6/dist-packages (from python-dateutil>=2.6.1->pandas->timit-utils) (1.12.0)\n",
            "Requirement already satisfied: pycparser in /usr/local/lib/python3.6/dist-packages (from cffi>=1.0->SoundFile>=0.8.0->timit-utils) (2.20)\n",
            "Building wheels for collected packages: python-speech-features\n",
            "  Building wheel for python-speech-features (setup.py) ... \u001b[?25l\u001b[?25hdone\n",
            "  Created wheel for python-speech-features: filename=python_speech_features-0.6-cp36-none-any.whl size=5887 sha256=69304622b1d4cc57e3382341ff007ef25c1c16d418127f69cdaece70b8bb1f2f\n",
            "  Stored in directory: /root/.cache/pip/wheels/3c/42/7c/f60e9d1b40015cd69b213ad90f7c18a9264cd745b9888134be\n",
            "Successfully built python-speech-features\n",
            "Installing collected packages: python-speech-features, SoundFile, timit-utils\n",
            "Successfully installed SoundFile-0.10.3.post1 python-speech-features-0.6 timit-utils-0.9.0\n"
          ],
          "name": "stdout"
        }
      ]
    },
    {
      "cell_type": "code",
      "metadata": {
        "id": "v4-Mqgg0Ydou",
        "colab": {
          "base_uri": "https://localhost:8080/",
          "height": 209
        },
        "outputId": "ffb1a627-5127-4a4f-ee35-548ff2ec193e"
      },
      "source": [
        "%matplotlib inline\n",
        "import timit_utils as tu\n",
        "import timit_utils.audio_utils as au\n",
        "import timit_utils.drawing_utils as du\n",
        "\n",
        "DATA_PATH = 'data/lisa/data/timit/raw/TIMIT'\n",
        "corpus = tu.Corpus(DATA_PATH)\n",
        "sentence = corpus.train.sentences_by_phone_df('aa').sentence[0]\n",
        "du.DrawVerticalPanels([du.AudioPanel(sentence.raw_audio, show_x_axis=True),\n",
        "                       du.WordsPanel(sentence.words_df, sentence.raw_audio.shape[0], show_x_axis=True),\n",
        "                       du.PhonesPanel(sentence.phones_df, sentence.raw_audio.shape[0])\n",
        "                      ])\n",
        "  "
      ],
      "execution_count": null,
      "outputs": [
        {
          "output_type": "display_data",
          "data": {
            "image/png": "[encoded data removed]",
            "text/plain": [
              "<Figure size 1600x240 with 3 Axes>"
            ]
          },
          "metadata": {
            "tags": [],
            "needs_background": "dark"
          }
        }
      ]
    },
    {
      "cell_type": "code",
      "metadata": {
        "id": "yZfRCA5ecoGD"
      },
      "source": [
        "class Speaker:\n",
        "\n",
        "  def __init__(self, data_path):\n",
        "    self.doc_file_path = os.path.join(data_path, 'DOC','SPKRINFO.TXT')\n",
        "    with open(self.doc_file_path) as f:\n",
        "      self.id_sex_dict = dict([(tmp.split(' ')[0], tmp.split(' ')[2]) for tmp in f.readlines()[39:]])\n",
        "\n",
        "  def return_sex(self, id):\n",
        "    return self.id_sex_dict[id]\n",
        "\n",
        "Speakers_info = Speaker(DATA_PATH)"
      ],
      "execution_count": null,
      "outputs": []
    },
    {
      "cell_type": "code",
      "metadata": {
        "id": "-q4dzfDy4qhP"
      },
      "source": [
        "person_1 = corpus.train.person_by_index(100)"
      ],
      "execution_count": null,
      "outputs": []
    },
    {
      "cell_type": "code",
      "metadata": {
        "id": "ToGDh8xS9z6i",
        "colab": {
          "base_uri": "https://localhost:8080/",
          "height": 34
        },
        "outputId": "fa632ffb-c9f3-4eac-c436-13622ea70d68"
      },
      "source": [
        "person_1.name"
      ],
      "execution_count": null,
      "outputs": [
        {
          "output_type": "execute_result",
          "data": {
            "text/plain": [
              "'DPS0'"
            ]
          },
          "metadata": {
            "tags": []
          },
          "execution_count": 16
        }
      ]
    },
    {
      "cell_type": "code",
      "metadata": {
        "id": "Zw7n1lVX2-5Y",
        "colab": {
          "base_uri": "https://localhost:8080/",
          "height": 34
        },
        "outputId": "96b3fb03-b907-451d-f5e9-4d6ae19de535"
      },
      "source": [
        "Speakers_info.return_sex(person_1.name)"
      ],
      "execution_count": null,
      "outputs": [
        {
          "output_type": "execute_result",
          "data": {
            "text/plain": [
              "'M'"
            ]
          },
          "metadata": {
            "tags": []
          },
          "execution_count": 17
        }
      ]
    },
    {
      "cell_type": "code",
      "metadata": {
        "id": "2tu7vIp4ZZTB"
      },
      "source": [
        "IPython.display.Audio(person_1.sentence_by_index(1).raw_audio, rate=16000)"
      ],
      "execution_count": null,
      "outputs": []
    },
    {
      "cell_type": "code",
      "metadata": {
        "id": "yjbcCAm3DAM-"
      },
      "source": [
        "def preprocess_sample(amplitudes, gender, sr=16000, max_length=150):\n",
        "    spectrogram = get_melspectrogram(amplitudes, sample_rate=sr)[:, :max_length]\n",
        "    spectrogram = np.pad(spectrogram, [[0, 0], [0, max(0, max_length - spectrogram.shape[1])]], mode='constant')\n",
        "    target = 0 if gender == 'F' else 1\n",
        "    return np.float32(spectrogram), np.int64(target)\n",
        "    \n",
        "#tmp_1 = preprocess_sample(person_1.sentence_by_index(1).raw_audio, Speakers_info.return_sex(person_1.name))[0]\n",
        "#tmp_2 = librosa.feature.melspectrogram(person_1.sentence_by_index(1).raw_audio, sr=sample_rate, n_mels=128, fmin=1, fmax=8192)\n",
        "#assert np.allclose(get_melspectrogram(amplitudes2), ref1, rtol=1e-4, atol=1e-4)"
      ],
      "execution_count": null,
      "outputs": []
    },
    {
      "cell_type": "markdown",
      "metadata": {
        "id": "ptu3EUkUeYHb"
      },
      "source": [
        "Создадим тестсет и трейнсет из данных для `TIMIT` "
      ]
    },
    {
      "cell_type": "code",
      "metadata": {
        "id": "Z7gpRA14Haad"
      },
      "source": [
        "def create_dataset(mode='train'):\n",
        "  assert mode in ['train','test']\n",
        "  if mode == 'train':\n",
        "    people = [corpus.train.person_by_index(i) for i in range(400)]\n",
        "  if mode == 'test':\n",
        "    people = [corpus.test.person_by_index(i) for i in range(150)]\n",
        "  spectrograms_and_targets = []\n",
        "  for person in tqdm_notebook(people): \n",
        "    target = Speakers_info.return_sex(person.name)\n",
        "    for i in range(len(person.sentences)):\n",
        "      spectrograms_and_targets.append(preprocess_sample(person.sentence_by_index(i).raw_audio, target))\n",
        "  return spectrograms_and_targets"
      ],
      "execution_count": null,
      "outputs": []
    },
    {
      "cell_type": "code",
      "metadata": {
        "id": "-L7zaZRTKxGH",
        "colab": {
          "base_uri": "https://localhost:8080/",
          "height": 117,
          "referenced_widgets": [
            "da98926e38894529bcb93057ce70b2d1",
            "cafda52b7315464a9f6c980198bdefa4",
            "0c5b369c2d69459596a6a5d5136c6d45",
            "8e72c63af2ac47cba8a16a4a585c3a81",
            "d7947636e60f494a8abbd83c2197f103",
            "b7348981abed4a0eb9d985f981ca76d2",
            "d42adf4c16c948c28ead12bc5802f794",
            "90f06b75a3be49c0b4ffcf74a029255e"
          ]
        },
        "outputId": "a1f5ce84-17f8-4e4d-e797-f697c7f700e7"
      },
      "source": [
        "trainset = create_dataset('train')"
      ],
      "execution_count": null,
      "outputs": [
        {
          "output_type": "stream",
          "text": [
            "/usr/local/lib/python3.6/dist-packages/ipykernel_launcher.py:8: TqdmDeprecationWarning: This function will be removed in tqdm==5.0.0\n",
            "Please use `tqdm.notebook.tqdm` instead of `tqdm.tqdm_notebook`\n",
            "  \n"
          ],
          "name": "stderr"
        },
        {
          "output_type": "display_data",
          "data": {
            "application/vnd.jupyter.widget-view+json": {
              "model_id": "da98926e38894529bcb93057ce70b2d1",
              "version_minor": 0,
              "version_major": 2
            },
            "text/plain": [
              "HBox(children=(FloatProgress(value=0.0, max=400.0), HTML(value='')))"
            ]
          },
          "metadata": {
            "tags": []
          }
        },
        {
          "output_type": "stream",
          "text": [
            "\n"
          ],
          "name": "stdout"
        }
      ]
    },
    {
      "cell_type": "code",
      "metadata": {
        "id": "nhT1rOI6KhB6"
      },
      "source": [
        "X, y = map(np.stack, zip(*trainset))\n",
        "X = X.transpose([0, 2, 1])  # to [batch, time, channels]\n",
        "\n",
        "X_train, X_val, y_train, y_val = train_test_split(X, y, random_state=42)"
      ],
      "execution_count": null,
      "outputs": []
    },
    {
      "cell_type": "code",
      "metadata": {
        "id": "JOUX30XbaKZu",
        "colab": {
          "base_uri": "https://localhost:8080/",
          "height": 34
        },
        "outputId": "0478f41d-29f7-4db9-ad00-7c6f1e7bd95e"
      },
      "source": [
        "X_train.shape"
      ],
      "execution_count": null,
      "outputs": [
        {
          "output_type": "execute_result",
          "data": {
            "text/plain": [
              "(3000, 150, 128)"
            ]
          },
          "metadata": {
            "tags": []
          },
          "execution_count": 34
        }
      ]
    },
    {
      "cell_type": "code",
      "metadata": {
        "id": "QEW7Uxep51dO",
        "colab": {
          "base_uri": "https://localhost:8080/",
          "height": 425
        },
        "outputId": "432a5511-16ef-43a0-9d96-5ef1afc917af"
      },
      "source": [
        "import keras, keras.layers\n",
        "\n",
        "model = keras.models.Sequential([\n",
        "    keras.layers.InputLayer(input_shape=(None, 128)), \n",
        "    keras.layers.Conv1D(32, kernel_size=4), keras.layers.Activation('relu'),\n",
        "    keras.layers.Conv1D(64, kernel_size=4), keras.layers.Activation('relu'),\n",
        "    keras.layers.Conv1D(128, kernel_size=4), keras.layers.Activation('relu'),\n",
        "    keras.layers.GlobalAveragePooling1D(),\n",
        "    keras.layers.Dense(2, activation='softmax')\n",
        "])\n",
        "model.summary()"
      ],
      "execution_count": null,
      "outputs": [
        {
          "output_type": "stream",
          "text": [
            "Model: \"sequential_2\"\n",
            "_________________________________________________________________\n",
            "Layer (type)                 Output Shape              Param #   \n",
            "=================================================================\n",
            "conv1d_4 (Conv1D)            (None, None, 32)          16416     \n",
            "_________________________________________________________________\n",
            "activation_4 (Activation)    (None, None, 32)          0         \n",
            "_________________________________________________________________\n",
            "conv1d_5 (Conv1D)            (None, None, 64)          8256      \n",
            "_________________________________________________________________\n",
            "activation_5 (Activation)    (None, None, 64)          0         \n",
            "_________________________________________________________________\n",
            "conv1d_6 (Conv1D)            (None, None, 128)         32896     \n",
            "_________________________________________________________________\n",
            "activation_6 (Activation)    (None, None, 128)         0         \n",
            "_________________________________________________________________\n",
            "global_average_pooling1d_2 ( (None, 128)               0         \n",
            "_________________________________________________________________\n",
            "dense_2 (Dense)              (None, 2)                 258       \n",
            "=================================================================\n",
            "Total params: 57,826\n",
            "Trainable params: 57,826\n",
            "Non-trainable params: 0\n",
            "_________________________________________________________________\n"
          ],
          "name": "stdout"
        }
      ]
    },
    {
      "cell_type": "code",
      "metadata": {
        "id": "614WqEtx8tCv",
        "colab": {
          "base_uri": "https://localhost:8080/",
          "height": 341
        },
        "outputId": "eed3c44c-2204-46e0-dc05-d981d4cb5f45"
      },
      "source": [
        "model.compile('sgd', 'sparse_categorical_crossentropy',\n",
        "          metrics = ['sparse_categorical_accuracy'])\n",
        "model.fit(X_train, y_train, epochs=30, validation_data = [X_val, y_val]) "
      ],
      "execution_count": null,
      "outputs": [
        {
          "output_type": "error",
          "ename": "ValueError",
          "evalue": "ignored",
          "traceback": [
            "\u001b[0;31m---------------------------------------------------------------------------\u001b[0m",
            "\u001b[0;31mValueError\u001b[0m                                Traceback (most recent call last)",
            "\u001b[0;32m<ipython-input-32-9115b69ef6e4>\u001b[0m in \u001b[0;36m<module>\u001b[0;34m()\u001b[0m\n\u001b[1;32m      1\u001b[0m model.compile('sgd', 'sparse_categorical_crossentropy',\n\u001b[1;32m      2\u001b[0m           metrics = ['sparse_categorical_accuracy'])\n\u001b[0;32m----> 3\u001b[0;31m \u001b[0mmodel\u001b[0m\u001b[0;34m.\u001b[0m\u001b[0mfit\u001b[0m\u001b[0;34m(\u001b[0m\u001b[0mX_train\u001b[0m\u001b[0;34m,\u001b[0m \u001b[0my_train\u001b[0m\u001b[0;34m,\u001b[0m \u001b[0mepochs\u001b[0m\u001b[0;34m=\u001b[0m\u001b[0;36m30\u001b[0m\u001b[0;34m,\u001b[0m \u001b[0mvalidation_data\u001b[0m \u001b[0;34m=\u001b[0m \u001b[0;34m[\u001b[0m\u001b[0mX_val\u001b[0m\u001b[0;34m,\u001b[0m \u001b[0my_val\u001b[0m\u001b[0;34m]\u001b[0m\u001b[0;34m)\u001b[0m\u001b[0;34m\u001b[0m\u001b[0;34m\u001b[0m\u001b[0m\n\u001b[0m",
            "\u001b[0;32m/usr/local/lib/python3.6/dist-packages/keras/engine/training.py\u001b[0m in \u001b[0;36mfit\u001b[0;34m(self, x, y, batch_size, epochs, verbose, callbacks, validation_split, validation_data, shuffle, class_weight, sample_weight, initial_epoch, steps_per_epoch, validation_steps, validation_freq, max_queue_size, workers, use_multiprocessing, **kwargs)\u001b[0m\n\u001b[1;32m   1152\u001b[0m             \u001b[0msample_weight\u001b[0m\u001b[0;34m=\u001b[0m\u001b[0msample_weight\u001b[0m\u001b[0;34m,\u001b[0m\u001b[0;34m\u001b[0m\u001b[0;34m\u001b[0m\u001b[0m\n\u001b[1;32m   1153\u001b[0m             \u001b[0mclass_weight\u001b[0m\u001b[0;34m=\u001b[0m\u001b[0mclass_weight\u001b[0m\u001b[0;34m,\u001b[0m\u001b[0;34m\u001b[0m\u001b[0;34m\u001b[0m\u001b[0m\n\u001b[0;32m-> 1154\u001b[0;31m             batch_size=batch_size)\n\u001b[0m\u001b[1;32m   1155\u001b[0m \u001b[0;34m\u001b[0m\u001b[0m\n\u001b[1;32m   1156\u001b[0m         \u001b[0;31m# Prepare validation data.\u001b[0m\u001b[0;34m\u001b[0m\u001b[0;34m\u001b[0m\u001b[0;34m\u001b[0m\u001b[0m\n",
            "\u001b[0;32m/usr/local/lib/python3.6/dist-packages/keras/engine/training.py\u001b[0m in \u001b[0;36m_standardize_user_data\u001b[0;34m(self, x, y, sample_weight, class_weight, check_array_lengths, batch_size)\u001b[0m\n\u001b[1;32m    577\u001b[0m             \u001b[0mfeed_input_shapes\u001b[0m\u001b[0;34m,\u001b[0m\u001b[0;34m\u001b[0m\u001b[0;34m\u001b[0m\u001b[0m\n\u001b[1;32m    578\u001b[0m             \u001b[0mcheck_batch_axis\u001b[0m\u001b[0;34m=\u001b[0m\u001b[0;32mFalse\u001b[0m\u001b[0;34m,\u001b[0m  \u001b[0;31m# Don't enforce the batch size.\u001b[0m\u001b[0;34m\u001b[0m\u001b[0;34m\u001b[0m\u001b[0m\n\u001b[0;32m--> 579\u001b[0;31m             exception_prefix='input')\n\u001b[0m\u001b[1;32m    580\u001b[0m \u001b[0;34m\u001b[0m\u001b[0m\n\u001b[1;32m    581\u001b[0m         \u001b[0;32mif\u001b[0m \u001b[0my\u001b[0m \u001b[0;32mis\u001b[0m \u001b[0;32mnot\u001b[0m \u001b[0;32mNone\u001b[0m\u001b[0;34m:\u001b[0m\u001b[0;34m\u001b[0m\u001b[0;34m\u001b[0m\u001b[0m\n",
            "\u001b[0;32m/usr/local/lib/python3.6/dist-packages/keras/engine/training_utils.py\u001b[0m in \u001b[0;36mstandardize_input_data\u001b[0;34m(data, names, shapes, check_batch_axis, exception_prefix)\u001b[0m\n\u001b[1;32m    143\u001b[0m                             \u001b[0;34m': expected '\u001b[0m \u001b[0;34m+\u001b[0m \u001b[0mnames\u001b[0m\u001b[0;34m[\u001b[0m\u001b[0mi\u001b[0m\u001b[0;34m]\u001b[0m \u001b[0;34m+\u001b[0m \u001b[0;34m' to have shape '\u001b[0m \u001b[0;34m+\u001b[0m\u001b[0;34m\u001b[0m\u001b[0;34m\u001b[0m\u001b[0m\n\u001b[1;32m    144\u001b[0m                             \u001b[0mstr\u001b[0m\u001b[0;34m(\u001b[0m\u001b[0mshape\u001b[0m\u001b[0;34m)\u001b[0m \u001b[0;34m+\u001b[0m \u001b[0;34m' but got array with shape '\u001b[0m \u001b[0;34m+\u001b[0m\u001b[0;34m\u001b[0m\u001b[0;34m\u001b[0m\u001b[0m\n\u001b[0;32m--> 145\u001b[0;31m                             str(data_shape))\n\u001b[0m\u001b[1;32m    146\u001b[0m     \u001b[0;32mreturn\u001b[0m \u001b[0mdata\u001b[0m\u001b[0;34m\u001b[0m\u001b[0;34m\u001b[0m\u001b[0m\n\u001b[1;32m    147\u001b[0m \u001b[0;34m\u001b[0m\u001b[0m\n",
            "\u001b[0;31mValueError\u001b[0m: Error when checking input: expected input_2 to have shape (None, 128) but got array with shape (128, 150)"
          ]
        }
      ]
    },
    {
      "cell_type": "code",
      "metadata": {
        "id": "dH8CKmAievU7"
      },
      "source": [
        "testset = create_dataset('test')\n",
        "X_test, y_test = map(np.stack, zip(*testset))\n",
        "X_test = X_test.transpose([0, 2, 1])  # to [batch, time, channels]"
      ],
      "execution_count": null,
      "outputs": []
    },
    {
      "cell_type": "code",
      "metadata": {
        "id": "7CSH6bwVfakR"
      },
      "source": [
        "len(X_test)"
      ],
      "execution_count": null,
      "outputs": []
    },
    {
      "cell_type": "code",
      "metadata": {
        "id": "Un5JuTTifODf"
      },
      "source": [
        "y_pred = model.predict_classes(X_test)"
      ],
      "execution_count": null,
      "outputs": []
    },
    {
      "cell_type": "code",
      "metadata": {
        "id": "v6MK81SPf5BQ"
      },
      "source": [
        "accuracy_score(y_pred, y_test)"
      ],
      "execution_count": null,
      "outputs": []
    },
    {
      "cell_type": "markdown",
      "metadata": {
        "id": "VQ_gCidC9VvB"
      },
      "source": [
        "Простые идеи для улучшения классификатора (представим, что решаем задачу посложнее):\n",
        "1. 1d or 2d convolutions + batchnorm\n",
        "2. VGG-like, residual\n",
        "3. Upper batch size\n",
        "4. Data augmentation (background noise? jitter? freq?)\n",
        "5. Denoising?"
      ]
    },
    {
      "cell_type": "markdown",
      "metadata": {
        "id": "ALSbfUk_gl6f"
      },
      "source": [
        "### Часть 3\n",
        "усложняем себе жизнь -- добавим шумов в данные и посмотрим как получится"
      ]
    },
    {
      "cell_type": "code",
      "metadata": {
        "id": "ul3SdwMfpZnz"
      },
      "source": [
        "def spoil_with_noise(data, noise_factor=0.02):\n",
        "    noise = np.random.normal(size=len(data))\n",
        "    augmented_data = data + noise_factor * noise\n",
        "    # Cast back to same data type\n",
        "    augmented_data = augmented_data.astype(type(data[0]))\n",
        "    return augmented_data"
      ],
      "execution_count": null,
      "outputs": []
    },
    {
      "cell_type": "code",
      "metadata": {
        "id": "MWpMjqxcuP1b",
        "colab": {
          "base_uri": "https://localhost:8080/",
          "height": 162
        },
        "outputId": "358814a5-f686-475e-d7d7-52b79ee57494"
      },
      "source": [
        "test_wav = person_1.sentence_by_index(0).raw_audio"
      ],
      "execution_count": null,
      "outputs": [
        {
          "output_type": "error",
          "ename": "NameError",
          "evalue": "ignored",
          "traceback": [
            "\u001b[0;31m---------------------------------------------------------------------------\u001b[0m",
            "\u001b[0;31mNameError\u001b[0m                                 Traceback (most recent call last)",
            "\u001b[0;32m<ipython-input-2-a5cdc1f9f720>\u001b[0m in \u001b[0;36m<module>\u001b[0;34m()\u001b[0m\n\u001b[0;32m----> 1\u001b[0;31m \u001b[0mtest_wav\u001b[0m \u001b[0;34m=\u001b[0m \u001b[0mperson_1\u001b[0m\u001b[0;34m.\u001b[0m\u001b[0msentence_by_index\u001b[0m\u001b[0;34m(\u001b[0m\u001b[0;36m0\u001b[0m\u001b[0;34m)\u001b[0m\u001b[0;34m.\u001b[0m\u001b[0mraw_audio\u001b[0m\u001b[0;34m\u001b[0m\u001b[0;34m\u001b[0m\u001b[0m\n\u001b[0m",
            "\u001b[0;31mNameError\u001b[0m: name 'person_1' is not defined"
          ]
        }
      ]
    },
    {
      "cell_type": "code",
      "metadata": {
        "id": "DfNj2fRYqYrk"
      },
      "source": [
        "IPython.display.Audio(spoil_with_noise(person_1.sentence_by_index(0).raw_audio), rate=16000)"
      ],
      "execution_count": null,
      "outputs": []
    },
    {
      "cell_type": "code",
      "metadata": {
        "id": "9_yt47Z0rKxe"
      },
      "source": [
        "def spoil_dataset(mode='train'):\n",
        "  assert mode in ['train','test']\n",
        "  if mode == 'train':\n",
        "    people = [corpus.train.person_by_index(i) for i in range(400)]\n",
        "  if mode == 'test':\n",
        "    people = [corpus.test.person_by_index(i) for i in range(150)]\n",
        "  spectrograms_and_targets = []\n",
        "  for person in tqdm_notebook(people): \n",
        "    target = Speakers_info.return_sex(person.name)\n",
        "    for i in range(len(person.sentences)):\n",
        "      spectrograms_and_targets.append(preprocess_sample(spoil_with_noise(person.sentence_by_index(i).raw_audio),target))\n",
        "  return spectrograms_and_targets"
      ],
      "execution_count": null,
      "outputs": []
    },
    {
      "cell_type": "code",
      "metadata": {
        "id": "rC4cwPsCuA7E"
      },
      "source": [
        "def speed_change(data, speed_factor=0.5):\n",
        "  return librosa.effects.time_stretch(data, speed_factor)"
      ],
      "execution_count": null,
      "outputs": []
    },
    {
      "cell_type": "code",
      "metadata": {
        "id": "4GJhBOumuM8x"
      },
      "source": [
        "speed_change(test_wav)"
      ],
      "execution_count": null,
      "outputs": []
    },
    {
      "cell_type": "code",
      "metadata": {
        "id": "VISNT1GdszoJ"
      },
      "source": [
        "testset = spoil_dataset('test')\n",
        "X_test, y_test = map(np.stack, zip(*testset))\n",
        "X_test = X_test.transpose([0, 2, 1])  # to [batch, time, channels]"
      ],
      "execution_count": null,
      "outputs": []
    },
    {
      "cell_type": "code",
      "metadata": {
        "id": "AWhODeofs6ri"
      },
      "source": [
        "accuracy_score(model.predict_classes(X_test),y_test)"
      ],
      "execution_count": null,
      "outputs": []
    },
    {
      "cell_type": "code",
      "metadata": {
        "id": "7F_KIul_tLV6"
      },
      "source": [
        "@Nestyme\n",
        "@nda\n",
        "zueva.nn@phystech.edu"
      ],
      "execution_count": null,
      "outputs": []
    }
  ]
}