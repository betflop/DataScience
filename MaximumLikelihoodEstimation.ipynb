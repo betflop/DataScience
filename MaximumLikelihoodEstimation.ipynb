{
  "nbformat": 4,
  "nbformat_minor": 0,
  "metadata": {
    "colab": {
      "name": "MaximumLikelihoodEstimation.ipynb",
      "provenance": [],
      "collapsed_sections": [],
      "authorship_tag": "ABX9TyMhQqcwdFgLcfMbv+9zHHqi",
      "include_colab_link": true
    },
    "kernelspec": {
      "name": "python3",
      "display_name": "Python 3"
    }
  },
  "cells": [
    {
      "cell_type": "markdown",
      "metadata": {
        "id": "view-in-github",
        "colab_type": "text"
      },
      "source": [
        "<a href=\"https://colab.research.google.com/github/pavlyk/DataScience/blob/master/MaximumLikelihoodEstimation.ipynb\" target=\"_parent\"><img src=\"https://colab.research.google.com/assets/colab-badge.svg\" alt=\"Open In Colab\"/></a>"
      ]
    },
    {
      "cell_type": "code",
      "metadata": {
        "id": "Qi_h6Y5AL0vZ",
        "colab_type": "code",
        "outputId": "05c3eeb8-1778-4dbc-adeb-4b8f24bfb807",
        "colab": {
          "base_uri": "https://localhost:8080/",
          "height": 276
        }
      },
      "source": [
        "import matplotlib.pyplot as plt\n",
        "import math as math\n",
        "import numpy as np\n",
        "\n",
        "def ml(x):\n",
        "    return 117*math.log2(x) + 283*math.log2(1-x)\n",
        "\n",
        "x = np.linspace(0.01,0.99,100)\n",
        "y = np.array([])\n",
        "\n",
        "for i in x:\n",
        "    y = np.append(y, 2**ml(i))\n",
        "\n",
        "# print(x ,y)\n",
        "    \n",
        "plt.plot(x, y)\n",
        "plt.show()"
      ],
      "execution_count": 0,
      "outputs": [
        {
          "output_type": "display_data",
          "data": {
            "image/png": "[encoded data removed]",
            "text/plain": [
              "<Figure size 432x288 with 1 Axes>"
            ]
          },
          "metadata": {
            "tags": []
          }
        }
      ]
    },
    {
      "cell_type": "code",
      "metadata": {
        "id": "ugLtNzkzMds0",
        "colab_type": "code",
        "colab": {
          "base_uri": "https://localhost:8080/",
          "height": 68
        },
        "outputId": "28dcaece-6b51-4c3e-f13b-b8c1ab305721"
      },
      "source": [
        "# 5 событий с вариантами 1 или 0\n",
        "\n",
        "def likelihood(a, b):\n",
        "    return a*a*a*a*b\n",
        "\n",
        "print(likelihood(0.8,0.2))\n",
        "print(likelihood(0.7,0.3))\n",
        "print(likelihood(0.9,0.1))\n",
        "\n",
        "# Тоесть если произошло 5 событий, 4 из них Истина и 1 Ложь наиболее вероятно получаеться\n",
        "# Что вероятность события 0.8"
      ],
      "execution_count": 4,
      "outputs": [
        {
          "output_type": "stream",
          "text": [
            "0.08192000000000003\n",
            "0.07202999999999997\n",
            "0.06561000000000002\n"
          ],
          "name": "stdout"
        }
      ]
    },
    {
      "cell_type": "code",
      "metadata": {
        "id": "saOJ8YrY7U-e",
        "colab_type": "code",
        "colab": {}
      },
      "source": [
        "# В случае с плотностью вероятности\n",
        "# Смысл плотности распределения состоит в том, что она показывает \n",
        "# как часто появляется случайная величина Х в некоторой окрестности точки х при повторении опытов.\n",
        "#\n",
        "# Таким образом в случае например с нормальным распределением , мы пытаемся определить\n",
        "# что по определенным значениям Х (например рост человека 180) \n",
        "# с определенным сигма(его мы пытаемся найти) плотность получается 0.3 значит 30% выборки имеют такой рост\n",
        "# далее умножаем это на Х = 170 получаем например 0.1 и т.д. по всей имеющейся выборке.\n",
        "# И пытаемся найти такую сигму в которой данные нам Х будут получаеть максимальную правдоподобность\n",
        "# т.к. когда мы попадаем в большую часть выборки это само собой означает что это более вероятно правильная сигма и правильное распределение\n",
        "# тоесть на много более вероятно получить много частых значений например рост 170-190 и соответсвенно значение плотности условно 0.2-0.4\n",
        "\n",
        "# Соответственно меняю сигму у нас буду меняться значения например 0.2 0.2 0.4 0.1 0.1\n",
        "# или 0.5 0.3 0.05 0.05 0.1\n",
        "# и Метод Максимального Правдоподобия какая раз покажет какой из вариантов более вероятен\n",
        "# что мы попали в 0.5 выборки а потом в 0.1 0.1 0.1 0.1 0.1\n",
        "# или что мы попали в 0.15 0.1 0.2 0.2 0.2 0.15"
      ],
      "execution_count": 0,
      "outputs": []
    }
  ]
}