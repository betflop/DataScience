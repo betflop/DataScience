{
  "nbformat": 4,
  "nbformat_minor": 0,
  "metadata": {
    "colab": {
      "name": "C1W2_hometask_cosinus.ipynb",
      "provenance": [],
      "collapsed_sections": [],
      "include_colab_link": true
    },
    "kernelspec": {
      "display_name": "Python 3",
      "language": "python",
      "name": "python3"
    }
  },
  "cells": [
    {
      "cell_type": "markdown",
      "metadata": {
        "id": "view-in-github",
        "colab_type": "text"
      },
      "source": [
        "<a href=\"https://colab.research.google.com/github/pavlyk/DataScience/blob/master/C1W2_hometask_cosinus.ipynb\" target=\"_parent\"><img src=\"https://colab.research.google.com/assets/colab-badge.svg\" alt=\"Open In Colab\"/></a>"
      ]
    },
    {
      "cell_type": "code",
      "metadata": {
        "id": "Sg2kPpbNQiam",
        "colab_type": "code",
        "colab": {}
      },
      "source": [
        ""
      ],
      "execution_count": 0,
      "outputs": []
    },
    {
      "cell_type": "code",
      "metadata": {
        "id": "0prBp9-Pnj-q",
        "colab_type": "code",
        "outputId": "29d29e97-9fad-4295-8794-1657a3b1c33f",
        "colab": {}
      },
      "source": [
        "#аналог для пользователей windows\n",
        "!more sentences.txt"
      ],
      "execution_count": 0,
      "outputs": [
        {
          "output_type": "stream",
          "text": [
            "In comparison to dogs, cats have not undergone major changes during the domestication process.\n",
            "As cat simply catenates streams of bytes, it can be also used to concatenate binary files, where it will just concatenate sequence of bytes.\n",
            "A common interactive use of cat for a single file is to output the content of a file to standard output.\n",
            "Cats can hear sounds too faint or too high in frequency for human ears, such as those made by mice and other small animals.\n",
            "In one, people deliberately tamed cats in a process of artificial selection, as they were useful predators of vermin.\n",
            "The domesticated cat and its closest wild ancestor are both diploid organisms that possess 38 chromosomes and roughly 20,000 genes.\n",
            "Domestic cats are similar in size to the other members of the genus Felis, typically weighing between 4 and 5 kg (8.8 and 11.0 lb).\n",
            "However, if the output is piped or redirected, cat is unnecessary.\n",
            "cat with one named file is safer where human error is a concern - one wrong use of the default redirection symbol \">\" instead of \"<\" (often adjacent on keyboards) may permanently delete the file you were just needing to read.\n",
            "In terms of legibility, a sequence of commands starting with cat and connected by pipes has a clear left-to-right flow of information.\n",
            "Cat command is one of the basic commands that you learned when you started in the Unix / Linux world.\n",
            "Using cat command, the lines received from stdin can be redirected to a new file using redirection symbols.\n",
            "When you type simply cat command without any arguments, it just receives the stdin content and displays it in the stdout.\n",
            "Leopard was released on October 26, 2007 as the successor of Tiger (version 10.4), and is available in two editions.\n",
            "According to Apple, Leopard contains over 300 changes and enhancements over its predecessor, Mac OS X Tiger.\n",
            "As of Mid 2010, some Apple computers have firmware factory installed which will no longer allow installation of Mac OS X Leopard.\n",
            "Since Apple moved to using Intel processors in their computers, the OSx86 community has developed and now also allows Mac OS X Tiger and later releases to be installed on non-Apple x86-based computers.\n",
            "OS X Mountain Lion was released on July 25, 2012 for purchase and download through Apple's Mac App Store, as part of a switch to releasing OS X versions online and every year.\n",
            "Apple has released a small patch for the three most recent versions of Safari running on OS X Yosemite, Mavericks, and Mountain Lion.\n",
            "The Mountain Lion release marks the second time Apple has offered an incremental upgrade, rather than releasing a new cat entirely.\n",
            "Mac OS X Mountain Lion installs in place, so you won't need to create a separate disk or run the installation off an external drive.\n",
            "The fifth major update to Mac OS X, Leopard, contains such a mountain of features - more than 300 by Apple's count.\n"
          ],
          "name": "stdout"
        }
      ]
    },
    {
      "cell_type": "code",
      "metadata": {
        "id": "ESQElGOodPYu",
        "colab_type": "code",
        "outputId": "d95f1a24-9463-405e-cc6b-0c1e89ef02dc",
        "colab": {
          "base_uri": "https://localhost:8080/",
          "height": 34
        }
      },
      "source": [
        "fr = 'In comparison to dogs, cats have not undergone major changes during the domestication process.'\n",
        "all_words = re.split('[^a-z]', fr.lower())\n",
        "print(all_words)"
      ],
      "execution_count": 0,
      "outputs": [
        {
          "output_type": "stream",
          "text": [
            "['in', 'comparison', 'to', 'dogs', '', 'cats', 'have', 'not', 'undergone', 'major', 'changes', 'during', 'the', 'domestication', 'process', '']\n"
          ],
          "name": "stdout"
        }
      ]
    },
    {
      "cell_type": "code",
      "metadata": {
        "id": "xVa4irP_nj-u",
        "colab_type": "code",
        "colab": {}
      },
      "source": [
        ""
      ],
      "execution_count": 0,
      "outputs": []
    },
    {
      "cell_type": "code",
      "metadata": {
        "id": "zrgRAj_Anj-x",
        "colab_type": "code",
        "outputId": "c4893926-acc2-4883-ed05-94e05441c374",
        "colab": {
          "base_uri": "https://localhost:8080/",
          "height": 249
        }
      },
      "source": [
        "import re\n",
        "import collections\n",
        "import pprint\n",
        "\n",
        "#открытие файла для чтения с помощью встроенной функции open\n",
        "file_obj = open('sentences.txt', 'r')\n",
        "fr = file_obj.read()\n",
        "# fr = 'In comparison to dogs, cats have not undergone major changes during the domestication process.'\n",
        "all_words = re.split('[^a-z]', fr.lower())\n",
        "# print(all_words)\n",
        "all_words = list(filter(lambda a: a != '', all_words))\n",
        "all_words = list(set(all_words))\n",
        "\n",
        "file_obj = open('sentences.txt', 'r')\n",
        "arr_sent = []\n",
        "for line in file_obj:\n",
        "    words = re.split('[^a-z]', line.lower())\n",
        "    arr_sent.append(list(filter(lambda a: a != '', words)))\n",
        "\n",
        "    \n",
        "stat = []\n",
        "for sent in arr_sent:\n",
        "    word_counter = {}\n",
        "    for word in sent:\n",
        "        if word in word_counter:\n",
        "            word_counter[word] += 1\n",
        "        else:\n",
        "            word_counter[word] = 1\n",
        "            \n",
        "    stat.append({'index':arr_sent.index(sent),'word_counter':word_counter})\n",
        "\n",
        "\n",
        "matrix = []\n",
        "for st in stat:\n",
        "    vector = []\n",
        "    for word in all_words:\n",
        "        vector.append(st['word_counter'].get(word,0))\n",
        "    matrix.append(vector)\n",
        "\n",
        "import numpy as np    \n",
        "\n",
        "mx = np.array(matrix)\n",
        "\n",
        "print(mx.shape)  \n",
        "# pp = pprint.PrettyPrinter(indent=4)\n",
        "# pp.pprint(stat)  \n",
        "\n",
        "from scipy.spatial import distance\n",
        "\n",
        "for i in range(1,23):\n",
        "    print(i)\n",
        "    print(distance.cosine(mx[0], mx[i]))\n",
        "\n"
      ],
      "execution_count": 0,
      "outputs": [
        {
          "output_type": "stream",
          "text": [
            "['in', 'comparison', 'to', 'dogs', '', 'cats', 'have', 'not', 'undergone', 'major', 'changes', 'during', 'the', 'domestication', 'process', '']\n"
          ],
          "name": "stdout"
        },
        {
          "output_type": "error",
          "ename": "FileNotFoundError",
          "evalue": "ignored",
          "traceback": [
            "\u001b[0;31m---------------------------------------------------------------------------\u001b[0m",
            "\u001b[0;31mFileNotFoundError\u001b[0m                         Traceback (most recent call last)",
            "\u001b[0;32m<ipython-input-2-bdd54eedfef0>\u001b[0m in \u001b[0;36m<module>\u001b[0;34m()\u001b[0m\n\u001b[1;32m     12\u001b[0m \u001b[0mall_words\u001b[0m \u001b[0;34m=\u001b[0m \u001b[0mlist\u001b[0m\u001b[0;34m(\u001b[0m\u001b[0mset\u001b[0m\u001b[0;34m(\u001b[0m\u001b[0mall_words\u001b[0m\u001b[0;34m)\u001b[0m\u001b[0;34m)\u001b[0m\u001b[0;34m\u001b[0m\u001b[0;34m\u001b[0m\u001b[0m\n\u001b[1;32m     13\u001b[0m \u001b[0;34m\u001b[0m\u001b[0m\n\u001b[0;32m---> 14\u001b[0;31m \u001b[0mfile_obj\u001b[0m \u001b[0;34m=\u001b[0m \u001b[0mopen\u001b[0m\u001b[0;34m(\u001b[0m\u001b[0;34m'sentences.txt'\u001b[0m\u001b[0;34m,\u001b[0m \u001b[0;34m'r'\u001b[0m\u001b[0;34m)\u001b[0m\u001b[0;34m\u001b[0m\u001b[0;34m\u001b[0m\u001b[0m\n\u001b[0m\u001b[1;32m     15\u001b[0m \u001b[0marr_sent\u001b[0m \u001b[0;34m=\u001b[0m \u001b[0;34m[\u001b[0m\u001b[0;34m]\u001b[0m\u001b[0;34m\u001b[0m\u001b[0;34m\u001b[0m\u001b[0m\n\u001b[1;32m     16\u001b[0m \u001b[0;32mfor\u001b[0m \u001b[0mline\u001b[0m \u001b[0;32min\u001b[0m \u001b[0mfile_obj\u001b[0m\u001b[0;34m:\u001b[0m\u001b[0;34m\u001b[0m\u001b[0;34m\u001b[0m\u001b[0m\n",
            "\u001b[0;31mFileNotFoundError\u001b[0m: [Errno 2] No such file or directory: 'sentences.txt'"
          ]
        }
      ]
    },
    {
      "cell_type": "code",
      "metadata": {
        "id": "aLeE-L4unj-0",
        "colab_type": "code",
        "colab": {}
      },
      "source": [
        ""
      ],
      "execution_count": 0,
      "outputs": []
    }
  ]
}