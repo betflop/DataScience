{
  "nbformat": 4,
  "nbformat_minor": 0,
  "metadata": {
    "colab": {
      "name": "ODS Пример разделения признаков.ipynb",
      "provenance": [],
      "include_colab_link": true
    },
    "kernelspec": {
      "name": "python3",
      "display_name": "Python 3"
    }
  },
  "cells": [
    {
      "cell_type": "markdown",
      "metadata": {
        "id": "view-in-github",
        "colab_type": "text"
      },
      "source": [
        "<a href=\"https://colab.research.google.com/github/pavlyk/DataScience/blob/master/ODS_%D0%9F%D1%80%D0%B8%D0%BC%D0%B5%D1%80_%D1%80%D0%B0%D0%B7%D0%B4%D0%B5%D0%BB%D0%B5%D0%BD%D0%B8%D1%8F_%D0%BF%D1%80%D0%B8%D0%B7%D0%BD%D0%B0%D0%BA%D0%BE%D0%B2.ipynb\" target=\"_parent\"><img src=\"https://colab.research.google.com/assets/colab-badge.svg\" alt=\"Open In Colab\"/></a>"
      ]
    },
    {
      "cell_type": "code",
      "metadata": {
        "id": "Mqq_QDgXP-WU",
        "colab_type": "code",
        "colab": {}
      },
      "source": [
        "import numpy as np\n",
        "\n",
        "\n",
        "X = np.matrix('1 1 1; 1 1 2; 1 1 3; 1 2 3; 1 3 3; 1 3 4; 1 4 4; 1 4 5; 1 5 5')\n",
        "y = np.array([1,1,1,1,1,2,2,2,2])"
      ],
      "execution_count": 0,
      "outputs": []
    },
    {
      "cell_type": "code",
      "metadata": {
        "id": "_R8DWzt8OPQK",
        "colab_type": "code",
        "outputId": "717fb68e-9b9d-44a1-9791-0297fa67bec1",
        "colab": {
          "base_uri": "https://localhost:8080/",
          "height": 51
        }
      },
      "source": [
        "t1 = np.dot(X.T,X)\n",
        "t2 = np.dot(X.T,y)\n",
        "print(t2)\n",
        "W = np.linalg.solve(t1, np.array([13, 38,46]))\n",
        "print(W)"
      ],
      "execution_count": 0,
      "outputs": [
        {
          "output_type": "stream",
          "text": [
            "[[13 40 48]]\n",
            "[0.92063492 0.16666667 0.02380952]\n"
          ],
          "name": "stdout"
        }
      ]
    },
    {
      "cell_type": "code",
      "metadata": {
        "id": "4AVm9yrURJ_x",
        "colab_type": "code",
        "outputId": "ee925a14-43de-45f6-a683-f76d8c8801cb",
        "colab": {
          "base_uri": "https://localhost:8080/",
          "height": 34
        }
      },
      "source": [
        "1.26190476+0.25*5-0.17857143*5"
      ],
      "execution_count": 0,
      "outputs": [
        {
          "output_type": "execute_result",
          "data": {
            "text/plain": [
              "1.6190476100000002"
            ]
          },
          "metadata": {
            "tags": []
          },
          "execution_count": 35
        }
      ]
    },
    {
      "cell_type": "code",
      "metadata": {
        "id": "wfywhiFNTcgx",
        "colab_type": "code",
        "outputId": "53d6887d-4e2c-40f2-f57e-a46c19f59bef",
        "colab": {
          "base_uri": "https://localhost:8080/",
          "height": 269
        }
      },
      "source": [
        "%matplotlib inline\n",
        "from matplotlib import pyplot as plt\n",
        "\n",
        "plt.grid()\n",
        "plt.scatter([1,1,1,2,3,3,4,4,5], [1,2,3,3,3,4,4,5,5], c=y, s=100, cmap='autumn');"
      ],
      "execution_count": 0,
      "outputs": [
        {
          "output_type": "display_data",
          "data": {
            "image/png": "[encoded data removed]",
            "text/plain": [
              "<Figure size 432x288 with 1 Axes>"
            ]
          },
          "metadata": {
            "tags": []
          }
        }
      ]
    },
    {
      "cell_type": "code",
      "metadata": {
        "id": "i7a3fMJkUCXG",
        "colab_type": "code",
        "colab": {}
      },
      "source": [
        "def get_grid2(data):\n",
        "    x_min, x_max = 0, 6\n",
        "    y_min, y_max = 0, 6\n",
        "    # Цель meshgrid - создать прямоугольную сетку из массива значений x и массив значений y.\n",
        "    # arange Вернуть равномерно распределенные значения в заданном интервале.\n",
        "    return np.meshgrid(np.arange(x_min, x_max, 0.01), np.arange(y_min, y_max, 0.01))\n",
        "  \n",
        "xx, yy = get_grid2(X)\n",
        "\n",
        "xx = xx.ravel()\n",
        "\n",
        "yy = yy.ravel()"
      ],
      "execution_count": 0,
      "outputs": []
    },
    {
      "cell_type": "code",
      "metadata": {
        "id": "iPBtIOuLUqVa",
        "colab_type": "code",
        "colab": {}
      },
      "source": [
        "\n",
        "def pred(x ,y):\n",
        "  a = W[0] +W[1]*x+ W[2]*y\n",
        "  if a >=1.5:\n",
        "    return 1\n",
        "  else:\n",
        "    return 0\n",
        "\n",
        "predicted = []\n",
        "\n",
        "q = 0\n",
        "for i in xx:\n",
        "  \n",
        "  pr = pred(xx[q],yy[q])\n",
        "  predicted.append(pr)\n",
        "  q += 1"
      ],
      "execution_count": 0,
      "outputs": []
    },
    {
      "cell_type": "code",
      "metadata": {
        "id": "tjWBkDaZX_6i",
        "colab_type": "code",
        "outputId": "f647b95d-017f-4dc8-fed1-065e2789ce5a",
        "colab": {
          "base_uri": "https://localhost:8080/",
          "height": 34
        }
      },
      "source": [
        "xx.shape"
      ],
      "execution_count": 0,
      "outputs": [
        {
          "output_type": "execute_result",
          "data": {
            "text/plain": [
              "(360000,)"
            ]
          },
          "metadata": {
            "tags": []
          },
          "execution_count": 62
        }
      ]
    },
    {
      "cell_type": "code",
      "metadata": {
        "id": "eGGkX2klYChi",
        "colab_type": "code",
        "outputId": "b1ee6568-1b0b-4ffe-c445-db8f62f98b72",
        "colab": {
          "base_uri": "https://localhost:8080/",
          "height": 34
        }
      },
      "source": [
        "yy.shape"
      ],
      "execution_count": 0,
      "outputs": [
        {
          "output_type": "execute_result",
          "data": {
            "text/plain": [
              "(360000,)"
            ]
          },
          "metadata": {
            "tags": []
          },
          "execution_count": 63
        }
      ]
    },
    {
      "cell_type": "code",
      "metadata": {
        "id": "3zSwA0EyYEYc",
        "colab_type": "code",
        "outputId": "18c46520-019e-4e35-976f-789654dfbde0",
        "colab": {
          "base_uri": "https://localhost:8080/",
          "height": 34
        }
      },
      "source": [
        "len(predicted)"
      ],
      "execution_count": 0,
      "outputs": [
        {
          "output_type": "execute_result",
          "data": {
            "text/plain": [
              "360000"
            ]
          },
          "metadata": {
            "tags": []
          },
          "execution_count": 65
        }
      ]
    },
    {
      "cell_type": "code",
      "metadata": {
        "id": "cXHuIZLNXFas",
        "colab_type": "code",
        "outputId": "eff5f47b-6fca-42c6-f778-0473e11aba86",
        "colab": {
          "base_uri": "https://localhost:8080/",
          "height": 287
        }
      },
      "source": [
        "xx, yy = get_grid2(X)\n",
        "predicted = np.array(predicted)\n",
        "plt.pcolormesh(xx, yy, predicted.reshape(xx.shape), cmap='autumn') # Рисует фон\n",
        "plt.scatter([1,1,1,2,3,3,4,4,5], [1,2,3,3,3,4,4,5,5], c=y, s=100, cmap='autumn',edgecolors='black', linewidth=1.5)"
      ],
      "execution_count": 0,
      "outputs": [
        {
          "output_type": "execute_result",
          "data": {
            "text/plain": [
              "<matplotlib.collections.PathCollection at 0x7feeb761e5c0>"
            ]
          },
          "metadata": {
            "tags": []
          },
          "execution_count": 87
        },
        {
          "output_type": "display_data",
          "data": {
            "image/png": "[encoded data removed]",
            "text/plain": [
              "<Figure size 432x288 with 1 Axes>"
            ]
          },
          "metadata": {
            "tags": []
          }
        }
      ]
    },
    {
      "cell_type": "code",
      "metadata": {
        "id": "7OFZNfvLXM9q",
        "colab_type": "code",
        "colab": {}
      },
      "source": [
        ""
      ],
      "execution_count": 0,
      "outputs": []
    }
  ]
}