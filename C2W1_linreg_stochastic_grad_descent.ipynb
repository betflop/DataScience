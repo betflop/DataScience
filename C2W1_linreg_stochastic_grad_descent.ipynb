{
  "nbformat": 4,
  "nbformat_minor": 0,
  "metadata": {
    "kernelspec": {
      "display_name": "Python 3",
      "language": "python",
      "name": "python3"
    },
    "language_info": {
      "codemirror_mode": {
        "name": "ipython",
        "version": 3
      },
      "file_extension": ".py",
      "mimetype": "text/x-python",
      "name": "python",
      "nbconvert_exporter": "python",
      "pygments_lexer": "ipython3",
      "version": "3.6.7"
    },
    "colab": {
      "name": "C2W1_linreg_stochastic_grad_descent.ipynb",
      "provenance": [],
      "collapsed_sections": [],
      "include_colab_link": true
    }
  },
  "cells": [
    {
      "cell_type": "markdown",
      "metadata": {
        "id": "view-in-github",
        "colab_type": "text"
      },
      "source": [
        "<a href=\"https://colab.research.google.com/github/pavlyk/DataScience/blob/master/C2W1_linreg_stochastic_grad_descent.ipynb\" target=\"_parent\"><img src=\"https://colab.research.google.com/assets/colab-badge.svg\" alt=\"Open In Colab\"/></a>"
      ]
    },
    {
      "cell_type": "markdown",
      "metadata": {
        "id": "HgLJzW5cftay",
        "colab_type": "text"
      },
      "source": [
        "**Корректность проверена на Python 3.6:**\n",
        "+ numpy 1.15.4\n",
        "+ pandas 0.23.4"
      ]
    },
    {
      "cell_type": "markdown",
      "metadata": {
        "id": "o_pVy-B8ftaz",
        "colab_type": "text"
      },
      "source": [
        "# Линейная регрессия и стохастический градиентный спуск"
      ]
    },
    {
      "cell_type": "markdown",
      "metadata": {
        "id": "7e5yNeBufta0",
        "colab_type": "text"
      },
      "source": [
        "Задание основано на материалах лекций по линейной регрессии и градиентному спуску. Вы будете прогнозировать выручку компании в зависимости от уровня ее инвестиций в рекламу по TV, в газетах и по радио."
      ]
    },
    {
      "cell_type": "markdown",
      "metadata": {
        "id": "p8g1cjCZfta1",
        "colab_type": "text"
      },
      "source": [
        "## Вы научитесь:\n",
        "- решать задачу восстановления линейной регрессии\n",
        "- реализовывать стохастический градиентный спуск для ее настройки\n",
        "- решать задачу линейной регрессии аналитически"
      ]
    },
    {
      "cell_type": "markdown",
      "metadata": {
        "id": "BdGDjurpfta2",
        "colab_type": "text"
      },
      "source": [
        "## Введение\n",
        "Линейная регрессия - один из наиболее хорошо изученных методов машинного обучения, позволяющий прогнозировать значения количественного признака в виде линейной комбинации прочих признаков с параметрами - весами модели. Оптимальные (в смысле минимальности некоторого функционала ошибки) параметры линейной регрессии можно найти аналитически с помощью нормального уравнения или численно с помощью методов оптимизации.  "
      ]
    },
    {
      "cell_type": "markdown",
      "metadata": {
        "id": "GFX3yI6Rfta2",
        "colab_type": "text"
      },
      "source": [
        "Линейная регрессия использует простой функционал качества - среднеквадратичную ошибку. Мы будем работать с выборкой, содержащей 3 признака. Для настройки параметров (весов) модели решается следующая задача:\n",
        "$$\\Large \\frac{1}{\\ell}\\sum_{i=1}^\\ell{{((w_0 + w_1x_{i1} + w_2x_{i2} +  w_3x_{i3}) - y_i)}^2} \\rightarrow \\min_{w_0, w_1, w_2, w_3},$$\n",
        "где $x_{i1}, x_{i2}, x_{i3}$ - значения признаков $i$-го объекта, $y_i$ - значение целевого признака $i$-го объекта, $\\ell$ - число объектов в обучающей выборке."
      ]
    },
    {
      "cell_type": "markdown",
      "metadata": {
        "id": "CyHzahTRfta3",
        "colab_type": "text"
      },
      "source": [
        "## Градиентный спуск\n",
        "Параметры $w_0, w_1, w_2, w_3$, по которым минимизируется среднеквадратичная ошибка, можно находить численно с помощью градиентного спуска.\n",
        "Градиентный шаг для весов будет выглядеть следующим образом:\n",
        "$$\\Large w_0 \\leftarrow w_0 - \\frac{2\\eta}{\\ell} \\sum_{i=1}^\\ell{{((w_0 + w_1x_{i1} + w_2x_{i2} +  w_3x_{i3}) - y_i)}}$$\n",
        "$$\\Large w_j \\leftarrow w_j - \\frac{2\\eta}{\\ell} \\sum_{i=1}^\\ell{{x_{ij}((w_0 + w_1x_{i1} + w_2x_{i2} +  w_3x_{i3}) - y_i)}},\\ j \\in \\{1,2,3\\}$$\n",
        "Здесь $\\eta$ - параметр, шаг градиентного спуска."
      ]
    },
    {
      "cell_type": "markdown",
      "metadata": {
        "id": "P1bBiafxfta4",
        "colab_type": "text"
      },
      "source": [
        "## Стохастический градиентный спуск\n",
        "Проблема градиентного спуска, описанного выше, в том, что на больших выборках считать на каждом шаге градиент по всем имеющимся данным может быть очень вычислительно сложно. \n",
        "В стохастическом варианте градиентного спуска поправки для весов вычисляются только с учетом одного случайно взятого объекта обучающей выборки:\n",
        "$$\\Large w_0 \\leftarrow w_0 - \\frac{2\\eta}{\\ell} {((w_0 + w_1x_{k1} + w_2x_{k2} +  w_3x_{k3}) - y_k)}$$\n",
        "$$\\Large w_j \\leftarrow w_j - \\frac{2\\eta}{\\ell} {x_{kj}((w_0 + w_1x_{k1} + w_2x_{k2} +  w_3x_{k3}) - y_k)},\\ j \\in \\{1,2,3\\},$$\n",
        "где $k$ - случайный индекс, $k \\in \\{1, \\ldots, \\ell\\}$."
      ]
    },
    {
      "cell_type": "markdown",
      "metadata": {
        "id": "FIvR57uTfta5",
        "colab_type": "text"
      },
      "source": [
        "## Нормальное уравнение \n",
        "Нахождение вектора оптимальных весов $w$ может быть сделано и аналитически.\n",
        "Мы хотим найти такой вектор весов $w$, чтобы вектор $y$, приближающий целевой признак, получался умножением матрицы $X$ (состоящей из всех признаков объектов обучающей выборки, кроме целевого) на вектор весов $w$. То есть, чтобы выполнялось матричное уравнение:\n",
        "$$\\Large y = Xw$$\n",
        "Домножением слева на $X^T$ получаем:\n",
        "$$\\Large X^Ty = X^TXw$$\n",
        "Это хорошо, поскольку теперь матрица $X^TX$ - квадратная, и можно найти решение (вектор $w$) в виде:\n",
        "$$\\Large w = {(X^TX)}^{-1}X^Ty$$\n",
        "Матрица ${(X^TX)}^{-1}X^T$ - [*псевдообратная*](https://ru.wikipedia.org/wiki/Псевдообратная_матрица) для матрицы $X$. В NumPy такую матрицу можно вычислить с помощью функции [numpy.linalg.pinv](http://docs.scipy.org/doc/numpy-1.10.0/reference/generated/numpy.linalg.pinv.html).\n",
        "\n",
        "Однако, нахождение псевдообратной матрицы - операция вычислительно сложная и нестабильная в случае малого определителя матрицы $X$ (проблема мультиколлинеарности). \n",
        "На практике лучше находить вектор весов $w$ решением матричного уравнения \n",
        "$$\\Large X^TXw = X^Ty$$Это может быть сделано с помощью функции [numpy.linalg.solve](http://docs.scipy.org/doc/numpy-1.10.1/reference/generated/numpy.linalg.solve.html).\n",
        "\n",
        "Но все же на практике для больших матриц $X$ быстрее работает градиентный спуск, особенно его стохастическая версия."
      ]
    },
    {
      "cell_type": "markdown",
      "metadata": {
        "id": "A2DI0bwdfta5",
        "colab_type": "text"
      },
      "source": [
        "## Инструкции по выполнению"
      ]
    },
    {
      "cell_type": "markdown",
      "metadata": {
        "id": "KIoISIgjfta6",
        "colab_type": "text"
      },
      "source": [
        "**1. Загрузите данные из файла *advertising.csv* в объект pandas DataFrame. [Источник данных](http://www-bcf.usc.edu/~gareth/ISL/data.html).**"
      ]
    },
    {
      "cell_type": "code",
      "metadata": {
        "id": "03Tzmc5Vf6ZA",
        "colab_type": "code",
        "outputId": "fad83d44-c346-4a69-95c7-0fbc2be04d50",
        "colab": {
          "base_uri": "https://localhost:8080/",
          "height": 122
        }
      },
      "source": [
        "from google.colab import drive # Используется для чтения файлов с google drive\n",
        "drive.mount('/content/drive')"
      ],
      "execution_count": 0,
      "outputs": [
        {
          "output_type": "stream",
          "text": [
            "Go to this URL in a browser: https://accounts.google.com/o/oauth2/auth?client_id=947318989803-6bn6qk8qdgf4n4g3pfee6491hc0brc4i.apps.googleusercontent.com&redirect_uri=urn%3Aietf%3Awg%3Aoauth%3A2.0%3Aoob&scope=email%20https%3A%2F%2Fwww.googleapis.com%2Fauth%2Fdocs.test%20https%3A%2F%2Fwww.googleapis.com%2Fauth%2Fdrive%20https%3A%2F%2Fwww.googleapis.com%2Fauth%2Fdrive.photos.readonly%20https%3A%2F%2Fwww.googleapis.com%2Fauth%2Fpeopleapi.readonly&response_type=code\n",
            "\n",
            "Enter your authorization code:\n",
            "··········\n",
            "Mounted at /content/drive\n"
          ],
          "name": "stdout"
        }
      ]
    },
    {
      "cell_type": "code",
      "metadata": {
        "id": "HWtRXkKjfta7",
        "colab_type": "code",
        "colab": {}
      },
      "source": [
        "import pandas as pd\n",
        "from pathlib import Path\n",
        "\n",
        "PATH_TO_DATA = Path('drive/My Drive/_YandexDS/C2/')\n",
        "adver_data = pd.read_csv(PATH_TO_DATA / 'advertising.csv')"
      ],
      "execution_count": 0,
      "outputs": []
    },
    {
      "cell_type": "markdown",
      "metadata": {
        "collapsed": true,
        "id": "9BLVamKffta_",
        "colab_type": "text"
      },
      "source": [
        "**Посмотрите на первые 5 записей и на статистику признаков в этом наборе данных.**"
      ]
    },
    {
      "cell_type": "code",
      "metadata": {
        "id": "ejCgdauffta_",
        "colab_type": "code",
        "outputId": "9b57582e-12c6-44c4-aac1-a442ccf1f268",
        "colab": {
          "base_uri": "https://localhost:8080/",
          "height": 204
        }
      },
      "source": [
        "adver_data.head()"
      ],
      "execution_count": 0,
      "outputs": [
        {
          "output_type": "execute_result",
          "data": {
            "text/html": [
              "<div>\n",
              "<style scoped>\n",
              "    .dataframe tbody tr th:only-of-type {\n",
              "        vertical-align: middle;\n",
              "    }\n",
              "\n",
              "    .dataframe tbody tr th {\n",
              "        vertical-align: top;\n",
              "    }\n",
              "\n",
              "    .dataframe thead th {\n",
              "        text-align: right;\n",
              "    }\n",
              "</style>\n",
              "<table border=\"1\" class=\"dataframe\">\n",
              "  <thead>\n",
              "    <tr style=\"text-align: right;\">\n",
              "      <th></th>\n",
              "      <th>TV</th>\n",
              "      <th>Radio</th>\n",
              "      <th>Newspaper</th>\n",
              "      <th>Sales</th>\n",
              "    </tr>\n",
              "  </thead>\n",
              "  <tbody>\n",
              "    <tr>\n",
              "      <th>1</th>\n",
              "      <td>230.1</td>\n",
              "      <td>37.8</td>\n",
              "      <td>69.2</td>\n",
              "      <td>22.1</td>\n",
              "    </tr>\n",
              "    <tr>\n",
              "      <th>2</th>\n",
              "      <td>44.5</td>\n",
              "      <td>39.3</td>\n",
              "      <td>45.1</td>\n",
              "      <td>10.4</td>\n",
              "    </tr>\n",
              "    <tr>\n",
              "      <th>3</th>\n",
              "      <td>17.2</td>\n",
              "      <td>45.9</td>\n",
              "      <td>69.3</td>\n",
              "      <td>9.3</td>\n",
              "    </tr>\n",
              "    <tr>\n",
              "      <th>4</th>\n",
              "      <td>151.5</td>\n",
              "      <td>41.3</td>\n",
              "      <td>58.5</td>\n",
              "      <td>18.5</td>\n",
              "    </tr>\n",
              "    <tr>\n",
              "      <th>5</th>\n",
              "      <td>180.8</td>\n",
              "      <td>10.8</td>\n",
              "      <td>58.4</td>\n",
              "      <td>12.9</td>\n",
              "    </tr>\n",
              "  </tbody>\n",
              "</table>\n",
              "</div>"
            ],
            "text/plain": [
              "      TV  Radio  Newspaper  Sales\n",
              "1  230.1   37.8       69.2   22.1\n",
              "2   44.5   39.3       45.1   10.4\n",
              "3   17.2   45.9       69.3    9.3\n",
              "4  151.5   41.3       58.5   18.5\n",
              "5  180.8   10.8       58.4   12.9"
            ]
          },
          "metadata": {
            "tags": []
          },
          "execution_count": 3
        }
      ]
    },
    {
      "cell_type": "code",
      "metadata": {
        "id": "qjSZhVEMftbC",
        "colab_type": "code",
        "outputId": "d6816298-21a3-4be0-e980-f8398c16ceba",
        "colab": {
          "base_uri": "https://localhost:8080/",
          "height": 297
        }
      },
      "source": [
        "adver_data.describe()"
      ],
      "execution_count": 0,
      "outputs": [
        {
          "output_type": "execute_result",
          "data": {
            "text/html": [
              "<div>\n",
              "<style scoped>\n",
              "    .dataframe tbody tr th:only-of-type {\n",
              "        vertical-align: middle;\n",
              "    }\n",
              "\n",
              "    .dataframe tbody tr th {\n",
              "        vertical-align: top;\n",
              "    }\n",
              "\n",
              "    .dataframe thead th {\n",
              "        text-align: right;\n",
              "    }\n",
              "</style>\n",
              "<table border=\"1\" class=\"dataframe\">\n",
              "  <thead>\n",
              "    <tr style=\"text-align: right;\">\n",
              "      <th></th>\n",
              "      <th>TV</th>\n",
              "      <th>Radio</th>\n",
              "      <th>Newspaper</th>\n",
              "      <th>Sales</th>\n",
              "    </tr>\n",
              "  </thead>\n",
              "  <tbody>\n",
              "    <tr>\n",
              "      <th>count</th>\n",
              "      <td>200.000000</td>\n",
              "      <td>200.000000</td>\n",
              "      <td>200.000000</td>\n",
              "      <td>200.000000</td>\n",
              "    </tr>\n",
              "    <tr>\n",
              "      <th>mean</th>\n",
              "      <td>147.042500</td>\n",
              "      <td>23.264000</td>\n",
              "      <td>30.554000</td>\n",
              "      <td>14.022500</td>\n",
              "    </tr>\n",
              "    <tr>\n",
              "      <th>std</th>\n",
              "      <td>85.854236</td>\n",
              "      <td>14.846809</td>\n",
              "      <td>21.778621</td>\n",
              "      <td>5.217457</td>\n",
              "    </tr>\n",
              "    <tr>\n",
              "      <th>min</th>\n",
              "      <td>0.700000</td>\n",
              "      <td>0.000000</td>\n",
              "      <td>0.300000</td>\n",
              "      <td>1.600000</td>\n",
              "    </tr>\n",
              "    <tr>\n",
              "      <th>25%</th>\n",
              "      <td>74.375000</td>\n",
              "      <td>9.975000</td>\n",
              "      <td>12.750000</td>\n",
              "      <td>10.375000</td>\n",
              "    </tr>\n",
              "    <tr>\n",
              "      <th>50%</th>\n",
              "      <td>149.750000</td>\n",
              "      <td>22.900000</td>\n",
              "      <td>25.750000</td>\n",
              "      <td>12.900000</td>\n",
              "    </tr>\n",
              "    <tr>\n",
              "      <th>75%</th>\n",
              "      <td>218.825000</td>\n",
              "      <td>36.525000</td>\n",
              "      <td>45.100000</td>\n",
              "      <td>17.400000</td>\n",
              "    </tr>\n",
              "    <tr>\n",
              "      <th>max</th>\n",
              "      <td>296.400000</td>\n",
              "      <td>49.600000</td>\n",
              "      <td>114.000000</td>\n",
              "      <td>27.000000</td>\n",
              "    </tr>\n",
              "  </tbody>\n",
              "</table>\n",
              "</div>"
            ],
            "text/plain": [
              "               TV       Radio   Newspaper       Sales\n",
              "count  200.000000  200.000000  200.000000  200.000000\n",
              "mean   147.042500   23.264000   30.554000   14.022500\n",
              "std     85.854236   14.846809   21.778621    5.217457\n",
              "min      0.700000    0.000000    0.300000    1.600000\n",
              "25%     74.375000    9.975000   12.750000   10.375000\n",
              "50%    149.750000   22.900000   25.750000   12.900000\n",
              "75%    218.825000   36.525000   45.100000   17.400000\n",
              "max    296.400000   49.600000  114.000000   27.000000"
            ]
          },
          "metadata": {
            "tags": []
          },
          "execution_count": 4
        }
      ]
    },
    {
      "cell_type": "markdown",
      "metadata": {
        "id": "Wyt1mLSpftbF",
        "colab_type": "text"
      },
      "source": [
        "**Создайте массивы NumPy *X* из столбцов TV, Radio и Newspaper и *y* - из столбца Sales. Используйте атрибут *values* объекта pandas DataFrame.**"
      ]
    },
    {
      "cell_type": "code",
      "metadata": {
        "id": "Rn1VOe12ftbF",
        "colab_type": "code",
        "colab": {}
      },
      "source": [
        "X = adver_data[['TV','Radio','Newspaper']].values\n",
        "y = adver_data['Sales'].values"
      ],
      "execution_count": 0,
      "outputs": []
    },
    {
      "cell_type": "markdown",
      "metadata": {
        "id": "-bi8lq8VftbH",
        "colab_type": "text"
      },
      "source": [
        "**Отмасштабируйте столбцы матрицы *X*, вычтя из каждого значения среднее по соответствующему столбцу и поделив результат на стандартное отклонение. Для определенности, используйте методы mean и std векторов NumPy (реализация std в Pandas может отличаться). Обратите внимание, что в numpy вызов функции .mean() без параметров возвращает среднее по всем элементам массива, а не по столбцам, как в pandas. Чтобы произвести вычисление по столбцам, необходимо указать параметр axis.**"
      ]
    },
    {
      "cell_type": "code",
      "metadata": {
        "id": "LX8LBMjjftbI",
        "colab_type": "code",
        "colab": {}
      },
      "source": [
        "means, stds = X.mean(axis=0), X.std(axis=0)"
      ],
      "execution_count": 0,
      "outputs": []
    },
    {
      "cell_type": "code",
      "metadata": {
        "id": "qNthkmY2ftbK",
        "colab_type": "code",
        "colab": {}
      },
      "source": [
        "X = (X - means)/stds"
      ],
      "execution_count": 0,
      "outputs": []
    },
    {
      "cell_type": "markdown",
      "metadata": {
        "id": "cdbfAicEftbM",
        "colab_type": "text"
      },
      "source": [
        "**Добавьте к матрице *X* столбец из единиц, используя методы *hstack*, *ones* и *reshape* библиотеки NumPy. Вектор из единиц нужен для того, чтобы не обрабатывать отдельно коэффициент $w_0$ линейной регрессии.**"
      ]
    },
    {
      "cell_type": "code",
      "metadata": {
        "id": "vePyJov-NFV1",
        "colab_type": "code",
        "outputId": "5e8c0893-3a14-4864-f859-22c7b192abac",
        "colab": {
          "base_uri": "https://localhost:8080/",
          "height": 102
        }
      },
      "source": [
        "X[0:5]"
      ],
      "execution_count": 0,
      "outputs": [
        {
          "output_type": "execute_result",
          "data": {
            "text/plain": [
              "array([[ 0.96985227,  0.98152247,  1.77894547],\n",
              "       [-1.19737623,  1.08280781,  0.66957876],\n",
              "       [-1.51615499,  1.52846331,  1.78354865],\n",
              "       [ 0.05204968,  1.21785493,  1.28640506],\n",
              "       [ 0.3941822 , -0.84161366,  1.28180188]])"
            ]
          },
          "metadata": {
            "tags": []
          },
          "execution_count": 50
        }
      ]
    },
    {
      "cell_type": "code",
      "metadata": {
        "id": "pIUuQB8_ftbM",
        "colab_type": "code",
        "colab": {}
      },
      "source": [
        "import numpy as np\n",
        "X = np.hstack((np.ones(200).reshape(200,1),X))"
      ],
      "execution_count": 0,
      "outputs": []
    },
    {
      "cell_type": "markdown",
      "metadata": {
        "id": "faKZIYQLftbO",
        "colab_type": "text"
      },
      "source": [
        "**2. Реализуйте функцию *mserror* - среднеквадратичную ошибку прогноза. Она принимает два аргумента - объекты Series *y* (значения целевого признака) и *y\\_pred* (предсказанные значения). Не используйте в этой функции циклы - тогда она будет вычислительно \n",
        "неэффективной.**"
      ]
    },
    {
      "cell_type": "code",
      "metadata": {
        "id": "nae5dkQWftbP",
        "colab_type": "code",
        "colab": {}
      },
      "source": [
        "def mserror(y, y_pred):\n",
        "    mean = y.mean()\n",
        "    \n",
        "    return np.sqrt((y_pred - mean)**2/len(y_pred))"
      ],
      "execution_count": 0,
      "outputs": []
    },
    {
      "cell_type": "markdown",
      "metadata": {
        "id": "ygckAVEoftbR",
        "colab_type": "text"
      },
      "source": [
        "**Какова среднеквадратичная ошибка прогноза значений Sales, если всегда предсказывать медианное значение Sales по исходной выборке? Полученный результат, округленный до 3 знаков после запятой, является ответом на *'1 задание'.***"
      ]
    },
    {
      "cell_type": "code",
      "metadata": {
        "id": "Q2yMdbZhn_OK",
        "colab_type": "code",
        "outputId": "cbc8e3d5-a0b8-4950-ee20-b7c0ece395de",
        "colab": {
          "base_uri": "https://localhost:8080/",
          "height": 340
        }
      },
      "source": [
        "y"
      ],
      "execution_count": 0,
      "outputs": [
        {
          "output_type": "execute_result",
          "data": {
            "text/plain": [
              "array([22.1, 10.4,  9.3, 18.5, 12.9,  7.2, 11.8, 13.2,  4.8, 10.6,  8.6,\n",
              "       17.4,  9.2,  9.7, 19. , 22.4, 12.5, 24.4, 11.3, 14.6, 18. , 12.5,\n",
              "        5.6, 15.5,  9.7, 12. , 15. , 15.9, 18.9, 10.5, 21.4, 11.9,  9.6,\n",
              "       17.4,  9.5, 12.8, 25.4, 14.7, 10.1, 21.5, 16.6, 17.1, 20.7, 12.9,\n",
              "        8.5, 14.9, 10.6, 23.2, 14.8,  9.7, 11.4, 10.7, 22.6, 21.2, 20.2,\n",
              "       23.7,  5.5, 13.2, 23.8, 18.4,  8.1, 24.2, 15.7, 14. , 18. ,  9.3,\n",
              "        9.5, 13.4, 18.9, 22.3, 18.3, 12.4,  8.8, 11. , 17. ,  8.7,  6.9,\n",
              "       14.2,  5.3, 11. , 11.8, 12.3, 11.3, 13.6, 21.7, 15.2, 12. , 16. ,\n",
              "       12.9, 16.7, 11.2,  7.3, 19.4, 22.2, 11.5, 16.9, 11.7, 15.5, 25.4,\n",
              "       17.2, 11.7, 23.8, 14.8, 14.7, 20.7, 19.2,  7.2,  8.7,  5.3, 19.8,\n",
              "       13.4, 21.8, 14.1, 15.9, 14.6, 12.6, 12.2,  9.4, 15.9,  6.6, 15.5,\n",
              "        7. , 11.6, 15.2, 19.7, 10.6,  6.6,  8.8, 24.7,  9.7,  1.6, 12.7,\n",
              "        5.7, 19.6, 10.8, 11.6,  9.5, 20.8,  9.6, 20.7, 10.9, 19.2, 20.1,\n",
              "       10.4, 11.4, 10.3, 13.2, 25.4, 10.9, 10.1, 16.1, 11.6, 16.6, 19. ,\n",
              "       15.6,  3.2, 15.3, 10.1,  7.3, 12.9, 14.4, 13.3, 14.9, 18. , 11.9,\n",
              "       11.9,  8. , 12.2, 17.1, 15. ,  8.4, 14.5,  7.6, 11.7, 11.5, 27. ,\n",
              "       20.2, 11.7, 11.8, 12.6, 10.5, 12.2,  8.7, 26.2, 17.6, 22.6, 10.3,\n",
              "       17.3, 15.9,  6.7, 10.8,  9.9,  5.9, 19.6, 17.3,  7.6,  9.7, 12.8,\n",
              "       25.5, 13.4])"
            ]
          },
          "metadata": {
            "tags": []
          },
          "execution_count": 112
        }
      ]
    },
    {
      "cell_type": "code",
      "metadata": {
        "id": "CVLS46eEoCFO",
        "colab_type": "code",
        "outputId": "2765c995-10cf-4f1f-92a6-1915d7e4e158",
        "colab": {
          "base_uri": "https://localhost:8080/",
          "height": 340
        }
      },
      "source": [
        "np.full((200),12.900000)"
      ],
      "execution_count": 0,
      "outputs": [
        {
          "output_type": "execute_result",
          "data": {
            "text/plain": [
              "array([12.9, 12.9, 12.9, 12.9, 12.9, 12.9, 12.9, 12.9, 12.9, 12.9, 12.9,\n",
              "       12.9, 12.9, 12.9, 12.9, 12.9, 12.9, 12.9, 12.9, 12.9, 12.9, 12.9,\n",
              "       12.9, 12.9, 12.9, 12.9, 12.9, 12.9, 12.9, 12.9, 12.9, 12.9, 12.9,\n",
              "       12.9, 12.9, 12.9, 12.9, 12.9, 12.9, 12.9, 12.9, 12.9, 12.9, 12.9,\n",
              "       12.9, 12.9, 12.9, 12.9, 12.9, 12.9, 12.9, 12.9, 12.9, 12.9, 12.9,\n",
              "       12.9, 12.9, 12.9, 12.9, 12.9, 12.9, 12.9, 12.9, 12.9, 12.9, 12.9,\n",
              "       12.9, 12.9, 12.9, 12.9, 12.9, 12.9, 12.9, 12.9, 12.9, 12.9, 12.9,\n",
              "       12.9, 12.9, 12.9, 12.9, 12.9, 12.9, 12.9, 12.9, 12.9, 12.9, 12.9,\n",
              "       12.9, 12.9, 12.9, 12.9, 12.9, 12.9, 12.9, 12.9, 12.9, 12.9, 12.9,\n",
              "       12.9, 12.9, 12.9, 12.9, 12.9, 12.9, 12.9, 12.9, 12.9, 12.9, 12.9,\n",
              "       12.9, 12.9, 12.9, 12.9, 12.9, 12.9, 12.9, 12.9, 12.9, 12.9, 12.9,\n",
              "       12.9, 12.9, 12.9, 12.9, 12.9, 12.9, 12.9, 12.9, 12.9, 12.9, 12.9,\n",
              "       12.9, 12.9, 12.9, 12.9, 12.9, 12.9, 12.9, 12.9, 12.9, 12.9, 12.9,\n",
              "       12.9, 12.9, 12.9, 12.9, 12.9, 12.9, 12.9, 12.9, 12.9, 12.9, 12.9,\n",
              "       12.9, 12.9, 12.9, 12.9, 12.9, 12.9, 12.9, 12.9, 12.9, 12.9, 12.9,\n",
              "       12.9, 12.9, 12.9, 12.9, 12.9, 12.9, 12.9, 12.9, 12.9, 12.9, 12.9,\n",
              "       12.9, 12.9, 12.9, 12.9, 12.9, 12.9, 12.9, 12.9, 12.9, 12.9, 12.9,\n",
              "       12.9, 12.9, 12.9, 12.9, 12.9, 12.9, 12.9, 12.9, 12.9, 12.9, 12.9,\n",
              "       12.9, 12.9])"
            ]
          },
          "metadata": {
            "tags": []
          },
          "execution_count": 114
        }
      ]
    },
    {
      "cell_type": "code",
      "metadata": {
        "id": "8tBqdaLqfxHc",
        "colab_type": "code",
        "outputId": "50d9f94f-f5a2-43c1-bcdc-c48db2d08266",
        "colab": {
          "base_uri": "https://localhost:8080/",
          "height": 136
        }
      },
      "source": [
        "t1 = np.dot(X.T,X)\n",
        "t2 = np.dot(X.T,y)\n",
        "print(X.shape, y.shape)\n",
        "print(t1.shape, t2.shape)\n",
        "print(t1)\n",
        "print(t2)\n",
        "\n",
        "# np.linalg.solve(X, y)"
      ],
      "execution_count": 0,
      "outputs": [
        {
          "output_type": "stream",
          "text": [
            "(200, 4) (200,)\n",
            "(4, 4) (4,)\n",
            "[[ 2.00000000e+02  2.20934382e-14 -8.82627305e-14  4.44089210e-14]\n",
            " [ 2.20934382e-14  2.00000000e+02  1.09617329e+01  1.13295750e+01]\n",
            " [-8.82627305e-14  1.09617329e+01  2.00000000e+02  7.08207502e+01]\n",
            " [ 4.44089210e-14  1.13295750e+01  7.08207502e+01  2.00000000e+02]]\n",
            "[2804.5         814.20122413  599.77815915  237.63173437]\n"
          ],
          "name": "stdout"
        }
      ]
    },
    {
      "cell_type": "markdown",
      "metadata": {
        "id": "GSAf3rSuqUya",
        "colab_type": "text"
      },
      "source": [
        "$$\\large MSE =  \\frac{\\sum\\limits_{i=1}^n(y_i-\\widehat y_i)^2}{n} $$"
      ]
    },
    {
      "cell_type": "code",
      "metadata": {
        "id": "KIEUxbNgjJ-L",
        "colab_type": "code",
        "outputId": "dda6bf37-124a-4e7c-c426-c51b4987b614",
        "colab": {
          "base_uri": "https://localhost:8080/",
          "height": 34
        }
      },
      "source": [
        "mean = y.mean()\n",
        "\n",
        "y_pred = np.full((200),12.900000)\n",
        "\n",
        "# Z = (y - y_pred)**2\n",
        "# Z.sum()/200\n",
        "\n",
        "error = ((y - y_pred)**2).sum()  \n",
        "error = error /(y.shape[0])\n",
        "error"
      ],
      "execution_count": 0,
      "outputs": [
        {
          "output_type": "execute_result",
          "data": {
            "text/plain": [
              "28.34575"
            ]
          },
          "metadata": {
            "tags": []
          },
          "execution_count": 115
        }
      ]
    },
    {
      "cell_type": "code",
      "metadata": {
        "id": "N1TyDINhftbS",
        "colab_type": "code",
        "outputId": "63ac1635-5638-4802-cce1-a5d9ea697a01",
        "colab": {
          "base_uri": "https://localhost:8080/",
          "height": 282
        }
      },
      "source": [
        "answer1 = mserror(y, np.full((200),14.022500).reshape(200,1))\n",
        "answer1\n",
        "print(round(answer1, 3))"
      ],
      "execution_count": 0,
      "outputs": [
        {
          "output_type": "error",
          "ename": "TypeError",
          "evalue": "ignored",
          "traceback": [
            "\u001b[0;31m---------------------------------------------------------------------------\u001b[0m",
            "\u001b[0;31mTypeError\u001b[0m                                 Traceback (most recent call last)",
            "\u001b[0;32m<ipython-input-85-789b501c8b41>\u001b[0m in \u001b[0;36m<module>\u001b[0;34m()\u001b[0m\n\u001b[0;32m----> 1\u001b[0;31m \u001b[0manswer1\u001b[0m \u001b[0;34m=\u001b[0m \u001b[0mmserror\u001b[0m\u001b[0;34m(\u001b[0m\u001b[0my\u001b[0m\u001b[0;34m,\u001b[0m \u001b[0mnp\u001b[0m\u001b[0;34m.\u001b[0m\u001b[0mfull\u001b[0m\u001b[0;34m(\u001b[0m\u001b[0;34m(\u001b[0m\u001b[0;36m200\u001b[0m\u001b[0;34m)\u001b[0m\u001b[0;34m,\u001b[0m\u001b[0;36m14.022500\u001b[0m\u001b[0;34m)\u001b[0m\u001b[0;34m.\u001b[0m\u001b[0mreshape\u001b[0m\u001b[0;34m(\u001b[0m\u001b[0;36m200\u001b[0m\u001b[0;34m,\u001b[0m\u001b[0;36m1\u001b[0m\u001b[0;34m)\u001b[0m\u001b[0;34m)\u001b[0m\u001b[0;34m\u001b[0m\u001b[0;34m\u001b[0m\u001b[0m\n\u001b[0m\u001b[1;32m      2\u001b[0m \u001b[0manswer1\u001b[0m\u001b[0;34m\u001b[0m\u001b[0;34m\u001b[0m\u001b[0m\n\u001b[1;32m      3\u001b[0m \u001b[0;31m# print(round(answer1, 3))\u001b[0m\u001b[0;34m\u001b[0m\u001b[0;34m\u001b[0m\u001b[0;34m\u001b[0m\u001b[0m\n",
            "\u001b[0;32m<ipython-input-63-ba1d7ad0795b>\u001b[0m in \u001b[0;36mmserror\u001b[0;34m(y, y_pred)\u001b[0m\n\u001b[1;32m      4\u001b[0m     \u001b[0mmean\u001b[0m \u001b[0;34m=\u001b[0m \u001b[0my\u001b[0m\u001b[0;34m.\u001b[0m\u001b[0mmean\u001b[0m\u001b[0;34m(\u001b[0m\u001b[0;34m)\u001b[0m\u001b[0;34m\u001b[0m\u001b[0;34m\u001b[0m\u001b[0m\n\u001b[1;32m      5\u001b[0m \u001b[0;34m\u001b[0m\u001b[0m\n\u001b[0;32m----> 6\u001b[0;31m     \u001b[0;32mreturn\u001b[0m \u001b[0mmath\u001b[0m\u001b[0;34m.\u001b[0m\u001b[0msqrt\u001b[0m\u001b[0;34m(\u001b[0m\u001b[0;34m(\u001b[0m\u001b[0my_pred\u001b[0m \u001b[0;34m-\u001b[0m \u001b[0mmean\u001b[0m\u001b[0;34m)\u001b[0m\u001b[0;34m/\u001b[0m\u001b[0mlen\u001b[0m\u001b[0;34m(\u001b[0m\u001b[0my_pred\u001b[0m\u001b[0;34m)\u001b[0m\u001b[0;34m)\u001b[0m\u001b[0;34m\u001b[0m\u001b[0;34m\u001b[0m\u001b[0m\n\u001b[0m",
            "\u001b[0;31mTypeError\u001b[0m: only size-1 arrays can be converted to Python scalars"
          ]
        }
      ]
    },
    {
      "cell_type": "markdown",
      "metadata": {
        "id": "TRgueO4RftbU",
        "colab_type": "text"
      },
      "source": [
        "**3. Реализуйте функцию *normal_equation*, которая по заданным матрицам (массивам NumPy) *X* и *y* вычисляет вектор весов $w$ согласно нормальному уравнению линейной регрессии.**"
      ]
    },
    {
      "cell_type": "markdown",
      "metadata": {
        "id": "Azz20Wq3uY5y",
        "colab_type": "text"
      },
      "source": [
        "Матрица ${(X^TX)}^{-1}X^T$"
      ]
    },
    {
      "cell_type": "code",
      "metadata": {
        "id": "odDPg3cXA1BZ",
        "colab_type": "code",
        "outputId": "b666076a-2e7b-45cd-cd98-57e1e2cc437b",
        "colab": {
          "base_uri": "https://localhost:8080/",
          "height": 1000
        }
      },
      "source": [
        "X"
      ],
      "execution_count": 0,
      "outputs": [
        {
          "output_type": "execute_result",
          "data": {
            "text/plain": [
              "array([[ 1.00000000e+00,  9.69852266e-01,  9.81522472e-01,\n",
              "         1.77894547e+00],\n",
              "       [ 1.00000000e+00, -1.19737623e+00,  1.08280781e+00,\n",
              "         6.69578760e-01],\n",
              "       [ 1.00000000e+00, -1.51615499e+00,  1.52846331e+00,\n",
              "         1.78354865e+00],\n",
              "       [ 1.00000000e+00,  5.20496822e-02,  1.21785493e+00,\n",
              "         1.28640506e+00],\n",
              "       [ 1.00000000e+00,  3.94182198e-01, -8.41613655e-01,\n",
              "         1.28180188e+00],\n",
              "       [ 1.00000000e+00, -1.61540845e+00,  1.73103399e+00,\n",
              "         2.04592999e+00],\n",
              "       [ 1.00000000e+00, -1.04557682e+00,  6.43904671e-01,\n",
              "        -3.24708413e-01],\n",
              "       [ 1.00000000e+00, -3.13436589e-01, -2.47406325e-01,\n",
              "        -8.72486994e-01],\n",
              "       [ 1.00000000e+00, -1.61657614e+00, -1.42906863e+00,\n",
              "        -1.36042422e+00],\n",
              "       [ 1.00000000e+00,  6.16042873e-01, -1.39530685e+00,\n",
              "        -4.30581584e-01],\n",
              "       [ 1.00000000e+00, -9.45155670e-01, -1.17923146e+00,\n",
              "        -2.92486143e-01],\n",
              "       [ 1.00000000e+00,  7.90028350e-01,  4.96973404e-02,\n",
              "        -1.22232878e+00],\n",
              "       [ 1.00000000e+00, -1.43908760e+00,  7.99208859e-01,\n",
              "         1.62704048e+00],\n",
              "       [ 1.00000000e+00, -5.78501712e-01, -1.05768905e+00,\n",
              "        -1.07502697e+00],\n",
              "       [ 1.00000000e+00,  6.66253447e-01,  6.50657027e-01,\n",
              "         7.11007392e-01],\n",
              "       [ 1.00000000e+00,  5.64664612e-01,  1.65000572e+00,\n",
              "         1.02862691e+00],\n",
              "       [ 1.00000000e+00, -9.25304978e-01,  9.00494200e-01,\n",
              "         3.84117072e+00],\n",
              "       [ 1.00000000e+00,  1.56887609e+00,  1.10306488e+00,\n",
              "         1.16211917e+00],\n",
              "       [ 1.00000000e+00, -9.08957349e-01, -1.86635121e-01,\n",
              "        -5.64073843e-01],\n",
              "       [ 1.00000000e+00,  3.00679600e-03,  4.29449843e-02,\n",
              "        -5.27248393e-01],\n",
              "       [ 1.00000000e+00,  8.33232798e-01,  2.99534513e-01,\n",
              "         1.05164281e+00],\n",
              "       [ 1.00000000e+00,  1.05509347e+00, -1.22649795e+00,\n",
              "        -3.24708413e-01],\n",
              "       [ 1.00000000e+00, -1.56286250e+00, -4.97243498e-01,\n",
              "         8.76721921e-01],\n",
              "       [ 1.00000000e+00,  9.48833887e-01, -4.29719938e-01,\n",
              "        -2.00422516e-01],\n",
              "       [ 1.00000000e+00, -9.89527805e-01, -7.20071247e-01,\n",
              "        -5.64073843e-01],\n",
              "       [ 1.00000000e+00,  1.35285385e+00, -1.33453565e+00,\n",
              "        -5.08835667e-01],\n",
              "       [ 1.00000000e+00, -4.83714657e-02,  4.07572210e-01,\n",
              "        -8.26455181e-01],\n",
              "       [ 1.00000000e+00,  1.08662104e+00, -4.43224650e-01,\n",
              "        -3.52327501e-01],\n",
              "       [ 1.00000000e+00,  1.18820988e+00,  2.59020377e-01,\n",
              "        -3.52327501e-01],\n",
              "       [ 1.00000000e+00, -8.92609721e-01, -4.90491142e-01,\n",
              "         4.71641962e-01],\n",
              "       [ 1.00000000e+00,  1.70316018e+00,  3.40048650e-01,\n",
              "         5.82118314e-01],\n",
              "       [ 1.00000000e+00, -3.98677796e-01, -3.95958157e-01,\n",
              "         3.70371972e-01],\n",
              "       [ 1.00000000e+00, -5.82004775e-01, -1.46958277e+00,\n",
              "        -2.55016247e-02],\n",
              "       [ 1.00000000e+00,  1.38438142e+00, -2.20396901e-01,\n",
              "        -1.39264649e+00],\n",
              "       [ 1.00000000e+00, -5.99520091e-01, -1.47633512e+00,\n",
              "        -1.06582061e+00],\n",
              "       [ 1.00000000e+00,  1.67747105e+00, -1.29402151e+00,\n",
              "        -1.01518562e+00],\n",
              "       [ 1.00000000e+00,  1.39956136e+00,  1.38666383e+00,\n",
              "        -1.17629696e+00],\n",
              "       [ 1.00000000e+00, -8.44734522e-01,  1.76479577e+00,\n",
              "         6.97197848e-01],\n",
              "       [ 1.00000000e+00, -1.21372386e+00,  2.32010953e-01,\n",
              "         2.09260624e-01],\n",
              "       [ 1.00000000e+00,  9.45330823e-01,  9.74770116e-01,\n",
              "         6.65620024e-02],\n",
              "       [ 1.00000000e+00,  6.47570443e-01, -6.50927121e-02,\n",
              "         4.81492770e-02],\n",
              "       [ 1.00000000e+00,  3.49810063e-01,  6.84418807e-01,\n",
              "         3.74975153e-01],\n",
              "       [ 1.00000000e+00,  1.71133400e+00,  2.99534513e-01,\n",
              "        -1.32359877e+00],\n",
              "       [ 1.00000000e+00,  6.98948705e-01, -1.00367020e+00,\n",
              "        -1.91216154e-01],\n",
              "       [ 1.00000000e+00, -1.42390765e+00,  1.64487393e-01,\n",
              "         5.86721496e-01],\n",
              "       [ 1.00000000e+00,  3.27623995e-01, -5.15880000e-02,\n",
              "         4.35460956e-02],\n",
              "       [ 1.00000000e+00, -6.69581357e-01, -9.02384859e-01,\n",
              "         2.36879713e-01],\n",
              "       [ 1.00000000e+00,  1.08428567e+00,  1.23135965e+00,\n",
              "        -5.54867481e-01],\n",
              "       [ 1.00000000e+00,  9.35989321e-01, -5.03995854e-01,\n",
              "         8.90531465e-01],\n",
              "       [ 1.00000000e+00, -9.35814168e-01, -7.80842451e-01,\n",
              "         2.87514708e-01],\n",
              "       [ 1.00000000e+00,  6.16042873e-01, -1.36154507e+00,\n",
              "         1.86244718e-01],\n",
              "       [ 1.00000000e+00, -5.44638766e-01, -9.22641928e-01,\n",
              "        -1.24074150e+00],\n",
              "       [ 1.00000000e+00,  8.09879042e-01,  1.24486436e+00,\n",
              "         4.16403786e-01],\n",
              "       [ 1.00000000e+00,  4.15200577e-01,  1.54872038e+00,\n",
              "         1.29561142e+00],\n",
              "       [ 1.00000000e+00,  1.35051848e+00,  3.73810430e-01,\n",
              "        -6.74550196e-01],\n",
              "       [ 1.00000000e+00,  6.05533683e-01,  1.76479577e+00,\n",
              "         1.35545278e+00],\n",
              "       [ 1.00000000e+00, -1.63175608e+00,  3.26543937e-01,\n",
              "         4.99261050e-01],\n",
              "       [ 1.00000000e+00, -1.26606546e-01, -2.74415749e-01,\n",
              "        -6.42327927e-01],\n",
              "       [ 1.00000000e+00,  7.44488528e-01,  1.77830048e+00,\n",
              "         3.28943340e-01],\n",
              "       [ 1.00000000e+00,  7.43320840e-01,  4.21076922e-01,\n",
              "        -9.78360166e-01],\n",
              "       [ 1.00000000e+00, -1.09228433e+00, -1.43582099e+00,\n",
              "        -4.21375221e-01],\n",
              "       [ 1.00000000e+00,  1.33417085e+00,  1.31238792e+00,\n",
              "         1.11148417e+00],\n",
              "       [ 1.00000000e+00,  1.07727954e+00, -5.24252922e-01,\n",
              "        -1.49787521e-01],\n",
              "       [ 1.00000000e+00, -5.17781948e-01,  4.27829278e-01,\n",
              "        -1.01978880e+00],\n",
              "       [ 1.00000000e+00, -1.86158622e-01,  1.31914027e+00,\n",
              "        -7.61366196e-02],\n",
              "       [ 1.00000000e+00, -9.11292725e-01, -9.42898996e-01,\n",
              "        -1.36502740e+00],\n",
              "       [ 1.00000000e+00, -1.34917564e+00,  9.02114765e-02,\n",
              "        -1.30518604e+00],\n",
              "       [ 1.00000000e+00, -9.04082253e-02, -5.91776482e-01,\n",
              "        -9.36931533e-01],\n",
              "       [ 1.00000000e+00,  1.05509347e+00,  2.86029801e-01,\n",
              "        -9.00106083e-01],\n",
              "       [ 1.00000000e+00,  8.14549794e-01,  1.39341619e+00,\n",
              "        -1.54390703e-01],\n",
              "       [ 1.00000000e+00,  6.07869059e-01,  4.95352838e-01,\n",
              "         3.74975153e-01],\n",
              "       [ 1.00000000e+00, -4.34876116e-01, -6.05281194e-01,\n",
              "         5.27524584e-02],\n",
              "       [ 1.00000000e+00, -1.40405696e+00,  6.57409383e-01,\n",
              "        -5.18042030e-01],\n",
              "       [ 1.00000000e+00, -2.06009314e-01, -1.18598381e+00,\n",
              "         3.43397329e-02],\n",
              "       [ 1.00000000e+00,  7.74848409e-01,  9.02114765e-02,\n",
              "        -8.03439274e-01],\n",
              "       [ 1.00000000e+00, -1.51965805e+00,  1.37991148e+00,\n",
              "         2.70878810e+00],\n",
              "       [ 1.00000000e+00, -1.39588315e+00, -1.46283041e+00,\n",
              "        -4.53597491e-01],\n",
              "       [ 1.00000000e+00, -3.09933525e-01,  3.53553362e-01,\n",
              "        -7.52804279e-01],\n",
              "       [ 1.00000000e+00, -1.65394214e+00,  4.48086346e-01,\n",
              "        -9.73756984e-01],\n",
              "       [ 1.00000000e+00, -3.62479475e-01, -1.05093669e+00,\n",
              "        -3.43121138e-01],\n",
              "       [ 1.00000000e+00, -8.24883830e-01,  2.32010953e-01,\n",
              "        -3.79946589e-01],\n",
              "       [ 1.00000000e+00,  1.08311798e+00, -1.29402151e+00,\n",
              "         2.92117889e-01],\n",
              "       [ 1.00000000e+00, -8.37728396e-01, -2.00139833e-01,\n",
              "         8.95779092e-02],\n",
              "       [ 1.00000000e+00, -9.18298852e-01,  1.43393033e+00,\n",
              "         2.32276531e-01],\n",
              "       [ 1.00000000e+00,  7.76016097e-01,  1.33264499e+00,\n",
              "         1.49419267e-01],\n",
              "       [ 1.00000000e+00,  5.38975481e-01, -3.28434597e-01,\n",
              "         1.61783412e+00],\n",
              "       [ 1.00000000e+00, -8.26051518e-01,  2.86029801e-01,\n",
              "        -6.69947015e-01],\n",
              "       [ 1.00000000e+00, -4.24366926e-01,  1.17058844e+00,\n",
              "         1.50275459e+00],\n",
              "       [ 1.00000000e+00, -6.85928986e-01,  1.50982681e-01,\n",
              "         1.97227908e+00],\n",
              "       [ 1.00000000e+00, -4.34876116e-01,  1.65675807e+00,\n",
              "         9.59579186e-01],\n",
              "       [ 1.00000000e+00, -1.48792614e-01, -1.24000266e+00,\n",
              "        -9.78360166e-01],\n",
              "       [ 1.00000000e+00, -1.38303858e+00, -1.46958277e+00,\n",
              "         1.12593816e-01],\n",
              "       [ 1.00000000e+00,  8.25058983e-01,  6.91171163e-01,\n",
              "         1.30942097e+00],\n",
              "       [ 1.00000000e+00,  1.21273132e+00,  8.93741844e-01,\n",
              "         1.92164409e+00],\n",
              "       [ 1.00000000e+00, -4.62900623e-01, -6.25538262e-01,\n",
              "        -9.04709264e-01],\n",
              "       [ 1.00000000e+00,  1.89836839e-01,  5.62876398e-01,\n",
              "         1.02862691e+00],\n",
              "       [ 1.00000000e+00,  5.90353742e-01, -1.33453565e+00,\n",
              "        -1.13486833e+00],\n",
              "       [ 1.00000000e+00,  4.42057396e-01, -1.52873340e-01,\n",
              "        -3.93756133e-01],\n",
              "       [ 1.00000000e+00,  1.66579418e+00,  1.28537849e+00,\n",
              "         9.50372823e-01],\n",
              "       [ 1.00000000e+00, -1.38283424e-01,  1.24486436e+00,\n",
              "         7.06404211e-01],\n",
              "       [ 1.00000000e+00,  8.79940308e-01, -1.28051680e+00,\n",
              "         8.85928284e-01],\n",
              "       [ 1.00000000e+00,  1.74402926e+00,  8.80237132e-01,\n",
              "         3.23815396e+00],\n",
              "       [ 1.00000000e+00,  1.55486384e+00, -8.88880147e-01,\n",
              "        -4.21375221e-01],\n",
              "       [ 1.00000000e+00,  4.77088029e-01, -4.09462869e-01,\n",
              "        -5.82486569e-01],\n",
              "       [ 1.00000000e+00,  1.06443498e+00,  7.45190011e-01,\n",
              "        -1.16248742e+00],\n",
              "       [ 1.00000000e+00, -1.06755854e-01,  1.56222509e+00,\n",
              "         1.30942097e+00],\n",
              "       [ 1.00000000e+00, -1.42507534e+00, -8.28108943e-01,\n",
              "        -3.93111688e-02],\n",
              "       [ 1.00000000e+00, -6.61407543e-01, -1.55061104e+00,\n",
              "        -3.38517957e-01],\n",
              "       [ 1.00000000e+00, -1.56403019e+00, -1.54385868e+00,\n",
              "        -2.28041604e-01],\n",
              "       [ 1.00000000e+00,  1.26527727e+00,  2.45515665e-01,\n",
              "        -1.15328106e+00],\n",
              "       [ 1.00000000e+00,  9.19641692e-01, -1.01717491e+00,\n",
              "         1.19434143e+00],\n",
              "       [ 1.00000000e+00,  1.10530405e+00,  9.95027184e-01,\n",
              "        -3.38517957e-01],\n",
              "       [ 1.00000000e+00,  3.34630122e-01, -5.31005278e-01,\n",
              "        -1.29597968e+00],\n",
              "       [ 1.00000000e+00,  7.30476274e-01, -1.79882765e-01,\n",
              "        -9.13915627e-01],\n",
              "       [ 1.00000000e+00, -8.03865450e-01,  1.58923451e+00,\n",
              "         1.81641536e-01],\n",
              "       [ 1.00000000e+00, -8.40063771e-01,  7.92456503e-01,\n",
              "         1.01942054e+00],\n",
              "       [ 1.00000000e+00, -9.15759131e-02, -6.05281194e-01,\n",
              "        -2.28041604e-01],\n",
              "       [ 1.00000000e+00, -8.24883830e-01, -1.51684926e+00,\n",
              "        -7.25185191e-01],\n",
              "       [ 1.00000000e+00, -2.49213762e-01,  9.20751268e-01,\n",
              "         2.23926360e+00],\n",
              "       [ 1.00000000e+00, -1.49046586e+00, -4.90491142e-01,\n",
              "        -3.79946589e-01],\n",
              "       [ 1.00000000e+00, -6.70544700e-02,  2.38763309e-01,\n",
              "         7.20213755e-01],\n",
              "       [ 1.00000000e+00, -1.49747198e+00, -1.05606848e-01,\n",
              "         9.13547372e-01],\n",
              "       [ 1.00000000e+00,  8.98623313e-01, -1.40881156e+00,\n",
              "        -6.88359740e-01],\n",
              "       [ 1.00000000e+00, -2.79573643e-01,  7.65447079e-01,\n",
              "        -8.35661544e-01],\n",
              "       [ 1.00000000e+00,  9.62846140e-01,  6.10142891e-01,\n",
              "         2.00910454e+00],\n",
              "       [ 1.00000000e+00, -6.98773552e-01, -7.74090095e-01,\n",
              "        -2.14232060e-01],\n",
              "       [ 1.00000000e+00, -1.62591764e+00,  1.05579839e+00,\n",
              "         9.22753735e-01],\n",
              "       [ 1.00000000e+00, -7.80511695e-01, -1.57086811e+00,\n",
              "        -9.82963347e-01],\n",
              "       [ 1.00000000e+00,  8.55418865e-01,  1.73778635e+00,\n",
              "        -1.25915423e+00],\n",
              "       [ 1.00000000e+00, -1.02105537e+00, -7.60585383e-01,\n",
              "         5.77515133e-01],\n",
              "       [ 1.00000000e+00, -1.70882347e+00,  1.10306488e+00,\n",
              "        -1.00597925e+00],\n",
              "       [ 1.00000000e+00,  1.37971067e+00, -1.37504978e+00,\n",
              "         5.72911952e-01],\n",
              "       [ 1.00000000e+00, -1.61891151e+00,  2.65772733e-01,\n",
              "        -1.30978922e+00],\n",
              "       [ 1.00000000e+00,  8.49580427e-01,  6.91171163e-01,\n",
              "         6.69578760e-01],\n",
              "       [ 1.00000000e+00, -1.28612050e+00,  1.03554132e+00,\n",
              "         1.61323094e+00],\n",
              "       [ 1.00000000e+00, -1.15300409e+00,  1.60273923e+00,\n",
              "        -1.01518562e+00],\n",
              "       [ 1.00000000e+00, -1.41806922e+00,  1.06255074e+00,\n",
              "        -9.78360166e-01],\n",
              "       [ 1.00000000e+00,  1.47896413e+00,  3.80562786e-01,\n",
              "         1.34164324e+00],\n",
              "       [ 1.00000000e+00, -1.21489154e+00,  1.77992105e-01,\n",
              "        -4.62803854e-01],\n",
              "       [ 1.00000000e+00,  4.42057396e-01,  1.39341619e+00,\n",
              "        -1.32820195e+00],\n",
              "       [ 1.00000000e+00, -8.59914463e-01, -4.22967582e-01,\n",
              "        -8.12645637e-01],\n",
              "       [ 1.00000000e+00,  5.44813920e-01,  8.19465927e-01,\n",
              "         2.07354907e+00],\n",
              "       [ 1.00000000e+00,  8.57754241e-01,  6.70914095e-01,\n",
              "         3.38149702e-01],\n",
              "       [ 1.00000000e+00, -4.95595880e-01, -1.18598381e+00,\n",
              "         1.77038355e-01],\n",
              "       [ 1.00000000e+00, -5.93681653e-01, -5.71519414e-01,\n",
              "         3.84181516e-01],\n",
              "       [ 1.00000000e+00, -7.87313476e-02, -1.44257334e+00,\n",
              "        -9.92169710e-01],\n",
              "       [ 1.00000000e+00,  1.08662104e+00, -1.07794612e+00,\n",
              "        -1.00597925e+00],\n",
              "       [ 1.00000000e+00,  1.12281936e+00,  1.73778635e+00,\n",
              "         6.32753309e-01],\n",
              "       [ 1.00000000e+00, -1.27327593e+00,  1.15033137e+00,\n",
              "        -8.58677450e-01],\n",
              "       [ 1.00000000e+00, -1.19504085e+00,  1.71239749e-01,\n",
              "        -4.58200672e-01],\n",
              "       [ 1.00000000e+00,  1.56070228e+00, -6.32290618e-01,\n",
              "         2.96721070e-01],\n",
              "       [ 1.00000000e+00, -3.04095087e-01, -1.00367020e+00,\n",
              "         8.35293289e-01],\n",
              "       [ 1.00000000e+00,  5.90353742e-01,  2.43084817e-03,\n",
              "        -7.52804279e-01],\n",
              "       [ 1.00000000e+00,  2.83251860e-01,  1.10981724e+00,\n",
              "         3.28943340e-01],\n",
              "       [ 1.00000000e+00,  4.75920341e-01, -1.46120984e-01,\n",
              "        -9.69153803e-01],\n",
              "       [ 1.00000000e+00, -1.66912209e+00, -7.87594807e-01,\n",
              "        -1.14407469e+00],\n",
              "       [ 1.00000000e+00, -6.20538471e-01,  1.36640677e+00,\n",
              "         9.18150553e-01],\n",
              "       [ 1.00000000e+00,  3.21989902e-02, -1.48308748e+00,\n",
              "        -2.87882962e-01],\n",
              "       [ 1.00000000e+00, -1.58037782e+00,  9.20751268e-01,\n",
              "         6.74181942e-01],\n",
              "       [ 1.00000000e+00, -1.79152496e-01, -3.28434597e-01,\n",
              "         1.86244718e-01],\n",
              "       [ 1.00000000e+00,  2.97264113e-01, -3.48691665e-01,\n",
              "         6.72064478e-03],\n",
              "       [ 1.00000000e+00, -7.16288868e-01,  8.46475352e-01,\n",
              "         8.62912377e-01],\n",
              "       [ 1.00000000e+00,  4.82926468e-01, -3.48691665e-01,\n",
              "        -2.28041604e-01],\n",
              "       [ 1.00000000e+00,  1.92172214e-01,  9.13998912e-01,\n",
              "        -1.06582061e+00],\n",
              "       [ 1.00000000e+00, -3.48467222e-01, -5.78271770e-01,\n",
              "        -1.15788424e+00],\n",
              "       [ 1.00000000e+00,  1.02123053e+00, -1.34128800e+00,\n",
              "         2.49704176e+00],\n",
              "       [ 1.00000000e+00, -1.50798117e+00,  9.68017760e-01,\n",
              "        -4.12168859e-01],\n",
              "       [ 1.00000000e+00,  6.97781017e-01, -1.21974559e+00,\n",
              "        -5.13438849e-01],\n",
              "       [ 1.00000000e+00,  7.98202165e-01,  2.26879163e-02,\n",
              "         1.24497643e+00],\n",
              "       [ 1.00000000e+00,  1.60273904e+00, -8.55118367e-01,\n",
              "        -1.11185242e+00],\n",
              "       [ 1.00000000e+00, -1.13315340e+00, -7.87594807e-01,\n",
              "        -5.59470662e-01],\n",
              "       [ 1.00000000e+00,  2.03849092e-01, -1.59625696e-01,\n",
              "         7.75451931e-01],\n",
              "       [ 1.00000000e+00, -1.48813048e+00, -2.13644545e-01,\n",
              "        -6.23915201e-01],\n",
              "       [ 1.00000000e+00,  2.49388915e-01, -1.09145083e+00,\n",
              "        -8.17248818e-01],\n",
              "       [ 1.00000000e+00,  8.79940308e-01, -1.34128800e+00,\n",
              "        -8.03439274e-01],\n",
              "       [ 1.00000000e+00,  1.51633014e+00,  1.73103399e+00,\n",
              "         5.17673775e-01],\n",
              "       [ 1.00000000e+00,  1.18353913e+00,  4.68343414e-01,\n",
              "        -4.72010216e-01],\n",
              "       [ 1.00000000e+00,  2.70407294e-01, -1.04418434e+00,\n",
              "         2.13863806e-01],\n",
              "       [ 1.00000000e+00,  1.51399477e+00, -1.41556392e+00,\n",
              "        -3.15502050e-01],\n",
              "       [ 1.00000000e+00,  2.16693657e-01, -8.95632503e-01,\n",
              "        -5.96296113e-01],\n",
              "       [ 1.00000000e+00,  1.11601758e-01, -1.39530685e+00,\n",
              "        -1.02439198e+00],\n",
              "       [ 1.00000000e+00,  8.34400486e-01, -1.20624088e+00,\n",
              "        -1.45184340e-01],\n",
              "       [ 1.00000000e+00, -1.06075676e+00, -1.18598381e+00,\n",
              "        -3.93111688e-02],\n",
              "       [ 1.00000000e+00,  1.64127273e+00,  1.33264499e+00,\n",
              "         1.89862818e+00],\n",
              "       [ 1.00000000e+00,  1.24659427e+00, -1.32616272e-01,\n",
              "        -2.55016247e-02],\n",
              "       [ 1.00000000e+00,  6.76762637e-01,  1.47444446e+00,\n",
              "        -5.04232486e-01],\n",
              "       [ 1.00000000e+00, -8.80728498e-02, -1.42906863e+00,\n",
              "        -1.82009791e-01],\n",
              "       [ 1.00000000e+00,  5.14454038e-01,  3.67058074e-01,\n",
              "        -5.68677025e-01],\n",
              "       [ 1.00000000e+00,  1.62258973e+00, -6.32290618e-01,\n",
              "        -1.23613832e+00],\n",
              "       [ 1.00000000e+00, -1.49863967e+00, -7.53833027e-01,\n",
              "        -3.29311594e-01],\n",
              "       [ 1.00000000e+00, -1.25576062e+00,  1.20435022e+00,\n",
              "        -1.13947151e+00],\n",
              "       [ 1.00000000e+00, -8.35393020e-01, -8.41613655e-01,\n",
              "        -1.13026515e+00],\n",
              "       [ 1.00000000e+00, -1.51615499e+00, -1.29402151e+00,\n",
              "         4.81492770e-02],\n",
              "       [ 1.00000000e+00,  2.30705910e-01,  1.26512143e+00,\n",
              "        -1.24074150e+00],\n",
              "       [ 1.00000000e+00,  3.10313024e-02,  8.32970639e-01,\n",
              "        -1.13026515e+00],\n",
              "       [ 1.00000000e+00, -1.27094056e+00, -1.32103093e+00,\n",
              "        -7.71217005e-01],\n",
              "       [ 1.00000000e+00, -6.17035408e-01, -1.24000266e+00,\n",
              "        -1.03359834e+00],\n",
              "       [ 1.00000000e+00,  3.49810063e-01, -9.42898996e-01,\n",
              "        -1.11185242e+00],\n",
              "       [ 1.00000000e+00,  1.59456522e+00,  1.26512143e+00,\n",
              "         1.64085003e+00],\n",
              "       [ 1.00000000e+00,  9.93206022e-01, -9.90165488e-01,\n",
              "        -1.00597925e+00]])"
            ]
          },
          "metadata": {
            "tags": []
          },
          "execution_count": 213
        }
      ]
    },
    {
      "cell_type": "code",
      "metadata": {
        "id": "-MH4EjWGtuoj",
        "colab_type": "code",
        "colab": {}
      },
      "source": [
        "B = np.linalg.pinv(X)"
      ],
      "execution_count": 0,
      "outputs": []
    },
    {
      "cell_type": "code",
      "metadata": {
        "id": "ehUfHwytftbV",
        "colab_type": "code",
        "colab": {}
      },
      "source": [
        "def normal_equation(X, y):\n",
        "    return np.dot(np.linalg.pinv(X),y)"
      ],
      "execution_count": 0,
      "outputs": []
    },
    {
      "cell_type": "code",
      "metadata": {
        "id": "Ob7PwAyeftbY",
        "colab_type": "code",
        "outputId": "6fa8d32a-1b67-4711-d3b0-e87a36985ec7",
        "colab": {
          "base_uri": "https://localhost:8080/",
          "height": 34
        }
      },
      "source": [
        "norm_eq_weights = normal_equation(X, y)\n",
        "# print(X.shape, y.shape)\n",
        "print(norm_eq_weights)"
      ],
      "execution_count": 0,
      "outputs": [
        {
          "output_type": "stream",
          "text": [
            "[14.0225      3.91925365  2.79206274 -0.02253861]\n"
          ],
          "name": "stdout"
        }
      ]
    },
    {
      "cell_type": "markdown",
      "metadata": {
        "id": "vEnLti6qftba",
        "colab_type": "text"
      },
      "source": [
        "**Какие продажи предсказываются линейной моделью с весами, найденными с помощью нормального уравнения, в случае средних инвестиций в рекламу по ТВ, радио и в газетах? (то есть при нулевых значениях масштабированных признаков TV, Radio и Newspaper). Полученный результат, округленный до 3 знаков после запятой, является ответом на *'2 задание'*.**"
      ]
    },
    {
      "cell_type": "code",
      "metadata": {
        "id": "hboNdP17ftbb",
        "colab_type": "code",
        "outputId": "219543b0-bf74-4133-c8d2-cc13613e254d",
        "colab": {
          "base_uri": "https://localhost:8080/",
          "height": 34
        }
      },
      "source": [
        "answer2 = norm_eq_weights[0] + norm_eq_weights[1]*0.96985227 + norm_eq_weights[2]*0.98152247 + norm_eq_weights[3]*1.77894547\n",
        "print(round(answer2, 3))"
      ],
      "execution_count": 0,
      "outputs": [
        {
          "output_type": "stream",
          "text": [
            "31.55\n"
          ],
          "name": "stdout"
        }
      ]
    },
    {
      "cell_type": "markdown",
      "metadata": {
        "id": "3PKohuqSftbd",
        "colab_type": "text"
      },
      "source": [
        "**4. Напишите функцию *linear_prediction*, которая принимает на вход матрицу *X* и вектор весов линейной модели *w*, а возвращает вектор прогнозов в виде линейной комбинации столбцов матрицы *X* с весами *w*.**"
      ]
    },
    {
      "cell_type": "code",
      "metadata": {
        "id": "SnQL5GW4ftbd",
        "colab_type": "code",
        "colab": {}
      },
      "source": [
        "def linear_prediction(X, w):\n",
        "  w0 = w[0]\n",
        "  w1 = w[1]\n",
        "  w2 = w[2]\n",
        "  w3 = w[3]\n",
        "  \n",
        "  X2 = []\n",
        "  for i in X:\n",
        "    X2.append(w0 + w1*i[0] + w2*i[1] + w3*i[2])\n",
        "    \n",
        "  return X2"
      ],
      "execution_count": 0,
      "outputs": []
    },
    {
      "cell_type": "markdown",
      "metadata": {
        "id": "7fA7AX_oftbf",
        "colab_type": "text"
      },
      "source": [
        "**Какова среднеквадратичная ошибка прогноза значений Sales в виде линейной модели с весами, найденными с помощью нормального уравнения?\n",
        "Полученный результат, округленный до 3 знаков после запятой, является ответом на *'3 задание'***"
      ]
    },
    {
      "cell_type": "code",
      "metadata": {
        "id": "xUuqPlW145nv",
        "colab_type": "code",
        "colab": {}
      },
      "source": [
        "b = np.ones(200).reshape(200,1)\n",
        "\n",
        "Z = np.c_[b,X]"
      ],
      "execution_count": 0,
      "outputs": []
    },
    {
      "cell_type": "code",
      "metadata": {
        "id": "RsfRA_kk0EP5",
        "colab_type": "code",
        "outputId": "a253c812-4980-4f71-e324-e8c06572da8b",
        "colab": {
          "base_uri": "https://localhost:8080/",
          "height": 1000
        }
      },
      "source": [
        "linear_prediction(X, norm_eq_weights)"
      ],
      "execution_count": 0,
      "outputs": [
        {
          "output_type": "execute_result",
          "data": {
            "text/plain": [
              "[31.55028269702976,\n",
              " 9.94086728283056,\n",
              " 24.661415288004342,\n",
              " 22.07574585925607,\n",
              " 23.01287075547397,\n",
              " 28.058970041415872,\n",
              " -3.5677988596464107,\n",
              " -9.184753651089265,\n",
              " -19.638667726407657,\n",
              " -0.36709797852830217,\n",
              " -2.79448898781465,\n",
              " -11.0161630134779,\n",
              " 22.698392904730376,\n",
              " -12.746686325365173,\n",
              " 15.734911337911804,\n",
              " 19.882564635272114,\n",
              " 55.17826456522507,\n",
              " 24.57060858430738,\n",
              " -6.524131269746922,\n",
              " -3.4666596877803366,\n",
              " 20.985602157252607,\n",
              " 2.339560669872297,\n",
              " 11.860683817403938,\n",
              " 3.7677179542948793,\n",
              " -6.737066129566413,\n",
              " 0.5914369306306106,\n",
              " -7.81395639608135,\n",
              " 2.022645068573963,\n",
              " 2.290459845743376,\n",
              " 8.05168570731388,\n",
              " 16.82967358934256,\n",
              " 8.0085855584189,\n",
              " 1.969785625181721,\n",
              " -11.738884484945018,\n",
              " -12.666839039232,\n",
              " -5.603416778010995,\n",
              " -8.6989608535572,\n",
              " 11.297382653762336,\n",
              " 3.4595883976328294,\n",
              " 7.470072343258328,\n",
              " 6.40395129805829,\n",
              " 10.138608537602394,\n",
              " -9.869509254908401,\n",
              " 3.212055109278344,\n",
              " 8.167209000709356,\n",
              " 5.445788252938566,\n",
              " 5.3917247632457235,\n",
              " -0.8617351123201358,\n",
              " 19.031431404398596,\n",
              " 5.355675871026312,\n",
              " 8.281587895295452,\n",
              " -14.978914612661407,\n",
              " 11.991451327786406,\n",
              " 23.211324918449275,\n",
              " -1.7773193092015491,\n",
              " 24.57700229094679,\n",
              " 6.356816534282977,\n",
              " -5.4350981661318105,\n",
              " 10.570439898167132,\n",
              " -7.733893832317537,\n",
              " -5.006845358918701,\n",
              " 23.200549758841916,\n",
              " 4.83850613845984,\n",
              " -11.836057124579055,\n",
              " 2.302129766072258,\n",
              " -17.744977889546973,\n",
              " -18.151733890310485,\n",
              " -9.457956390906578,\n",
              " -5.763043423704069,\n",
              " 3.9971784945559015,\n",
              " 10.8633867307356,\n",
              " 3.45841579589211,\n",
              " -7.280022936197817,\n",
              " 3.852322054293221,\n",
              " -5.185581430797675,\n",
              " 37.629152893208136,\n",
              " -6.305740330125566,\n",
              " -7.51026679888159,\n",
              " -14.363263139964161,\n",
              " -1.8805412933274859,\n",
              " -3.7169040062085252,\n",
              " 11.068775554555236,\n",
              " 2.8408805176494,\n",
              " 4.580084509317158,\n",
              " 8.151134993318154,\n",
              " 28.1175884165092,\n",
              " -7.787912739789739,\n",
              " 23.78038731422293,\n",
              " 29.65697740684025,\n",
              " 16.123410361278154,\n",
              " -10.187292145179676,\n",
              " 1.669692292200468,\n",
              " 24.568647601765903,\n",
              " 34.231386139790565,\n",
              " -10.045380818273529,\n",
              " 18.860524357852533,\n",
              " -10.316054260456223,\n",
              " -0.3644941854900283,\n",
              " 21.867887775673033,\n",
              " 13.410653197887338,\n",
              " 18.82789263528062,\n",
              " 54.17586730839043,\n",
              " 2.3718311254768816,\n",
              " -2.907375822894756,\n",
              " -9.42655249894512,\n",
              " 21.947329766801474,\n",
              " -0.5922225547339177,\n",
              " -2.639357140073609,\n",
              " -3.610533728404136,\n",
              " -8.72543002180364,\n",
              " 23.25752943948309,\n",
              " 2.23603732486539,\n",
              " -13.307344981538591,\n",
              " -6.852538321488098,\n",
              " 4.186060188356718,\n",
              " 15.850706598682805,\n",
              " 0.4794967579399376,\n",
              " -8.518595423222095,\n",
              " 34.60275461510712,\n",
              " -5.558966593478725,\n",
              " 13.825849355615697,\n",
              " 12.550816177185684,\n",
              " -3.1925054765721246,\n",
              " -8.596649605480918,\n",
              " 34.766497059993526,\n",
              " -1.0183880965600085,\n",
              " 12.295107614099592,\n",
              " -12.008182320574218,\n",
              " -11.388020655557487,\n",
              " 9.183751473207927,\n",
              " -14.98309432189242,\n",
              " 15.836141971284476,\n",
              " -18.97335839167536,\n",
              " 15.664925639159335,\n",
              " 22.926515701606093,\n",
              " -13.571569934022301,\n",
              " -13.783088406732388,\n",
              " 26.853229260871537,\n",
              " -5.966478494493638,\n",
              " -13.502611847667279,\n",
              " -9.867471820700727,\n",
              " 34.49828057025069,\n",
              " 11.040740046270006,\n",
              " 5.044769620276914,\n",
              " 7.661723792860613,\n",
              " -10.180755365100918,\n",
              " -7.1288808945397175,\n",
              " 15.887851761055689,\n",
              " -11.702544054009465,\n",
              " -5.846353817573115,\n",
              " 12.451854492061887,\n",
              " 14.805722568911737,\n",
              " -4.988694447416989,\n",
              " 9.297704865057804,\n",
              " -8.338612728661651,\n",
              " -16.76607604471367,\n",
              " 15.030640536948763,\n",
              " 0.0057431487568671,\n",
              " 8.939703459949015,\n",
              " 6.03806765965818,\n",
              " 4.851332976426835,\n",
              " 14.000440625175887,\n",
              " 2.0777602807053253,\n",
              " -10.510259252884708,\n",
              " -13.27708698525771,\n",
              " 41.815592194236714,\n",
              " -6.0925799918365104,\n",
              " -1.3047028498823297,\n",
              " 23.605054813448966,\n",
              " -7.177475846885089,\n",
              " -7.0720078053245,\n",
              " 15.36578555832239,\n",
              " -8.979735676243848,\n",
              " -6.819708616485357,\n",
              " -4.859894248248449,\n",
              " 15.373007965436738,\n",
              " 0.5944500906393806,\n",
              " 7.696687467027187,\n",
              " 3.7541993754906917,\n",
              " -3.817099991618697,\n",
              " -10.102235486363607,\n",
              " 4.240291747297376,\n",
              " 0.43304378939236887,\n",
              " 35.09526782598941,\n",
              " 7.045215517401929,\n",
              " -1.29501455978364,\n",
              " 1.153325659049616,\n",
              " -2.626904952745573,\n",
              " -8.869872682327289,\n",
              " -4.865823819929352,\n",
              " -15.592292446311985,\n",
              " -14.24339034276663,\n",
              " 0.39039248173329105,\n",
              " -12.863412770075243,\n",
              " -11.86202207249778,\n",
              " -10.413908369586789,\n",
              " -12.26923273271069,\n",
              " -10.673753699433195,\n",
              " 31.35168522045718,\n",
              " -7.391679948408863]"
            ]
          },
          "metadata": {
            "tags": []
          },
          "execution_count": 189
        }
      ]
    },
    {
      "cell_type": "code",
      "metadata": {
        "id": "tk4AJMf-2w-g",
        "colab_type": "code",
        "outputId": "6e981921-e517-4173-ab01-8a8faae83589",
        "colab": {
          "base_uri": "https://localhost:8080/",
          "height": 34
        }
      },
      "source": [
        "X[0][0]"
      ],
      "execution_count": 0,
      "outputs": [
        {
          "output_type": "execute_result",
          "data": {
            "text/plain": [
              "0.9698522664314473"
            ]
          },
          "metadata": {
            "tags": []
          },
          "execution_count": 161
        }
      ]
    },
    {
      "cell_type": "code",
      "metadata": {
        "id": "KA4GVWMK2gZ4",
        "colab_type": "code",
        "outputId": "0190056c-40f5-477b-d9a2-f9e2c58366e0",
        "colab": {
          "base_uri": "https://localhost:8080/",
          "height": 34
        }
      },
      "source": [
        "norm_eq_weights[0] + norm_eq_weights[1]*X[0][0] + norm_eq_weights[2]*X[0][1] + norm_eq_weights[3]*X[0][2]"
      ],
      "execution_count": 0,
      "outputs": [
        {
          "output_type": "execute_result",
          "data": {
            "text/plain": [
              "31.55028269702976"
            ]
          },
          "metadata": {
            "tags": []
          },
          "execution_count": 163
        }
      ]
    },
    {
      "cell_type": "code",
      "metadata": {
        "id": "NPv5-feg7HSm",
        "colab_type": "code",
        "outputId": "1c57a151-2cbb-4652-bb37-b09099f16d8d",
        "colab": {
          "base_uri": "https://localhost:8080/",
          "height": 34
        }
      },
      "source": [
        "Z.shape"
      ],
      "execution_count": 0,
      "outputs": [
        {
          "output_type": "execute_result",
          "data": {
            "text/plain": [
              "(200, 4)"
            ]
          },
          "metadata": {
            "tags": []
          },
          "execution_count": 192
        }
      ]
    },
    {
      "cell_type": "code",
      "metadata": {
        "id": "mlHKr56Z7JKZ",
        "colab_type": "code",
        "outputId": "bae5e9f1-982b-44ea-ddb5-06ff6686b31f",
        "colab": {
          "base_uri": "https://localhost:8080/",
          "height": 34
        }
      },
      "source": [
        "norm_eq_weights.shape"
      ],
      "execution_count": 0,
      "outputs": [
        {
          "output_type": "execute_result",
          "data": {
            "text/plain": [
              "(4,)"
            ]
          },
          "metadata": {
            "tags": []
          },
          "execution_count": 193
        }
      ]
    },
    {
      "cell_type": "code",
      "metadata": {
        "id": "oqQ7qmeF6Ehy",
        "colab_type": "code",
        "outputId": "6f4a1cbd-5231-4aeb-de3a-0ac94ae448b8",
        "colab": {
          "base_uri": "https://localhost:8080/",
          "height": 867
        }
      },
      "source": [
        "np.dot(Z,norm_eq_weights)"
      ],
      "execution_count": 0,
      "outputs": [
        {
          "output_type": "execute_result",
          "data": {
            "text/plain": [
              "array([ 3.15502827e+01,  9.94086728e+00,  2.46614153e+01,  2.20757459e+01,\n",
              "        2.30128708e+01,  2.80589700e+01, -3.56779886e+00, -9.18475365e+00,\n",
              "       -1.96386677e+01, -3.67097979e-01, -2.79448899e+00, -1.10161630e+01,\n",
              "        2.26983929e+01, -1.27466863e+01,  1.57349113e+01,  1.98825646e+01,\n",
              "        5.51782646e+01,  2.45706086e+01, -6.52413127e+00, -3.46665969e+00,\n",
              "        2.09856022e+01,  2.33956067e+00,  1.18606838e+01,  3.76771795e+00,\n",
              "       -6.73706613e+00,  5.91436931e-01, -7.81395640e+00,  2.02264507e+00,\n",
              "        2.29045985e+00,  8.05168571e+00,  1.68296736e+01,  8.00858556e+00,\n",
              "        1.96978563e+00, -1.17388845e+01, -1.26668390e+01, -5.60341678e+00,\n",
              "       -8.69896085e+00,  1.12973827e+01,  3.45958840e+00,  7.47007234e+00,\n",
              "        6.40395130e+00,  1.01386085e+01, -9.86950925e+00,  3.21205511e+00,\n",
              "        8.16720900e+00,  5.44578825e+00,  5.39172476e+00, -8.61735112e-01,\n",
              "        1.90314314e+01,  5.35567587e+00,  8.28158790e+00, -1.49789146e+01,\n",
              "        1.19914513e+01,  2.32113249e+01, -1.77731931e+00,  2.45770023e+01,\n",
              "        6.35681653e+00, -5.43509817e+00,  1.05704399e+01, -7.73389383e+00,\n",
              "       -5.00684536e+00,  2.32005498e+01,  4.83850614e+00, -1.18360571e+01,\n",
              "        2.30212977e+00, -1.77449779e+01, -1.81517339e+01, -9.45795639e+00,\n",
              "       -5.76304342e+00,  3.99717849e+00,  1.08633867e+01,  3.45841580e+00,\n",
              "       -7.28002294e+00,  3.85232205e+00, -5.18558143e+00,  3.76291529e+01,\n",
              "       -6.30574033e+00, -7.51026680e+00, -1.43632631e+01, -1.88054129e+00,\n",
              "       -3.71690401e+00,  1.10687756e+01,  2.84088052e+00,  4.58008451e+00,\n",
              "        8.15113499e+00,  2.81175884e+01, -7.78791274e+00,  2.37803873e+01,\n",
              "        2.96569774e+01,  1.61234104e+01, -1.01872921e+01,  1.66969229e+00,\n",
              "        2.45686476e+01,  3.42313861e+01, -1.00453808e+01,  1.88605244e+01,\n",
              "       -1.03160543e+01, -3.64494185e-01,  2.18678878e+01,  1.34106532e+01,\n",
              "        1.88278926e+01,  5.41758673e+01,  2.37183113e+00, -2.90737582e+00,\n",
              "       -9.42655250e+00,  2.19473298e+01, -5.92222555e-01, -2.63935714e+00,\n",
              "       -3.61053373e+00, -8.72543002e+00,  2.32575294e+01,  2.23603732e+00,\n",
              "       -1.33073450e+01, -6.85253832e+00,  4.18606019e+00,  1.58507066e+01,\n",
              "        4.79496758e-01, -8.51859542e+00,  3.46027546e+01, -5.55896659e+00,\n",
              "        1.38258494e+01,  1.25508162e+01, -3.19250548e+00, -8.59664961e+00,\n",
              "        3.47664971e+01, -1.01838810e+00,  1.22951076e+01, -1.20081823e+01,\n",
              "       -1.13880207e+01,  9.18375147e+00, -1.49830943e+01,  1.58361420e+01,\n",
              "       -1.89733584e+01,  1.56649256e+01,  2.29265157e+01, -1.35715699e+01,\n",
              "       -1.37830884e+01,  2.68532293e+01, -5.96647849e+00, -1.35026118e+01,\n",
              "       -9.86747182e+00,  3.44982806e+01,  1.10407400e+01,  5.04476962e+00,\n",
              "        7.66172379e+00, -1.01807554e+01, -7.12888089e+00,  1.58878518e+01,\n",
              "       -1.17025441e+01, -5.84635382e+00,  1.24518545e+01,  1.48057226e+01,\n",
              "       -4.98869445e+00,  9.29770487e+00, -8.33861273e+00, -1.67660760e+01,\n",
              "        1.50306405e+01,  5.74314876e-03,  8.93970346e+00,  6.03806766e+00,\n",
              "        4.85133298e+00,  1.40004406e+01,  2.07776028e+00, -1.05102593e+01,\n",
              "       -1.32770870e+01,  4.18155922e+01, -6.09257999e+00, -1.30470285e+00,\n",
              "        2.36050548e+01, -7.17747585e+00, -7.07200781e+00,  1.53657856e+01,\n",
              "       -8.97973568e+00, -6.81970862e+00, -4.85989425e+00,  1.53730080e+01,\n",
              "        5.94450091e-01,  7.69668747e+00,  3.75419938e+00, -3.81709999e+00,\n",
              "       -1.01022355e+01,  4.24029175e+00,  4.33043789e-01,  3.50952678e+01,\n",
              "        7.04521552e+00, -1.29501456e+00,  1.15332566e+00, -2.62690495e+00,\n",
              "       -8.86987268e+00, -4.86582382e+00, -1.55922924e+01, -1.42433903e+01,\n",
              "        3.90392482e-01, -1.28634128e+01, -1.18620221e+01, -1.04139084e+01,\n",
              "       -1.22692327e+01, -1.06737537e+01,  3.13516852e+01, -7.39167995e+00])"
            ]
          },
          "metadata": {
            "tags": []
          },
          "execution_count": 188
        }
      ]
    },
    {
      "cell_type": "code",
      "metadata": {
        "id": "ugM8a9DQ8nAH",
        "colab_type": "code",
        "outputId": "8e722a1d-979a-4873-c44b-38fed5aaef67",
        "colab": {
          "base_uri": "https://localhost:8080/",
          "height": 34
        }
      },
      "source": [
        "y.shape"
      ],
      "execution_count": 0,
      "outputs": [
        {
          "output_type": "execute_result",
          "data": {
            "text/plain": [
              "(200,)"
            ]
          },
          "metadata": {
            "tags": []
          },
          "execution_count": 194
        }
      ]
    },
    {
      "cell_type": "code",
      "metadata": {
        "id": "Mx7xOaiq8owQ",
        "colab_type": "code",
        "outputId": "b508428f-9a29-4359-e84c-6671d4dc05ca",
        "colab": {
          "base_uri": "https://localhost:8080/",
          "height": 34
        }
      },
      "source": [
        "np.dot(Z,norm_eq_weights).shape"
      ],
      "execution_count": 0,
      "outputs": [
        {
          "output_type": "execute_result",
          "data": {
            "text/plain": [
              "(200,)"
            ]
          },
          "metadata": {
            "tags": []
          },
          "execution_count": 195
        }
      ]
    },
    {
      "cell_type": "code",
      "metadata": {
        "id": "fL9JcSeU-lEk",
        "colab_type": "code",
        "colab": {}
      },
      "source": [
        "# a = np.dot(X.T, X) # преобразуем левую часть\n",
        "# b = np.dot(X.T, y) # преобразуем правую часть\n",
        "# res = np.linalg.solve(a, b) # решаем систему\n",
        "# res"
      ],
      "execution_count": 0,
      "outputs": []
    },
    {
      "cell_type": "code",
      "metadata": {
        "id": "AIPLKFXXz2NG",
        "colab_type": "code",
        "outputId": "f4b8a7e8-e190-4d60-c8df-1c7e77cf8ca2",
        "colab": {
          "base_uri": "https://localhost:8080/",
          "height": 34
        }
      },
      "source": [
        "error = ((y - np.dot(X,norm_eq_weights))**2).sum()  \n",
        "error = error /(y.shape[0])\n",
        "error"
      ],
      "execution_count": 0,
      "outputs": [
        {
          "output_type": "execute_result",
          "data": {
            "text/plain": [
              "2.784126314510936"
            ]
          },
          "metadata": {
            "tags": []
          },
          "execution_count": 216
        }
      ]
    },
    {
      "cell_type": "code",
      "metadata": {
        "id": "p0rrkLcM9etw",
        "colab_type": "code",
        "outputId": "b0e4c83a-c71b-48cd-b31d-f0765cc9e345",
        "colab": {
          "base_uri": "https://localhost:8080/",
          "height": 34
        }
      },
      "source": [
        "from sklearn.metrics import mean_squared_error\n",
        "\n",
        "mean_squared_error(y, np.dot(Z,norm_eq_weights))"
      ],
      "execution_count": 0,
      "outputs": [
        {
          "output_type": "execute_result",
          "data": {
            "text/plain": [
              "281.87321747751315"
            ]
          },
          "metadata": {
            "tags": []
          },
          "execution_count": 196
        }
      ]
    },
    {
      "cell_type": "code",
      "metadata": {
        "id": "mNcPJBR1ftbg",
        "colab_type": "code",
        "outputId": "acca1919-ea2a-465c-e500-3d78a7147e4a",
        "colab": {
          "base_uri": "https://localhost:8080/",
          "height": 34
        }
      },
      "source": [
        "answer3 = error\n",
        "print(round(answer3, 3))"
      ],
      "execution_count": 0,
      "outputs": [
        {
          "output_type": "stream",
          "text": [
            "281.873\n"
          ],
          "name": "stdout"
        }
      ]
    },
    {
      "cell_type": "markdown",
      "metadata": {
        "id": "EQdpypSwftbk",
        "colab_type": "text"
      },
      "source": [
        "**5. Напишите функцию *stochastic_gradient_step*, реализующую шаг стохастического градиентного спуска для линейной регрессии. Функция должна принимать матрицу *X*, вектора *y* и *w*, число *train_ind* - индекс объекта обучающей выборки (строки матрицы *X*), по которому считается изменение весов, а также число *$\\eta$* (eta) - шаг градиентного спуска (по умолчанию *eta*=0.01). Результатом будет вектор обновленных весов. Наша реализация функции будет явно написана для данных с 3 признаками, но несложно модифицировать для любого числа признаков, можете это сделать.**"
      ]
    },
    {
      "cell_type": "markdown",
      "metadata": {
        "id": "BhxT7LKSJ_Yw",
        "colab_type": "text"
      },
      "source": [
        "### Градиент функции потерь\n",
        "$$\\Large \\Delta Q(\\overrightarrow w) = \\frac{2}{N} \\sum_{i=0}^{N} (\\tilde y_i - y_i) * \\overrightarrow x$$"
      ]
    },
    {
      "cell_type": "markdown",
      "metadata": {
        "id": "CA1uJlcTLeH9",
        "colab_type": "text"
      },
      "source": [
        "$$\\Large w_j = w_j - \\frac{2\\eta}{N} \\sum_{i=0}^{N}(\\tilde y_i - y_i)*x_{j}$$"
      ]
    },
    {
      "cell_type": "markdown",
      "metadata": {
        "id": "HxfLMvc8LVQm",
        "colab_type": "text"
      },
      "source": [
        "#### Но, когда у нас очень большая матрица с данными (N велико), то на каждом шаге пересчитывать все значения не очень эффективно, поэтому используют так называемую стохастическую реализацию градиентного спуска в котором мы суммирование по всем данным заменяем на случайный объект из нашей матрицы признаков"
      ]
    },
    {
      "cell_type": "markdown",
      "metadata": {
        "id": "72y9sDKcI7aU",
        "colab_type": "text"
      },
      "source": [
        "### Выражение для обновления весов\n",
        "\n",
        "$$\\Large w_j = w_j - \\frac{2\\eta}{N}(\\tilde y_k - y_k)*x_{jk}$$"
      ]
    },
    {
      "cell_type": "code",
      "metadata": {
        "id": "D-KTiD1Zftbn",
        "colab_type": "code",
        "colab": {}
      },
      "source": [
        "def stochastic_gradient_step(X, y, w, train_ind, eta=0.01):\n",
        "    N = len(y)\n",
        "    x = X[train_ind] # Рандомную строку матрицы X\n",
        "    yk = y[train_ind]\n",
        "    y_pred = np.dot(x, w) # Делаем предсказание\n",
        "    grad0 = 2/N*(y_pred - yk)*x[0]\n",
        "    grad1 = 2/N*(y_pred - yk)*x[1]\n",
        "    grad2 = 2/N*(y_pred - yk)*x[2]\n",
        "    grad3 = 2/N*(y_pred - yk)*x[3]\n",
        "    return  w - eta * np.array([grad0, grad1, grad2, grad3]) # Выражение для обновления весов"
      ],
      "execution_count": 0,
      "outputs": []
    },
    {
      "cell_type": "code",
      "metadata": {
        "id": "Wuen3PjukfRF",
        "colab_type": "code",
        "outputId": "b7c03e27-9c5c-495f-8b07-4d9ef8e6614b",
        "colab": {
          "base_uri": "https://localhost:8080/",
          "height": 385
        }
      },
      "source": [
        "# Мой пример для тренировки\n",
        "from mpl_toolkits.mplot3d import Axes3D\n",
        "import numpy as np\n",
        "import matplotlib.pyplot as plt\n",
        "np.random.seed(1)\n",
        "# w0 + w1*x1 + w2*x2\n",
        "\n",
        "# Предположим истинный ответ\n",
        "def f(x, y):\n",
        "  return 5 + 5*x + 200*y\n",
        "\n",
        "def fw(w0, w1, w2, x, y):\n",
        "#   print(w0, w1, w2, x, y)\n",
        "  return w0 + w1*x + w2*y\n",
        "\n",
        "X = []\n",
        "Y = []\n",
        "Z = []\n",
        "for x in range(-5,6):\n",
        "  for y in range(-5,6):\n",
        "    X.append(x)\n",
        "    Y.append(y)\n",
        "    Z.append(f(x, y))\n",
        "    \n",
        "def step(w, say, eta=0.1):\n",
        "    N = len(Z)\n",
        "    t = np.random.randint(N)\n",
        "    y_pred = fw(w[0], w[1], w[2], X[t], Y[t])\n",
        "        \n",
        "    grad0 = 2/N*(y_pred - Z[t])*1\n",
        "    grad1 = 2/N*(y_pred - Z[t])*X[t]\n",
        "    grad2 = 2/N*(y_pred - Z[t])*Y[t]\n",
        "    new_w = w - eta * np.array([grad0, grad1, grad2])\n",
        "    \n",
        "#     print('-------------------')\n",
        "#     print('w', w)\n",
        "#     print('x, y', X[t], Y[t])\n",
        "#     print('z', Z[t])\n",
        "#     print('y_pred', y_pred)\n",
        "#     print('grad',2/N*(y_pred - Z[t]))\n",
        "#     print(grad0, grad1, grad2)\n",
        "#     print(new_w)\n",
        "    \n",
        "    return new_w # Выражение для обновления весов\n",
        "\n",
        "W0 = []\n",
        "W1 = []\n",
        "W2 = []\n",
        "  \n",
        "w = step([0,0,0], False)\n",
        "W0.append(w[0])\n",
        "W1.append(w[1])\n",
        "W2.append(w[2])\n",
        "I = [0]\n",
        "\n",
        "for i in range(1,1000):\n",
        "  I.append(i)\n",
        "  if i > 1190:  \n",
        "    w = step(w, True)\n",
        "  else:\n",
        "    w = step(w, False)  \n",
        "  W0.append(w[0])\n",
        "  W1.append(w[1])\n",
        "  W2.append(w[2])\n",
        "  \n",
        "print(w)\n",
        "\n",
        "%pylab inline\n",
        "xlabel('I')\n",
        "ylabel('W0')\n",
        "plot(I,W0,label='W0')\n",
        "plot(I,W1,label='W1')\n",
        "plot(I,W2,label='W2')\n",
        "legend(loc='upper left')\n"
      ],
      "execution_count": 0,
      "outputs": [
        {
          "output_type": "stream",
          "text": [
            "[  5.63213512   5.00364372 199.97932335]\n",
            "Populating the interactive namespace from numpy and matplotlib\n"
          ],
          "name": "stdout"
        },
        {
          "output_type": "stream",
          "text": [
            "/usr/local/lib/python3.6/dist-packages/IPython/core/magics/pylab.py:161: UserWarning: pylab import has clobbered these variables: ['step', 'f']\n",
            "`%matplotlib` prevents importing * from pylab and numpy\n",
            "  \"\\n`%matplotlib` prevents importing * from pylab and numpy\"\n"
          ],
          "name": "stderr"
        },
        {
          "output_type": "execute_result",
          "data": {
            "text/plain": [
              "<matplotlib.legend.Legend at 0x7fe839323c18>"
            ]
          },
          "metadata": {
            "tags": []
          },
          "execution_count": 91
        },
        {
          "output_type": "display_data",
          "data": {
            "image/png": "[encoded data removed]",
            "text/plain": [
              "<Figure size 432x288 with 1 Axes>"
            ]
          },
          "metadata": {
            "tags": []
          }
        }
      ]
    },
    {
      "cell_type": "code",
      "metadata": {
        "id": "5tgnb9eyIsFg",
        "colab_type": "code",
        "colab": {}
      },
      "source": [
        "# Мой пример для тренировки функции модуля\n",
        "from mpl_toolkits.mplot3d import Axes3D\n",
        "import numpy as np\n",
        "import matplotlib.pyplot as plt\n",
        "np.random.seed(1)\n",
        "\n",
        "# Предположим истинный ответ\n",
        "def f(x):\n",
        "  return 200 + 5*x\n",
        "\n",
        "def fw(w0, w1, x):\n",
        "#   print(w0, w1, w2, x, y)\n",
        "  return w1*x \n",
        "\n",
        "X = []\n",
        "Y = []\n",
        "for x in range(-5,6):\n",
        "  for y in range(-5,6):\n",
        "    X.append(x)\n",
        "    Y.append(f(x))\n",
        "    \n",
        "def step(w, eta=0.1):\n",
        "    N = len(Z)\n",
        "    t = np.random.randint(N)\n",
        "    y_pred = fw(w[0], w[1], X[t])\n",
        "        \n",
        "    grad0 = 1/N*(y_pred - Y[t])*1\n",
        "    grad1 = 1/N*(y_pred - Y[t])*X[t]\n",
        "    new_w = w - eta * np.array([grad0, grad1, grad2])\n",
        "    \n",
        "#     print('-------------------')\n",
        "#     print('w', w)\n",
        "#     print('x, y', X[t], Y[t])\n",
        "#     print('z', Z[t])\n",
        "#     print('y_pred', y_pred)\n",
        "#     print('grad',2/N*(y_pred - Z[t]))\n",
        "#     print(grad0, grad1, grad2)\n",
        "#     print(new_w)\n",
        "    \n",
        "    return new_w # Выражение для обновления весов\n",
        "\n",
        "W0 = []\n",
        "W1 = []\n",
        "W2 = []\n",
        "  \n",
        "w = step([0,0,0], False)\n",
        "W0.append(w[0])\n",
        "W1.append(w[1])\n",
        "W2.append(w[2])\n",
        "I = [0]\n",
        "\n",
        "for i in range(1,1000):\n",
        "  I.append(i)\n",
        "  if i > 1190:  \n",
        "    w = step(w, True)\n",
        "  else:\n",
        "    w = step(w, False)  \n",
        "  W0.append(w[0])\n",
        "  W1.append(w[1])\n",
        "  W2.append(w[2])\n",
        "  \n",
        "print(w)"
      ],
      "execution_count": 0,
      "outputs": []
    },
    {
      "cell_type": "code",
      "metadata": {
        "id": "7Y5jCAtDosmh",
        "colab_type": "code",
        "outputId": "faf5c71e-a6d6-40be-fea6-b43d3da63fec",
        "colab": {
          "base_uri": "https://localhost:8080/",
          "height": 248
        }
      },
      "source": [
        "fig = plt.figure()\n",
        "ax = fig.gca(projection='3d') # get current axis\n",
        "\n",
        "# Создаем массивы NumPy с координатами точек по осям X и У. \n",
        "# Используем метод meshgrid, при котором по векторам координат \n",
        "# создается матрица координат. Задаем нужную функцию Z(x, y).\n",
        "X = np.arange(-5, 6, 0.25)\n",
        "Y = np.arange(-5, 6, 0.25)\n",
        "X, Y = np.meshgrid(X, Y)\n",
        "Z = f(X, Y)\n",
        "\n",
        "# Наконец, используем метод *plot_surface* объекта \n",
        "# типа Axes3DSubplot. Также подписываем оси.\n",
        "surf = ax.plot_surface(X, Y, Z)\n",
        "ax.set_xlabel('X')\n",
        "ax.set_ylabel('Y')\n",
        "ax.set_zlabel('Z')\n",
        "plt.show()"
      ],
      "execution_count": 0,
      "outputs": [
        {
          "output_type": "display_data",
          "data": {
            "image/png": "[encoded data removed]",
            "text/plain": [
              "<Figure size 432x288 with 1 Axes>"
            ]
          },
          "metadata": {
            "tags": []
          }
        }
      ]
    },
    {
      "cell_type": "markdown",
      "metadata": {
        "id": "oVBUB-uPftbr",
        "colab_type": "text"
      },
      "source": [
        "**6. Напишите функцию *stochastic_gradient_descent*, реализующую стохастический градиентный спуск для линейной регрессии. Функция принимает на вход следующие аргументы:**\n",
        "- X - матрица, соответствующая обучающей выборке\n",
        "- y - вектор значений целевого признака\n",
        "- w_init - вектор начальных весов модели\n",
        "- eta - шаг градиентного спуска (по умолчанию 0.01)\n",
        "- max_iter - максимальное число итераций градиентного спуска (по умолчанию 10000)\n",
        "- max_weight_dist - максимальное евклидово расстояние между векторами весов на соседних итерациях градиентного спуска,\n",
        "при котором алгоритм прекращает работу (по умолчанию 1e-8)\n",
        "- seed - число, используемое для воспроизводимости сгенерированных псевдослучайных чисел (по умолчанию 42)\n",
        "- verbose - флаг печати информации (например, для отладки, по умолчанию False)\n",
        "\n",
        "**На каждой итерации в вектор (список) должно записываться текущее значение среднеквадратичной ошибки. Функция должна возвращать вектор весов $w$, а также вектор (список) ошибок.**"
      ]
    },
    {
      "cell_type": "code",
      "metadata": {
        "id": "KuirBTrtftbs",
        "colab_type": "code",
        "colab": {}
      },
      "source": [
        "def stochastic_gradient_descent(X, y, w_init, eta=1e-2, max_iter=1e4,\n",
        "                                max_weight_dist=1e-8, seed=42, verbose=False):\n",
        "    # Инициализируем расстояние между векторами весов на соседних\n",
        "    # итерациях большим числом. \n",
        "    weight_dist = np.inf\n",
        "    # Инициализируем вектор весов\n",
        "    w = w_init\n",
        "    # Сюда будем записывать ошибки на каждой итерации\n",
        "    errors = []\n",
        "    # Счетчик итераций\n",
        "    iter_num = 0\n",
        "    # Будем порождать псевдослучайные числа \n",
        "    # (номер объекта, который будет менять веса), а для воспроизводимости\n",
        "    # этой последовательности псевдослучайных чисел используем seed.\n",
        "    np.random.seed(seed)\n",
        "        \n",
        "    # Основной цикл\n",
        "    while weight_dist > max_weight_dist and iter_num < max_iter:\n",
        "        # порождаем псевдослучайный \n",
        "        # индекс объекта обучающей выборки\n",
        "        random_ind = np.random.randint(X.shape[0])\n",
        "        \n",
        "        new_w = stochastic_gradient_step(X, y, w, random_ind, eta)\n",
        "        errors.append(((y - np.dot(X,w))**2).sum()/(y.shape[0]))\n",
        "                      \n",
        "        weight_dist = np.linalg.norm(w-new_w)\n",
        "        w = new_w\n",
        "        iter_num += 1\n",
        "        \n",
        "    return w, errors"
      ],
      "execution_count": 0,
      "outputs": []
    },
    {
      "cell_type": "markdown",
      "metadata": {
        "id": "tZzRAzr2ftbv",
        "colab_type": "text"
      },
      "source": [
        " **Запустите $10^5$ итераций стохастического градиентного спуска. Укажите вектор начальных весов *w_init*, состоящий из нулей. Оставьте параметры  *eta* и *seed* равными их значениям по умолчанию (*eta*=0.01, *seed*=42 - это важно для проверки ответов).**"
      ]
    },
    {
      "cell_type": "code",
      "metadata": {
        "id": "5SXagQ6rftbx",
        "colab_type": "code",
        "outputId": "5d247fc0-7d27-4e08-d7b3-f01028182b63",
        "colab": {
          "base_uri": "https://localhost:8080/",
          "height": 51
        }
      },
      "source": [
        "%%time\n",
        "stoch_grad_desc_weights, stoch_errors_by_iter = stochastic_gradient_descent(X, y, [0,0,0,0],max_iter= 10**5)"
      ],
      "execution_count": 0,
      "outputs": [
        {
          "output_type": "stream",
          "text": [
            "CPU times: user 2.13 s, sys: 0 ns, total: 2.13 s\n",
            "Wall time: 2.14 s\n"
          ],
          "name": "stdout"
        }
      ]
    },
    {
      "cell_type": "markdown",
      "metadata": {
        "id": "kgmkz21Sftbz",
        "colab_type": "text"
      },
      "source": [
        "**Посмотрим, чему равна ошибка на первых 50 итерациях стохастического градиентного спуска. Видим, что ошибка не обязательно уменьшается на каждой итерации.**"
      ]
    },
    {
      "cell_type": "code",
      "metadata": {
        "id": "ikpmeMNRftb2",
        "colab_type": "code",
        "outputId": "7976e14e-e279-435f-a032-b93702df204a",
        "colab": {
          "base_uri": "https://localhost:8080/",
          "height": 317
        }
      },
      "source": [
        "%pylab inline\n",
        "plot(range(50), stoch_errors_by_iter[:50])\n",
        "xlabel('Iteration number')\n",
        "ylabel('MSE')"
      ],
      "execution_count": 0,
      "outputs": [
        {
          "output_type": "stream",
          "text": [
            "Populating the interactive namespace from numpy and matplotlib\n"
          ],
          "name": "stdout"
        },
        {
          "output_type": "execute_result",
          "data": {
            "text/plain": [
              "Text(0, 0.5, 'MSE')"
            ]
          },
          "metadata": {
            "tags": []
          },
          "execution_count": 22
        },
        {
          "output_type": "display_data",
          "data": {
            "image/png": "[encoded data removed]",
            "text/plain": [
              "<Figure size 432x288 with 1 Axes>"
            ]
          },
          "metadata": {
            "tags": []
          }
        }
      ]
    },
    {
      "cell_type": "markdown",
      "metadata": {
        "id": "DndZwBDNftb4",
        "colab_type": "text"
      },
      "source": [
        "**Теперь посмотрим на зависимость ошибки от номера итерации для $10^5$ итераций стохастического градиентного спуска. Видим, что алгоритм сходится.**"
      ]
    },
    {
      "cell_type": "code",
      "metadata": {
        "id": "LbaWMJlKftb4",
        "colab_type": "code",
        "outputId": "572bffdd-ba35-49e6-f3da-3689aa0511de",
        "colab": {
          "base_uri": "https://localhost:8080/",
          "height": 317
        }
      },
      "source": [
        "%pylab inline\n",
        "plot(range(len(stoch_errors_by_iter)), stoch_errors_by_iter)\n",
        "xlabel('Iteration number')\n",
        "ylabel('MSE')"
      ],
      "execution_count": 0,
      "outputs": [
        {
          "output_type": "stream",
          "text": [
            "Populating the interactive namespace from numpy and matplotlib\n"
          ],
          "name": "stdout"
        },
        {
          "output_type": "execute_result",
          "data": {
            "text/plain": [
              "Text(0, 0.5, 'MSE')"
            ]
          },
          "metadata": {
            "tags": []
          },
          "execution_count": 23
        },
        {
          "output_type": "display_data",
          "data": {
            "image/png": "[encoded data removed]",
            "text/plain": [
              "<Figure size 432x288 with 1 Axes>"
            ]
          },
          "metadata": {
            "tags": []
          }
        }
      ]
    },
    {
      "cell_type": "markdown",
      "metadata": {
        "id": "roHGmuxTftb6",
        "colab_type": "text"
      },
      "source": [
        "**Посмотрим на вектор весов, к которому сошелся метод.**"
      ]
    },
    {
      "cell_type": "code",
      "metadata": {
        "id": "55dU8-xIftb7",
        "colab_type": "code",
        "outputId": "5f1dedf4-aa66-4ed4-b099-636e3f8ffd4f",
        "colab": {
          "base_uri": "https://localhost:8080/",
          "height": 34
        }
      },
      "source": [
        "stoch_grad_desc_weights"
      ],
      "execution_count": 0,
      "outputs": [
        {
          "output_type": "execute_result",
          "data": {
            "text/plain": [
              "array([ 1.40190566e+01,  3.91069256e+00,  2.78209808e+00, -8.10462217e-03])"
            ]
          },
          "metadata": {
            "tags": []
          },
          "execution_count": 24
        }
      ]
    },
    {
      "cell_type": "markdown",
      "metadata": {
        "id": "VE7tSOG-ftb8",
        "colab_type": "text"
      },
      "source": [
        "**Посмотрим на среднеквадратичную ошибку на последней итерации.**"
      ]
    },
    {
      "cell_type": "code",
      "metadata": {
        "id": "YyxcNKwaftb9",
        "colab_type": "code",
        "outputId": "f2706277-f5e3-4c02-f052-6fda2794a586",
        "colab": {
          "base_uri": "https://localhost:8080/",
          "height": 34
        }
      },
      "source": [
        "stoch_errors_by_iter[-1]"
      ],
      "execution_count": 0,
      "outputs": [
        {
          "output_type": "execute_result",
          "data": {
            "text/plain": [
              "2.784412588352759"
            ]
          },
          "metadata": {
            "tags": []
          },
          "execution_count": 25
        }
      ]
    },
    {
      "cell_type": "markdown",
      "metadata": {
        "id": "cvFLxGVtftb_",
        "colab_type": "text"
      },
      "source": [
        "**Какова среднеквадратичная ошибка прогноза значений Sales в виде линейной модели с весами, найденными с помощью градиентного спуска? Полученный результат, округленный до 3 знаков после запятой, является ответом на *'4 задание'*.**"
      ]
    },
    {
      "cell_type": "code",
      "metadata": {
        "id": "qf1vfqWsftb_",
        "colab_type": "code",
        "outputId": "07d2ee1d-511a-4264-90e0-f6fec7e85e6f",
        "colab": {
          "base_uri": "https://localhost:8080/",
          "height": 34
        }
      },
      "source": [
        "answer4 = ((y - np.dot(X,stoch_grad_desc_weights))**2).sum()/(y.shape[0])\n",
        "print(round(answer4, 3))"
      ],
      "execution_count": 0,
      "outputs": [
        {
          "output_type": "stream",
          "text": [
            "2.784\n"
          ],
          "name": "stdout"
        }
      ]
    }
  ]
}