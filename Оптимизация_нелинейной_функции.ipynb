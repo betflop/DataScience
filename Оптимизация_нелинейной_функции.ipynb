{
  "nbformat": 4,
  "nbformat_minor": 0,
  "metadata": {
    "colab": {
      "name": "Оптимизация нелинейной функции.ipynb",
      "provenance": [],
      "authorship_tag": "ABX9TyNF2uob4bf8kX+qEAdC/Kdc",
      "include_colab_link": true
    },
    "kernelspec": {
      "name": "python3",
      "display_name": "Python 3"
    }
  },
  "cells": [
    {
      "cell_type": "markdown",
      "metadata": {
        "id": "view-in-github",
        "colab_type": "text"
      },
      "source": [
        "<a href=\"https://colab.research.google.com/github/pavlyk/DataScience/blob/master/%D0%9E%D0%BF%D1%82%D0%B8%D0%BC%D0%B8%D0%B7%D0%B0%D1%86%D0%B8%D1%8F_%D0%BD%D0%B5%D0%BB%D0%B8%D0%BD%D0%B5%D0%B9%D0%BD%D0%BE%D0%B9_%D1%84%D1%83%D0%BD%D0%BA%D1%86%D0%B8%D0%B8.ipynb\" target=\"_parent\"><img src=\"https://colab.research.google.com/assets/colab-badge.svg\" alt=\"Open In Colab\"/></a>"
      ]
    },
    {
      "cell_type": "code",
      "metadata": {
        "id": "RZflG356-BhD",
        "colab_type": "code",
        "colab": {
          "base_uri": "https://localhost:8080/",
          "height": 170
        },
        "outputId": "06df41d7-9695-48ab-8e7d-2ad14f074645"
      },
      "source": [
        "from scipy.optimize import minimize\n",
        "import numpy as np\n",
        "\n",
        "x = [0,1,2,3,4,5,6,7,8,9,10]\n",
        "y = [0,1,4,9,16,25,36,49,64,89,100]\n",
        "\n",
        "def error2(params):\n",
        "  w_0, w_1 = params\n",
        "  s = 0.\n",
        "  \n",
        "  for i in range(1,12):\n",
        "    s += (y[i-1]-(w_0+w_1*x[i-1]))**2\n",
        "\n",
        "  return s\n",
        "\n",
        "res = minimize(error2, np.array([0, 0]), method='L-BFGS-B',bounds=[(-100,100),(-5,5)])\n",
        "print(res)"
      ],
      "execution_count": 27,
      "outputs": [
        {
          "output_type": "stream",
          "text": [
            "      fun: 4082.181818181829\n",
            " hess_inv: <2x2 LbfgsInvHessProduct with dtype=float64>\n",
            "      jac: array([    0.        , -1164.00005936])\n",
            "  message: b'CONVERGENCE: NORM_OF_PROJECTED_GRADIENT_<=_PGTOL'\n",
            "     nfev: 18\n",
            "      nit: 4\n",
            "   status: 0\n",
            "  success: True\n",
            "        x: array([10.72727173,  5.        ])\n"
          ],
          "name": "stdout"
        }
      ]
    },
    {
      "cell_type": "code",
      "metadata": {
        "id": "rabwgj3F-69F",
        "colab_type": "code",
        "colab": {
          "base_uri": "https://localhost:8080/",
          "height": 265
        },
        "outputId": "cdb1ebab-18fe-41b0-ce35-1a61bb3ab105"
      },
      "source": [
        "import matplotlib.pyplot as plt\n",
        "import math as math\n",
        "import numpy as np\n",
        "\n",
        "def f1(x):\n",
        "    return x**2\n",
        "\n",
        "def f2(x, w_0, w_1):\n",
        "    return w_0 + w_1*x\n",
        "\n",
        "x = np.linspace(0,10,20)\n",
        "y1 = np.array([])\n",
        "y2 = np.array([])\n",
        "\n",
        "for i in x:\n",
        "    y1 = np.append(y1, f1(i))\n",
        "    y2 = np.append(y2, f2(i, 10.72727173, 5))\n",
        "    \n",
        "plt.plot(x, y1)\n",
        "plt.plot(x, y2, '-.')\n",
        "plt.show()"
      ],
      "execution_count": 29,
      "outputs": [
        {
          "output_type": "display_data",
          "data": {
            "image/png": "[encoded data removed]",
            "text/plain": [
              "<Figure size 432x288 with 1 Axes>"
            ]
          },
          "metadata": {
            "tags": []
          }
        }
      ]
    },
    {
      "cell_type": "code",
      "metadata": {
        "id": "aOtlqYGLACNv",
        "colab_type": "code",
        "colab": {}
      },
      "source": [
        ""
      ],
      "execution_count": 0,
      "outputs": []
    }
  ]
}